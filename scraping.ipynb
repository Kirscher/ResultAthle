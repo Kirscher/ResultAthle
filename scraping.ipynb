{
 "cells": [
  {
   "cell_type": "markdown",
   "id": "394cf797",
   "metadata": {},
   "source": [
    "## Etape 1 : Scraping des résultats depuis bases.athle"
   ]
  },
  {
   "cell_type": "markdown",
   "id": "ff87d1ef",
   "metadata": {},
   "source": [
    "Objectifs :\n",
    "+ créer un pipeline pour récupérer les données d'une compétition d'athlétisme (course sur route, trail, cross, ...)\n",
    "+ retourner ces données sous la forme d'une table relationnelle\n",
    "+ par la suite, exploiter cette table pour créer des statistiques et visualisations sur les compétitions\n",
    "\n",
    "Format d'une URL de bases.athle :\n",
    "+ ? avant la requête\n",
    "+ & pour ajouter des paramètres à la recherche \n",
    "\n",
    "bases.athle.fr/asp.net/liste.aspx**?frmbase=resultats**&**frmmode=1**&**frmespace=0**&**frmcompetition=**274211\n",
    "\n",
    "Liste des paramètres pour une recherche par athlète :\n",
    "+ frmsaison\n",
    "+ frmclub\n",
    "+ frmnom\n",
    "+ frmprenom\n",
    "+ frmsexe\n",
    "+ frmlicence\n",
    "+ frmdepartement\n",
    "+ frmligue\n",
    "+ frmcomprch\n"
   ]
  },
  {
   "cell_type": "markdown",
   "id": "6888fcb0",
   "metadata": {},
   "source": [
    "### Installation de la libraire lxml"
   ]
  },
  {
   "cell_type": "code",
   "execution_count": 1,
   "id": "ce20f839",
   "metadata": {},
   "outputs": [
    {
     "name": "stdout",
     "output_type": "stream",
     "text": [
      "Requirement already satisfied: lxml in c:\\users\\trist\\anaconda3\\lib\\site-packages (4.6.3)\n"
     ]
    },
    {
     "name": "stderr",
     "output_type": "stream",
     "text": [
      "WARNING: You are using pip version 22.0.4; however, version 22.3.1 is available.\n",
      "You should consider upgrading via the 'c:\\users\\trist\\anaconda3\\python.exe -m pip install --upgrade pip' command.\n"
     ]
    }
   ],
   "source": [
    "!pip install lxml"
   ]
  },
  {
   "cell_type": "markdown",
   "id": "368b2b9b",
   "metadata": {},
   "source": [
    "### Import des librairies requises"
   ]
  },
  {
   "cell_type": "code",
   "execution_count": 2,
   "id": "a32e023f-5eb6-405e-92b8-68128814c4a4",
   "metadata": {},
   "outputs": [],
   "source": [
    "import lxml\n",
    "import urllib\n",
    "import bs4\n",
    "import pandas as pd\n",
    "import re\n",
    "from urllib import request"
   ]
  },
  {
   "cell_type": "code",
   "execution_count": 3,
   "id": "8e343f45-cd3c-414d-a7d3-a0080e4055bc",
   "metadata": {},
   "outputs": [],
   "source": [
    "#Exemple de résultats d'une compétition\n",
    "url=\"https://bases.athle.fr/asp.net/liste.aspx?frmbase=resultats&frmmode=1&frmespace=0&frmcompetition=253657\""
   ]
  },
  {
   "cell_type": "code",
   "execution_count": 4,
   "id": "0700923c-817d-45d8-8f16-6844c7083628",
   "metadata": {},
   "outputs": [],
   "source": [
    "request_text = request.urlopen(url).read()"
   ]
  },
  {
   "cell_type": "code",
   "execution_count": 5,
   "id": "3fa7d9bf-2081-4ee4-855b-2623c3a90dd0",
   "metadata": {},
   "outputs": [],
   "source": [
    "page = bs4.BeautifulSoup(request_text, \"lxml\")"
   ]
  },
  {
   "cell_type": "markdown",
   "id": "92e97b96-317c-4560-95ba-02fa2be1e61e",
   "metadata": {
    "tags": []
   },
   "source": [
    "### Dictionnaires utiles"
   ]
  },
  {
   "cell_type": "markdown",
   "id": "27b17efd-f0be-47d9-827f-433a58d6be31",
   "metadata": {},
   "source": [
    "#### Catégories de performance et cotation d'après table FFA"
   ]
  },
  {
   "cell_type": "code",
   "execution_count": 6,
   "id": "a3ba3358-8c4a-431b-b885-bf31951fedb0",
   "metadata": {},
   "outputs": [],
   "source": [
    "#bareme et table de cotation\n",
    "#source: https://www.athle.fr/asp.net/main.html/html.aspx?htmlid=125\n",
    "\n",
    "perf = {'IA': 40, 'IB': 35, #international\n",
    "        'N1': 30, 'N2': 28, 'N3': 26, 'N4': 24, #national\n",
    "        'IR1': 21, 'IR2': 20, 'IR3': 19, 'IR4': 18, #inter-regional\n",
    "        'R1': 15, 'R2': 14, 'R3': 13, 'R4': 12, 'R5': 11, 'R6': 10, #regional\n",
    "        'D1': 8, 'D2': 7, 'D3': 6, 'D4': 5, 'D5': 4, 'D6': 3, 'D7': 2} #departemental"
   ]
  },
  {
   "cell_type": "markdown",
   "id": "4b4e033e-3d9a-40c7-9036-6dbbe9d15b79",
   "metadata": {},
   "source": [
    "#### Catégories d'âge d'après la réglementation FFA"
   ]
  },
  {
   "cell_type": "code",
   "execution_count": 7,
   "id": "020dd230-4914-420d-a85d-6f78eca3c228",
   "metadata": {},
   "outputs": [],
   "source": [
    "#categories d'âge en 2023\n",
    "#source: https://www.athle.fr/asp.net/main.html/html.aspx?htmlid=25\n",
    "\n",
    "cat = {'M10': 'Masters 10', 'M9': 'Masters 9', 'M8': 'Masters 8', 'M7': 'Masters 7', 'M6': 'Masters 6',\n",
    "       'M5': 'Masters 5', 'M4': 'Masters 4', 'M3': 'Masters 3', 'M2': 'Masters 2', 'M1': 'Masters 1', 'M0': 'Masters 0',\n",
    "       'SE': 'Seniors',\n",
    "       'JU': 'Juniors',\n",
    "       'CA': 'Cadet.te.s',\n",
    "       'MI': 'Minimes',\n",
    "       'BE': 'Benjamin.e.s',\n",
    "       'PO': 'Poussins',\n",
    "       'EA': 'École d\\'Athlétisme',\n",
    "       'BB': 'Baby Athlé'}"
   ]
  },
  {
   "cell_type": "markdown",
   "id": "06357057",
   "metadata": {},
   "source": [
    "## Date, nom, lieu, ligue, label et département de la compétition"
   ]
  },
  {
   "cell_type": "code",
   "execution_count": 8,
   "id": "2fb63430",
   "metadata": {},
   "outputs": [
    {
     "name": "stdout",
     "output_type": "stream",
     "text": [
      "<div class=\"mainheaders\">06/11/22 - 10 km de Riorges<br/><span style=\"font-size:13px\">Riorges - ARA - 042 - Label Régional</span></div>\n"
     ]
    }
   ],
   "source": [
    "header = page.find('div', {'class' : \"mainheaders\"})\n",
    "header=str(header)\n",
    "print(header)"
   ]
  },
  {
   "cell_type": "markdown",
   "id": "b998c182",
   "metadata": {},
   "source": [
    "#### Nom de la compétition"
   ]
  },
  {
   "cell_type": "code",
   "execution_count": 9,
   "id": "6a673c63",
   "metadata": {},
   "outputs": [
    {
     "name": "stdout",
     "output_type": "stream",
     "text": [
      "10 km de Riorges\n"
     ]
    }
   ],
   "source": [
    "re_nom = re.compile(\"(?<=\\- )(.*?)(?=\\<)\")\n",
    "text = re_nom.findall(header)\n",
    "nom = text[0]\n",
    "sous_titre = text[1]\n",
    "print(nom)"
   ]
  },
  {
   "cell_type": "markdown",
   "id": "d2852cec",
   "metadata": {},
   "source": [
    "#### Lieu de la compétition"
   ]
  },
  {
   "cell_type": "code",
   "execution_count": 10,
   "id": "a4a471b5",
   "metadata": {},
   "outputs": [
    {
     "name": "stdout",
     "output_type": "stream",
     "text": [
      "Riorges\n"
     ]
    }
   ],
   "source": [
    "re_lieu = re.compile(\"(?<=\\>)(\\D*?)(?=\\ -)\")\n",
    "lieu = re_lieu.findall(header)[0]\n",
    "print(lieu)"
   ]
  },
  {
   "cell_type": "markdown",
   "id": "5dc5abdb",
   "metadata": {},
   "source": [
    "#### Date de la compétition"
   ]
  },
  {
   "cell_type": "code",
   "execution_count": 11,
   "id": "57bf2f67",
   "metadata": {},
   "outputs": [
    {
     "name": "stdout",
     "output_type": "stream",
     "text": [
      "06/11/22\n"
     ]
    }
   ],
   "source": [
    "re_date = re.compile(\"[0-9]{2}/[0-9]{2}/[0-9]{2}\")\n",
    "date = re_date.findall(header)[0]\n",
    "print(date)"
   ]
  },
  {
   "cell_type": "markdown",
   "id": "d3fcfbbd",
   "metadata": {},
   "source": [
    "#### Ligue de la compétition"
   ]
  },
  {
   "cell_type": "code",
   "execution_count": 12,
   "id": "83ed89e5",
   "metadata": {},
   "outputs": [
    {
     "name": "stdout",
     "output_type": "stream",
     "text": [
      "ARA\n"
     ]
    }
   ],
   "source": [
    "soustitre = nom[1]\n",
    "re_ligue = re.compile(\"[A-Z]{3}\")\n",
    "ligue = re_ligue.findall(sous_titre)[0]\n",
    "print(ligue)"
   ]
  },
  {
   "cell_type": "markdown",
   "id": "b6f64f84",
   "metadata": {},
   "source": [
    "#### Département de la compétition"
   ]
  },
  {
   "cell_type": "code",
   "execution_count": 13,
   "id": "49a1ee53",
   "metadata": {},
   "outputs": [
    {
     "name": "stdout",
     "output_type": "stream",
     "text": [
      "042\n"
     ]
    }
   ],
   "source": [
    "re_dept = re.compile(\"[0-9]{3}\")\n",
    "dept = re_dept.findall(sous_titre)[0]\n",
    "print(dept)"
   ]
  },
  {
   "cell_type": "markdown",
   "id": "06697bff",
   "metadata": {},
   "source": [
    "#### Label de la compétition (en cours)"
   ]
  },
  {
   "cell_type": "code",
   "execution_count": 14,
   "id": "36b06ca5",
   "metadata": {},
   "outputs": [
    {
     "name": "stdout",
     "output_type": "stream",
     "text": [
      "Régional\n"
     ]
    }
   ],
   "source": [
    "re_label = re.compile(\"(?<=Label ).*(?<!')\")\n",
    "try:\n",
    "    label = re_label.findall(sous_titre)[0]\n",
    "    print(label)\n",
    "except IndexError:\n",
    "    print(\"Pas de label pour cette compétition\")"
   ]
  },
  {
   "cell_type": "markdown",
   "id": "6a808eea-eb29-4d22-a597-066b431cb277",
   "metadata": {},
   "source": [
    "#### Données de la compétition sous forme de dictionnaire"
   ]
  },
  {
   "cell_type": "code",
   "execution_count": 15,
   "id": "7b8f1028-1480-4468-b701-7b959a4a5a6a",
   "metadata": {},
   "outputs": [],
   "source": [
    "compet= {'nom': nom,\n",
    "      'lieu': lieu,\n",
    "      'date': date,\n",
    "      'ligue': ligue,\n",
    "      'dept': dept,\n",
    "      'label': label}"
   ]
  },
  {
   "cell_type": "code",
   "execution_count": 16,
   "id": "34d17988-374a-4189-ad14-a81abb5fff8c",
   "metadata": {},
   "outputs": [
    {
     "data": {
      "text/plain": [
       "'042'"
      ]
     },
     "execution_count": 16,
     "metadata": {},
     "output_type": "execute_result"
    }
   ],
   "source": [
    "compet['dept']"
   ]
  },
  {
   "cell_type": "code",
   "execution_count": 17,
   "id": "e90a1db7-bc1b-4b2d-83b5-564e5af3e49b",
   "metadata": {},
   "outputs": [
    {
     "name": "stdout",
     "output_type": "stream",
     "text": [
      "<title>les Résultats des Compétitions</title>\n"
     ]
    }
   ],
   "source": [
    "print(page.find(\"title\"))"
   ]
  },
  {
   "cell_type": "code",
   "execution_count": 18,
   "id": "88cc3164",
   "metadata": {},
   "outputs": [
    {
     "name": "stdout",
     "output_type": "stream",
     "text": [
      "None\n"
     ]
    }
   ],
   "source": [
    "print(page.find(\"mainheaders\"))"
   ]
  },
  {
   "cell_type": "code",
   "execution_count": 19,
   "id": "5646cb67",
   "metadata": {},
   "outputs": [
    {
     "name": "stdout",
     "output_type": "stream",
     "text": [
      "Il y a 257 éléments dans la page qui sont des <tr>\n"
     ]
    }
   ],
   "source": [
    "print(\"Il y a\", len(page.findAll(\"tr\")), \"éléments dans la page qui sont des <tr>\")"
   ]
  },
  {
   "cell_type": "code",
   "execution_count": 20,
   "id": "30946d8a-9d5c-4012-a03b-1578d8d61800",
   "metadata": {},
   "outputs": [
    {
     "name": "stdout",
     "output_type": "stream",
     "text": [
      "<a class=\"white\" href=\"/asp.net/liste.aspx?frmbase=records&amp;frmmode=2&amp;frmespace=0&amp;frmcompetition=253657&amp;frmepreuve=261&amp;frmsexe=M&amp;frmserie=10 Km Route TC\" title=\"Records principaux pour cette épreuve\">10 Km Route TC</a>\n"
     ]
    }
   ],
   "source": [
    "print(page.find('a', {'title' : 'Records principaux pour cette épreuve'}))"
   ]
  },
  {
   "cell_type": "markdown",
   "id": "7ace3635-5ae1-4630-8c2d-93367a76d919",
   "metadata": {},
   "source": [
    "## Athlètes et chronos de la compétition"
   ]
  },
  {
   "cell_type": "code",
   "execution_count": 21,
   "id": "efe1c1b4-843e-47ea-af32-3019a4f1e107",
   "metadata": {},
   "outputs": [],
   "source": [
    "text = str(page.findAll('td', {'class' : 'datas1'}))\n",
    "text = text.replace(\"<td class=\\\"datas1\\\">\", \"\")\n",
    "text = text.replace(\"</b>\", \"\")\n",
    "text = text.replace(\"<b>\", \"\")\n",
    "text = text.replace(\"<td>\", \"\")\n",
    "text = text.replace(\"</td>\", \"\")"
   ]
  },
  {
   "cell_type": "code",
   "execution_count": 22,
   "id": "9c37c5c0-389e-4c14-b14c-b432dca25394",
   "metadata": {},
   "outputs": [
    {
     "data": {
      "text/plain": [
       "<td class=\"datas1\"><a href=\"/asp.net/liste.aspx?frmbase=resultats&amp;frmmode=1&amp;frmespace=0&amp;frmcompetition=253657&amp;frmepreuve=10 Km Route TC&amp;frmcategorie=SE&amp;frmsexe=M\" title=\"Résultats pour la catégorie du participant\">SEM</a>/89</td>"
      ]
     },
     "execution_count": 22,
     "metadata": {},
     "output_type": "execute_result"
    }
   ],
   "source": [
    "page.findAll('td', {'class' : 'datas1'})[6]"
   ]
  },
  {
   "cell_type": "code",
   "execution_count": 23,
   "id": "adf1d7cb-ba6f-4ce5-ac7c-c8eb11b91675",
   "metadata": {},
   "outputs": [],
   "source": [
    "headers = []\n",
    "for i in page.find_all('td'):\n",
    "    title = i.text\n",
    "    headers.append(title)"
   ]
  },
  {
   "cell_type": "code",
   "execution_count": 24,
   "id": "cedf5ec4-3209-4683-9b85-e0e16e0c7e4c",
   "metadata": {},
   "outputs": [],
   "source": [
    "L=[]\n",
    "for i in page.find_all('tr'):\n",
    "    L.append(i)"
   ]
  },
  {
   "cell_type": "markdown",
   "id": "5aeb1e92-70cd-4f84-805d-059b09da2fba",
   "metadata": {},
   "source": [
    "### Athlètes"
   ]
  },
  {
   "cell_type": "code",
   "execution_count": 25,
   "id": "fdf4779e-dd7c-406d-a885-491ec9c1e7e7",
   "metadata": {},
   "outputs": [],
   "source": [
    "re_athlete = re.compile(\"[A-Z]{2,} [A-Z]*[A-Z]*[A-Z]{1}[a-z]*\")"
   ]
  },
  {
   "cell_type": "code",
   "execution_count": 26,
   "id": "3f4cd923-ad66-4911-97be-90a7921e6c5f",
   "metadata": {},
   "outputs": [
    {
     "data": {
      "text/plain": [
       "[['LORTON Guillaume'],\n",
       " ['BETRON Adrien'],\n",
       " ['MOULIN Loic'],\n",
       " ['DEBROUCKER Guillaume'],\n",
       " ['KEMEI Charles'],\n",
       " ['SPIMOLA MARQUES'],\n",
       " ['CROUZET Corentin'],\n",
       " ['BURNICHON Antoine'],\n",
       " ['BUISSON Antoine'],\n",
       " ['CROUE Jeremy']]"
      ]
     },
     "execution_count": 26,
     "metadata": {},
     "output_type": "execute_result"
    }
   ],
   "source": [
    "athletes=[]\n",
    "for i in L:\n",
    "    athletes.append(re_athlete.findall(str(i)))\n",
    "athletes=[x for x in athletes if x!=[]]\n",
    "athletes[:10]"
   ]
  },
  {
   "cell_type": "markdown",
   "id": "b1043017-f472-4f03-8c1f-ef707d641e77",
   "metadata": {},
   "source": [
    "### Chronos de la compétition"
   ]
  },
  {
   "cell_type": "code",
   "execution_count": 27,
   "id": "d263d29e-8e43-4ca4-a682-4118e3881bd4",
   "metadata": {},
   "outputs": [],
   "source": [
    "re_temps = re.compile(\"<b>(?=\\d).*(?=<\\/b>)\")"
   ]
  },
  {
   "cell_type": "code",
   "execution_count": 28,
   "id": "319036c7-fb44-45d1-bb84-cba493c3d0f3",
   "metadata": {},
   "outputs": [
    {
     "data": {
      "text/plain": [
       "[Timestamp('1900-01-01 00:30:58'),\n",
       " Timestamp('1900-01-01 00:31:30'),\n",
       " Timestamp('1900-01-01 00:32:01'),\n",
       " Timestamp('1900-01-01 00:32:15'),\n",
       " Timestamp('1900-01-01 00:32:40'),\n",
       " Timestamp('1900-01-01 00:33:02'),\n",
       " Timestamp('1900-01-01 00:33:38'),\n",
       " Timestamp('1900-01-01 00:33:41'),\n",
       " Timestamp('1900-01-01 00:34:54'),\n",
       " Timestamp('1900-01-01 00:35:16')]"
      ]
     },
     "execution_count": 28,
     "metadata": {},
     "output_type": "execute_result"
    }
   ],
   "source": [
    "temps=[]\n",
    "for i in L:\n",
    "    temps.append(re_temps.findall(str(i)))\n",
    "temps=[x for x in temps if x!=[]]\n",
    "for i in range(len(temps)):\n",
    "    temps[i]=temps[i][0].replace(\"<b>\",\"\")\n",
    "    temps[i]=pd.to_datetime(temps[i], format='%Hh%M\\'%S\\'\\'', errors='ignore')\n",
    "    temps[i]=pd.to_datetime(temps[i], format='%M\\'%S\\'\\'', errors='ignore')\n",
    "    temps[i]=pd.to_datetime(temps[i], format='%S\\'\\'', errors='ignore')\n",
    "temps[:10]"
   ]
  },
  {
   "cell_type": "markdown",
   "id": "dedac3d6-03d1-4e99-b756-fd776670ff54",
   "metadata": {
    "tags": []
   },
   "source": [
    "### Ligue des athlètes"
   ]
  },
  {
   "cell_type": "code",
   "execution_count": 29,
   "id": "4c4f6330-f581-42d1-9885-653a9bb5708c",
   "metadata": {},
   "outputs": [],
   "source": [
    "categoriesF=list(cat.keys())\n",
    "for i in range(len(categoriesF)):\n",
    "    categoriesF[i]+='F'\n",
    "categoriesM=list(cat.keys())\n",
    "for i in range(len(categoriesM)):\n",
    "    categoriesM[i]+='M'\n",
    "categories=categoriesF+categoriesM"
   ]
  },
  {
   "cell_type": "code",
   "execution_count": 30,
   "id": "3d72d309-a8f5-4f9e-b7ab-41072ad42f22",
   "metadata": {},
   "outputs": [],
   "source": [
    "re_ligue = re.compile(\"[A-Z]{3,}(?=<)\")"
   ]
  },
  {
   "cell_type": "code",
   "execution_count": 31,
   "id": "fe5fdf91-1193-4e5c-bd19-c06d01122bd2",
   "metadata": {},
   "outputs": [
    {
     "data": {
      "text/plain": [
       "['0', '0', '0', '0', '0', '0', 'ARA', 'ARA', 'ARA', 'ARA']"
      ]
     },
     "execution_count": 31,
     "metadata": {},
     "output_type": "execute_result"
    }
   ],
   "source": [
    "ligue=[]\n",
    "for i in L:\n",
    "    match = re_ligue.search(str(i))\n",
    "    if (match==None) or (match.group() in categories):\n",
    "        ligue.append('0')\n",
    "    else:\n",
    "        ligue.append(match.group())\n",
    "ligue[:10]"
   ]
  },
  {
   "cell_type": "markdown",
   "id": "4b33d793-6bc7-44b2-80bb-f433f463d68a",
   "metadata": {},
   "source": [
    "### Cotations des performances"
   ]
  },
  {
   "cell_type": "code",
   "execution_count": 32,
   "id": "79be518f-607e-4888-986f-34f9b265d5c4",
   "metadata": {},
   "outputs": [],
   "source": [
    "re_perf = re.compile(\"[A-Z]{1,}[1-8](?=<)\")"
   ]
  },
  {
   "cell_type": "code",
   "execution_count": 33,
   "id": "5b71dedc-49af-44e2-8cc2-442bbb394b5d",
   "metadata": {},
   "outputs": [
    {
     "data": {
      "text/plain": [
       "['', '', '', '', '', '', 'N4', 'IR1', 'IR2', 'IR2']"
      ]
     },
     "execution_count": 33,
     "metadata": {},
     "output_type": "execute_result"
    }
   ],
   "source": [
    "perfs=[]\n",
    "for i in L:\n",
    "    perfs.append(str(re_perf.findall(str(i))).replace('[','').replace(']','').replace('\\'',''))\n",
    "perfs[:10]"
   ]
  },
  {
   "cell_type": "markdown",
   "id": "3839d433-9538-4dff-8c16-5f76ddebcbde",
   "metadata": {},
   "source": [
    "### Clubs des athlètes (en cours)"
   ]
  },
  {
   "cell_type": "code",
   "execution_count": 34,
   "id": "f8d95b5d-4445-4b5d-8359-c98a532dc23f",
   "metadata": {},
   "outputs": [],
   "source": [
    "re_club = re.compile(\"[A-Z][a-z]+ *-*[A-Z][a-z]+ *-*[A-Z]*[a-z] *-*[A-Z]*[a-z]*(?=<)\")"
   ]
  },
  {
   "cell_type": "code",
   "execution_count": 35,
   "id": "02f544d7-3340-4602-b50a-2ea9fdf5e77f",
   "metadata": {},
   "outputs": [
    {
     "data": {
      "text/plain": [
       "[[],\n",
       " [],\n",
       " [],\n",
       " [],\n",
       " [],\n",
       " ['Km Route TC'],\n",
       " ['Montlucon Athletisme'],\n",
       " ['Beaujolais Runners'],\n",
       " ['Lyon Athletisme'],\n",
       " []]"
      ]
     },
     "execution_count": 35,
     "metadata": {},
     "output_type": "execute_result"
    }
   ],
   "source": [
    "clubs=[]\n",
    "for i in L:\n",
    "    clubs.append(re_club.findall(str(i)))\n",
    "clubs[:10]"
   ]
  },
  {
   "cell_type": "code",
   "execution_count": 36,
   "id": "8aefff2c-e853-4346-89b0-62a0b5fbfba9",
   "metadata": {},
   "outputs": [],
   "source": [
    "liste=[]\n",
    "debut=len(ligue)-len(athletes)-1\n",
    "for i in range(len(athletes)):\n",
    "    ligne=[]\n",
    "    ligne.append(athletes[i][0])\n",
    "    ligne.append(ligue[i+debut])\n",
    "    ligne.append(temps[i])\n",
    "    ligne.append(perfs[i+debut])\n",
    "    liste.append(ligne)"
   ]
  },
  {
   "cell_type": "code",
   "execution_count": 37,
   "id": "d69fd950-4b70-4e9f-8184-c317c33dc442",
   "metadata": {},
   "outputs": [
    {
     "data": {
      "text/plain": [
       "(250, 257, 257, 257)"
      ]
     },
     "execution_count": 37,
     "metadata": {},
     "output_type": "execute_result"
    }
   ],
   "source": [
    "len(athletes), len(perfs), len(ligue), len(clubs)"
   ]
  },
  {
   "cell_type": "code",
   "execution_count": 38,
   "id": "a417ae14-0677-4b10-a59d-7cf88aa469be",
   "metadata": {},
   "outputs": [],
   "source": [
    "data=pd.DataFrame(liste, columns=[\"Athlète\", \"Ligue\", \"Chrono\", \"Performance\"])"
   ]
  },
  {
   "cell_type": "code",
   "execution_count": 39,
   "id": "55fdf0aa-163d-4162-8358-f876bf79564b",
   "metadata": {},
   "outputs": [
    {
     "data": {
      "text/html": [
       "<div>\n",
       "<style scoped>\n",
       "    .dataframe tbody tr th:only-of-type {\n",
       "        vertical-align: middle;\n",
       "    }\n",
       "\n",
       "    .dataframe tbody tr th {\n",
       "        vertical-align: top;\n",
       "    }\n",
       "\n",
       "    .dataframe thead th {\n",
       "        text-align: right;\n",
       "    }\n",
       "</style>\n",
       "<table border=\"1\" class=\"dataframe\">\n",
       "  <thead>\n",
       "    <tr style=\"text-align: right;\">\n",
       "      <th></th>\n",
       "      <th>Athlète</th>\n",
       "      <th>Ligue</th>\n",
       "      <th>Performance</th>\n",
       "      <th>time_delta</th>\n",
       "      <th>time_gap</th>\n",
       "      <th>duration</th>\n",
       "    </tr>\n",
       "  </thead>\n",
       "  <tbody>\n",
       "    <tr>\n",
       "      <th>0</th>\n",
       "      <td>LORTON Guillaume</td>\n",
       "      <td>ARA</td>\n",
       "      <td>N4</td>\n",
       "      <td>0 days 00:30:58</td>\n",
       "      <td>0 days 00:00:00</td>\n",
       "      <td>1858.0</td>\n",
       "    </tr>\n",
       "    <tr>\n",
       "      <th>1</th>\n",
       "      <td>BETRON Adrien</td>\n",
       "      <td>ARA</td>\n",
       "      <td>IR1</td>\n",
       "      <td>0 days 00:31:30</td>\n",
       "      <td>0 days 00:00:32</td>\n",
       "      <td>1890.0</td>\n",
       "    </tr>\n",
       "    <tr>\n",
       "      <th>2</th>\n",
       "      <td>MOULIN Loic</td>\n",
       "      <td>ARA</td>\n",
       "      <td>IR2</td>\n",
       "      <td>0 days 00:32:01</td>\n",
       "      <td>0 days 00:01:03</td>\n",
       "      <td>1921.0</td>\n",
       "    </tr>\n",
       "    <tr>\n",
       "      <th>3</th>\n",
       "      <td>DEBROUCKER Guillaume</td>\n",
       "      <td>ARA</td>\n",
       "      <td>IR2</td>\n",
       "      <td>0 days 00:32:15</td>\n",
       "      <td>0 days 00:01:17</td>\n",
       "      <td>1935.0</td>\n",
       "    </tr>\n",
       "    <tr>\n",
       "      <th>4</th>\n",
       "      <td>KEMEI Charles</td>\n",
       "      <td>ARA</td>\n",
       "      <td>IR2</td>\n",
       "      <td>0 days 00:32:40</td>\n",
       "      <td>0 days 00:01:42</td>\n",
       "      <td>1960.0</td>\n",
       "    </tr>\n",
       "  </tbody>\n",
       "</table>\n",
       "</div>"
      ],
      "text/plain": [
       "                Athlète Ligue Performance      time_delta        time_gap  \\\n",
       "0      LORTON Guillaume   ARA          N4 0 days 00:30:58 0 days 00:00:00   \n",
       "1         BETRON Adrien   ARA         IR1 0 days 00:31:30 0 days 00:00:32   \n",
       "2           MOULIN Loic   ARA         IR2 0 days 00:32:01 0 days 00:01:03   \n",
       "3  DEBROUCKER Guillaume   ARA         IR2 0 days 00:32:15 0 days 00:01:17   \n",
       "4         KEMEI Charles   ARA         IR2 0 days 00:32:40 0 days 00:01:42   \n",
       "\n",
       "   duration  \n",
       "0    1858.0  \n",
       "1    1890.0  \n",
       "2    1921.0  \n",
       "3    1935.0  \n",
       "4    1960.0  "
      ]
     },
     "execution_count": 39,
     "metadata": {},
     "output_type": "execute_result"
    }
   ],
   "source": [
    "#data['hours']=data['Chrono'].dt.hour\n",
    "#data['minutes']=data['Chrono'].dt.minute\n",
    "#data['seconds']=data['Chrono'].dt.second\n",
    "\n",
    "data['time_delta']=data['Chrono']-pd.to_datetime(\"'1900-01-01\")\n",
    "data['time_gap']=data[\"Chrono\"]-data['Chrono'][0]\n",
    "data['duration']=data['time_delta'].dt.total_seconds()\n",
    "\n",
    "data=data.drop(\"Chrono\", axis=1)\n",
    "data.head()"
   ]
  },
  {
   "cell_type": "markdown",
   "id": "acde15dd",
   "metadata": {},
   "source": [
    "### Premier exemple de visualisation : distribution des chronos"
   ]
  },
  {
   "cell_type": "code",
   "execution_count": 40,
   "id": "2b695e60",
   "metadata": {},
   "outputs": [
    {
     "data": {
      "text/plain": [
       "<AxesSubplot:ylabel='Density'>"
      ]
     },
     "execution_count": 40,
     "metadata": {},
     "output_type": "execute_result"
    },
    {
     "data": {
      "image/png": "[encoded data removed]",
      "text/plain": [
       "<Figure size 432x288 with 1 Axes>"
      ]
     },
     "metadata": {
      "needs_background": "light"
     },
     "output_type": "display_data"
    }
   ],
   "source": [
    "data[\"duration\"].plot(kind='kde')"
   ]
  },
  {
   "cell_type": "markdown",
   "id": "c7646562",
   "metadata": {},
   "source": [
    "### Deuxième exemple de visualisation : écart avec le premier"
   ]
  },
  {
   "cell_type": "code",
   "execution_count": 41,
   "id": "932849c3",
   "metadata": {},
   "outputs": [
    {
     "data": {
      "text/plain": [
       "<AxesSubplot:>"
      ]
     },
     "execution_count": 41,
     "metadata": {},
     "output_type": "execute_result"
    },
    {
     "data": {
      "image/png": "[encoded data removed]",
      "text/plain": [
       "<Figure size 432x288 with 1 Axes>"
      ]
     },
     "metadata": {
      "needs_background": "light"
     },
     "output_type": "display_data"
    }
   ],
   "source": [
    "data[\"time_gap\"].dt.total_seconds().plot()"
   ]
  },
  {
   "cell_type": "markdown",
   "id": "8e6e8ddf",
   "metadata": {},
   "source": [
    "### Troisième exemple de visualisation : histogramme des performances (labels FFA)"
   ]
  },
  {
   "cell_type": "code",
   "execution_count": 42,
   "id": "631f0ef5",
   "metadata": {},
   "outputs": [
    {
     "data": {
      "text/plain": [
       "<AxesSubplot:>"
      ]
     },
     "execution_count": 42,
     "metadata": {},
     "output_type": "execute_result"
    },
    {
     "data": {
      "image/png": "[encoded data removed]",
      "text/plain": [
       "<Figure size 432x288 with 1 Axes>"
      ]
     },
     "metadata": {
      "needs_background": "light"
     },
     "output_type": "display_data"
    }
   ],
   "source": [
    "data[\"Performance\"].hist()"
   ]
  }
 ],
 "metadata": {
  "kernelspec": {
   "display_name": "Python 3",
   "language": "python",
   "name": "python3"
  },
  "language_info": {
   "codemirror_mode": {
    "name": "ipython",
    "version": 3
   },
   "file_extension": ".py",
   "mimetype": "text/x-python",
   "name": "python",
   "nbconvert_exporter": "python",
   "pygments_lexer": "ipython3",
   "version": "3.8.8"
  }
 },
 "nbformat": 4,
 "nbformat_minor": 5
}
