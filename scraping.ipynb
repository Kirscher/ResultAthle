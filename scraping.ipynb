{
 "cells": [
  {
   "cell_type": "markdown",
   "id": "394cf797",
   "metadata": {},
   "source": [
    "## Etape 1 : Scraping des résultats depuis bases.athle"
   ]
  },
  {
   "cell_type": "markdown",
   "id": "ff87d1ef",
   "metadata": {},
   "source": [
    "Objectifs :\n",
    "+ créer un pipeline pour récupérer les données d'une compétition d'athlétisme (course sur route, trail, cross, ...)\n",
    "+ retourner ces données sous la forme d'une table relationnelle\n",
    "+ par la suite, exploiter cette table pour créer des statistiques et visualisations sur les compétitions\n",
    "\n",
    "Format d'une URL de bases.athle :\n",
    "+ ? avant la requête\n",
    "+ & pour ajouter des paramètres à la recherche \n",
    "\n",
    "bases.athle.fr/asp.net/liste.aspx**?frmbase=resultats**&**frmmode=1**&**frmespace=0**&**frmcompetition=**274211\n",
    "\n",
    "Liste des paramètres pour une recherche par athlète :\n",
    "+ frmsaison\n",
    "+ frmclub\n",
    "+ frmnom\n",
    "+ frmprenom\n",
    "+ frmsexe\n",
    "+ frmlicence\n",
    "+ frmdepartement\n",
    "+ frmligue\n",
    "+ frmcomprch\n"
   ]
  },
  {
   "cell_type": "markdown",
   "id": "6888fcb0",
   "metadata": {},
   "source": [
    "### Installation de la libraire lxml"
   ]
  },
  {
   "cell_type": "code",
   "execution_count": 1,
   "id": "ce20f839",
   "metadata": {},
   "outputs": [
    {
     "name": "stdout",
     "output_type": "stream",
     "text": [
      "Requirement already satisfied: lxml in c:\\users\\trist\\anaconda3\\lib\\site-packages (4.6.3)\n"
     ]
    },
    {
     "name": "stderr",
     "output_type": "stream",
     "text": [
      "WARNING: You are using pip version 22.0.4; however, version 22.3.1 is available.\n",
      "You should consider upgrading via the 'c:\\users\\trist\\anaconda3\\python.exe -m pip install --upgrade pip' command.\n"
     ]
    }
   ],
   "source": [
    "!pip install lxml"
   ]
  },
  {
   "cell_type": "markdown",
   "id": "368b2b9b",
   "metadata": {},
   "source": [
    "### Import des librairies requises"
   ]
  },
  {
   "cell_type": "code",
   "execution_count": 2,
   "id": "a32e023f-5eb6-405e-92b8-68128814c4a4",
   "metadata": {},
   "outputs": [],
   "source": [
    "import lxml\n",
    "import urllib\n",
    "import bs4\n",
    "import pandas as pd\n",
    "import numpy as np\n",
    "import re\n",
    "from urllib import request"
   ]
  },
  {
   "cell_type": "markdown",
   "id": "48151582",
   "metadata": {},
   "source": [
    "Les pages de résultats de base.athle possèdent toutes la même forme, mais les en-têtes et les informations sur les différentes courses diffèrent en termes de contenu.\n",
    "\n",
    "Par exemple, il peut y avoir les classements des équipes dans l'en-tête, ce qui rend le scraping complexe, puisqu'il faut différencier ces résultats des résultats individuels. Des informations supplémentaires sur les compétitions (société de chronométrage, etc.) peuvent être présentes dans l'en-tête également.\n",
    "\n",
    "La cellule suivante récupère uniquement la table des résultats individuels en supprimant les cases contenant :\n",
    "+ des résultats de groupes \"groups\"\n",
    "+ l'en-tête principale \"mainheaders\"\n",
    "+ l'en-tête de la table \"barButtons\"\n",
    "+ le sous-titre de la table \"subheaders\""
   ]
  },
  {
   "cell_type": "code",
   "execution_count": 3,
   "id": "897d084d",
   "metadata": {},
   "outputs": [],
   "source": [
    "nb_pages=2\n",
    "url=\"https://bases.athle.fr/asp.net/liste.aspx?frmbase=resultats&frmmode=1&frmespace=0&frmcompetition=254914&frmepreuve=10+Km+Route+SEM\""
   ]
  },
  {
   "cell_type": "code",
   "execution_count": 4,
   "id": "29ee8f3a",
   "metadata": {},
   "outputs": [],
   "source": [
    "L=[]\n",
    "for i in range(nb_pages):\n",
    "    url=url+\"&frmposition=\"+str(i)\n",
    "    request_text = request.urlopen(url).read()\n",
    "    page = bs4.BeautifulSoup(request_text, \"lxml\")\n",
    "    for i in page.find_all('tr'):\n",
    "        if \"groups\" not in str(i) and \"mainheaders\" not in str(i) and \"barButtons\" not in str(i) and \"subheaderscom\" not in str(i):\n",
    "            L.append(i)"
   ]
  },
  {
   "cell_type": "markdown",
   "id": "92e97b96-317c-4560-95ba-02fa2be1e61e",
   "metadata": {
    "tags": []
   },
   "source": [
    "### Dictionnaires utiles"
   ]
  },
  {
   "cell_type": "markdown",
   "id": "27b17efd-f0be-47d9-827f-433a58d6be31",
   "metadata": {},
   "source": [
    "#### Catégories de performance et cotation d'après table FFA"
   ]
  },
  {
   "cell_type": "code",
   "execution_count": 5,
   "id": "a3ba3358-8c4a-431b-b885-bf31951fedb0",
   "metadata": {},
   "outputs": [],
   "source": [
    "#bareme et table de cotation\n",
    "#source: https://www.athle.fr/asp.net/main.html/html.aspx?htmlid=125\n",
    "\n",
    "perf = {'IA': 40, 'IB': 35, #international\n",
    "        'N1': 30, 'N2': 28, 'N3': 26, 'N4': 24, #national\n",
    "        'IR1': 21, 'IR2': 20, 'IR3': 19, 'IR4': 18, #inter-regional\n",
    "        'R1': 15, 'R2': 14, 'R3': 13, 'R4': 12, 'R5': 11, 'R6': 10, #regional\n",
    "        'D1': 8, 'D2': 7, 'D3': 6, 'D4': 5, 'D5': 4, 'D6': 3, 'D7': 2} #departemental"
   ]
  },
  {
   "cell_type": "markdown",
   "id": "4b4e033e-3d9a-40c7-9036-6dbbe9d15b79",
   "metadata": {},
   "source": [
    "#### Catégories d'âge d'après la réglementation FFA"
   ]
  },
  {
   "cell_type": "code",
   "execution_count": 6,
   "id": "020dd230-4914-420d-a85d-6f78eca3c228",
   "metadata": {},
   "outputs": [],
   "source": [
    "#categories d'âge en 2023\n",
    "#source: https://www.athle.fr/asp.net/main.html/html.aspx?htmlid=25\n",
    "\n",
    "cat = {'M10': 'Masters 10', 'M9': 'Masters 9', 'M8': 'Masters 8', 'M7': 'Masters 7', 'M6': 'Masters 6',\n",
    "       'M5': 'Masters 5', 'M4': 'Masters 4', 'M3': 'Masters 3', 'M2': 'Masters 2', 'M1': 'Masters 1', 'M0': 'Masters 0',\n",
    "       'SE': 'Seniors',\n",
    "       'ES': 'Espoirs',\n",
    "       'JU': 'Juniors',\n",
    "       'CA': 'Cadet.te.s',\n",
    "       'MI': 'Minimes',\n",
    "       'BE': 'Benjamin.e.s',\n",
    "       'PO': 'Poussins',\n",
    "       'EA': 'École d\\'Athlétisme',\n",
    "       'BB': 'Baby Athlé'}"
   ]
  },
  {
   "cell_type": "code",
   "execution_count": 7,
   "id": "4c4f6330-f581-42d1-9885-653a9bb5708c",
   "metadata": {},
   "outputs": [],
   "source": [
    "#ajout de féminin (F) et masculin (M) aux categories\n",
    "\n",
    "categoriesF=list(cat.keys())\n",
    "\n",
    "#ajout des catégories féminines\n",
    "for i in range(len(categoriesF)):\n",
    "    categoriesF[i]+='F'\n",
    "categoriesM=list(cat.keys())\n",
    "\n",
    "#ajout des catégories masculines\n",
    "for i in range(len(categoriesM)):\n",
    "    categoriesM[i]+='M'\n",
    "    \n",
    "categories=categoriesF+categoriesM"
   ]
  },
  {
   "cell_type": "markdown",
   "id": "06357057",
   "metadata": {},
   "source": [
    "## Date, nom, lieu, ligue, label et département de la compétition"
   ]
  },
  {
   "cell_type": "code",
   "execution_count": 8,
   "id": "2fb63430",
   "metadata": {},
   "outputs": [
    {
     "name": "stdout",
     "output_type": "stream",
     "text": [
      "<div class=\"mainheaders\">09/04/22 - Championnats de France de 10 km<br/><span style=\"font-size:13px\">BOULOGNE SUR MER - H-F - 062 - Label National</span></div>\n"
     ]
    }
   ],
   "source": [
    "header = page.find('div', {'class' : \"mainheaders\"})\n",
    "header=str(header)\n",
    "print(header)"
   ]
  },
  {
   "cell_type": "markdown",
   "id": "b998c182",
   "metadata": {},
   "source": [
    "#### Nom de la compétition"
   ]
  },
  {
   "cell_type": "code",
   "execution_count": 9,
   "id": "6a673c63",
   "metadata": {},
   "outputs": [
    {
     "name": "stdout",
     "output_type": "stream",
     "text": [
      "Championnats de France de 10 km\n"
     ]
    }
   ],
   "source": [
    "re_nom = re.compile(\"(?<=\\- )(.*?)(?=\\<)\")\n",
    "text = re_nom.findall(header)\n",
    "nom = text[0]\n",
    "sous_titre = text[1]\n",
    "print(nom)"
   ]
  },
  {
   "cell_type": "markdown",
   "id": "d2852cec",
   "metadata": {},
   "source": [
    "#### Lieu de la compétition"
   ]
  },
  {
   "cell_type": "code",
   "execution_count": 10,
   "id": "a4a471b5",
   "metadata": {},
   "outputs": [
    {
     "name": "stdout",
     "output_type": "stream",
     "text": [
      "BOULOGNE SUR MER\n"
     ]
    }
   ],
   "source": [
    "re_lieu = re.compile(\"(?<=\\>)(\\D*?)(?=\\ -)\")\n",
    "lieu = re_lieu.findall(header)[0]\n",
    "print(lieu)"
   ]
  },
  {
   "cell_type": "markdown",
   "id": "5dc5abdb",
   "metadata": {},
   "source": [
    "#### Date de la compétition"
   ]
  },
  {
   "cell_type": "code",
   "execution_count": 11,
   "id": "57bf2f67",
   "metadata": {},
   "outputs": [
    {
     "name": "stdout",
     "output_type": "stream",
     "text": [
      "09/04/22\n"
     ]
    }
   ],
   "source": [
    "re_date = re.compile(\"[0-9]{2}/[0-9]{2}/[0-9]{2}\")\n",
    "date = re_date.findall(header)[0]\n",
    "print(date)"
   ]
  },
  {
   "cell_type": "markdown",
   "id": "b6f64f84",
   "metadata": {},
   "source": [
    "#### Département de la compétition"
   ]
  },
  {
   "cell_type": "code",
   "execution_count": 12,
   "id": "49a1ee53",
   "metadata": {},
   "outputs": [
    {
     "name": "stdout",
     "output_type": "stream",
     "text": [
      "062\n"
     ]
    }
   ],
   "source": [
    "re_dept = re.compile(\"[0-9]{3}\")\n",
    "dept = re_dept.findall(sous_titre)[0]\n",
    "print(dept)"
   ]
  },
  {
   "cell_type": "markdown",
   "id": "06697bff",
   "metadata": {},
   "source": [
    "#### Label de la compétition (en cours)"
   ]
  },
  {
   "cell_type": "code",
   "execution_count": 13,
   "id": "36b06ca5",
   "metadata": {},
   "outputs": [
    {
     "name": "stdout",
     "output_type": "stream",
     "text": [
      "National\n"
     ]
    }
   ],
   "source": [
    "re_label = re.compile(\"(?<=Label ).*(?<!')\")\n",
    "try:\n",
    "    label = re_label.findall(sous_titre)[0]\n",
    "    print(label)\n",
    "except IndexError:\n",
    "    print(\"Pas de label pour cette compétition\")"
   ]
  },
  {
   "cell_type": "markdown",
   "id": "6a808eea-eb29-4d22-a597-066b431cb277",
   "metadata": {},
   "source": [
    "#### Données de la compétition sous forme de dictionnaire"
   ]
  },
  {
   "cell_type": "code",
   "execution_count": 14,
   "id": "7b8f1028-1480-4468-b701-7b959a4a5a6a",
   "metadata": {},
   "outputs": [],
   "source": [
    "compet= {'nom': nom,\n",
    "      'lieu': lieu,\n",
    "      'date': date,\n",
    "      'dept': dept,\n",
    "      'label': label}"
   ]
  },
  {
   "cell_type": "code",
   "execution_count": 15,
   "id": "34d17988-374a-4189-ad14-a81abb5fff8c",
   "metadata": {},
   "outputs": [
    {
     "data": {
      "text/plain": [
       "{'nom': 'Championnats de France de 10 km',\n",
       " 'lieu': 'BOULOGNE SUR MER',\n",
       " 'date': '09/04/22',\n",
       " 'dept': '062',\n",
       " 'label': 'National'}"
      ]
     },
     "execution_count": 15,
     "metadata": {},
     "output_type": "execute_result"
    }
   ],
   "source": [
    "compet"
   ]
  },
  {
   "cell_type": "markdown",
   "id": "7ace3635-5ae1-4630-8c2d-93367a76d919",
   "metadata": {},
   "source": [
    "## Athlètes et chronos de la compétition"
   ]
  },
  {
   "cell_type": "markdown",
   "id": "5aeb1e92-70cd-4f84-805d-059b09da2fba",
   "metadata": {},
   "source": [
    "### Athlètes"
   ]
  },
  {
   "cell_type": "code",
   "execution_count": 16,
   "id": "fdf4779e-dd7c-406d-a885-491ec9c1e7e7",
   "metadata": {},
   "outputs": [],
   "source": [
    "re_athlete = re.compile(\"[A-Z]{2,} ?-?[A-Z]* ?-?[A-Z]* ?-?[A-Z]*[A-Z]{1}[a-z]+ ?-?[A-Z]?[a-z]*\")"
   ]
  },
  {
   "cell_type": "code",
   "execution_count": 17,
   "id": "3f4cd923-ad66-4911-97be-90a7921e6c5f",
   "metadata": {},
   "outputs": [
    {
     "data": {
      "text/plain": [
       "[['GRESSIER Jimmy'],\n",
       " ['AUGUSTO Bastien'],\n",
       " ['MONTOYA Raphael'],\n",
       " ['BRULET Mathieu'],\n",
       " ['MEKDAFOU Youssef'],\n",
       " ['BORDEAU Pierre'],\n",
       " ['COUZINIER Pierre'],\n",
       " ['GHEBRESLASIE Merhawi '],\n",
       " ['ANGLADA Clement'],\n",
       " ['EL BOUAJAJI Mohamed-Amine']]"
      ]
     },
     "execution_count": 17,
     "metadata": {},
     "output_type": "execute_result"
    }
   ],
   "source": [
    "athletes=[]\n",
    "for i in L:\n",
    "    athletes.append(re_athlete.findall(str(i)))\n",
    "athletes=[x for x in athletes if x!=[]]\n",
    "athletes[:10]"
   ]
  },
  {
   "cell_type": "markdown",
   "id": "b1043017-f472-4f03-8c1f-ef707d641e77",
   "metadata": {},
   "source": [
    "### Chronos de la compétition"
   ]
  },
  {
   "cell_type": "code",
   "execution_count": 18,
   "id": "d263d29e-8e43-4ca4-a682-4118e3881bd4",
   "metadata": {},
   "outputs": [],
   "source": [
    "re_temps = re.compile(\"<b>(?=\\d).*(?=<\\/b>)\")"
   ]
  },
  {
   "cell_type": "code",
   "execution_count": 19,
   "id": "319036c7-fb44-45d1-bb84-cba493c3d0f3",
   "metadata": {},
   "outputs": [
    {
     "data": {
      "text/plain": [
       "[Timestamp('1900-01-01 00:27:41'),\n",
       " Timestamp('1900-01-01 00:28:29'),\n",
       " Timestamp('1900-01-01 00:28:48'),\n",
       " Timestamp('1900-01-01 00:28:53'),\n",
       " Timestamp('1900-01-01 00:28:53')]"
      ]
     },
     "execution_count": 19,
     "metadata": {},
     "output_type": "execute_result"
    }
   ],
   "source": [
    "temps=[]\n",
    "for i in L:\n",
    "    temps.append(re_temps.findall(str(i)))\n",
    "temps=[x for x in temps if x!=[]]\n",
    "for i in range(len(temps)):\n",
    "    temps[i]=temps[i][0].replace(\"<b>\",\"\")\n",
    "    temps[i]=pd.to_datetime(temps[i], format='%Hh%M\\'%S\\'\\'', errors='ignore')\n",
    "    temps[i]=pd.to_datetime(temps[i], format='%M\\'%S\\'\\'', errors='ignore')\n",
    "    temps[i]=pd.to_datetime(temps[i], format='%S\\'\\'', errors='ignore')\n",
    "temps[:5]"
   ]
  },
  {
   "cell_type": "markdown",
   "id": "dedac3d6-03d1-4e99-b756-fd776670ff54",
   "metadata": {
    "tags": []
   },
   "source": [
    "### Ligue des athlètes"
   ]
  },
  {
   "cell_type": "code",
   "execution_count": 20,
   "id": "3d72d309-a8f5-4f9e-b7ab-41072ad42f22",
   "metadata": {},
   "outputs": [],
   "source": [
    "re_ligue = re.compile(\"[A-Z]{3,}(?=<)|[A-Z]-[A-Z](?=<)\")"
   ]
  },
  {
   "cell_type": "code",
   "execution_count": 21,
   "id": "fe5fdf91-1193-4e5c-bd19-c06d01122bd2",
   "metadata": {},
   "outputs": [
    {
     "data": {
      "text/plain": [
       "['0', '0', 'H-F', 'CEN', 'I-F', 'N-A', 'I-F', 'I-F', 'BRE', 'I-F']"
      ]
     },
     "execution_count": 21,
     "metadata": {},
     "output_type": "execute_result"
    }
   ],
   "source": [
    "ligue=[]\n",
    "for i in L:\n",
    "    match = re_ligue.search(str(i))\n",
    "    if (match==None) or (match.group() in categories):\n",
    "        ligue.append('0')\n",
    "    else:\n",
    "        ligue.append(match.group())\n",
    "ligue[:10]"
   ]
  },
  {
   "cell_type": "markdown",
   "id": "4b33d793-6bc7-44b2-80bb-f433f463d68a",
   "metadata": {},
   "source": [
    "### Cotations des performances"
   ]
  },
  {
   "cell_type": "code",
   "execution_count": 22,
   "id": "79be518f-607e-4888-986f-34f9b265d5c4",
   "metadata": {},
   "outputs": [],
   "source": [
    "re_perf = re.compile(\"[A-Z]{1}[1-8](?=<)|I[A,B](?=<)\")"
   ]
  },
  {
   "cell_type": "code",
   "execution_count": 23,
   "id": "5b71dedc-49af-44e2-8cc2-442bbb394b5d",
   "metadata": {},
   "outputs": [
    {
     "data": {
      "text/plain": [
       "['', '', 'IA', 'N1', 'N1', 'N1', 'N1', 'N1', 'N1', 'N2']"
      ]
     },
     "execution_count": 23,
     "metadata": {},
     "output_type": "execute_result"
    }
   ],
   "source": [
    "perfs=[]\n",
    "for i in L:\n",
    "    match= str(re_perf.findall(str(i))).replace('[','').replace(']','').replace('\\'','')\n",
    "    if match in list(perf.keys()):\n",
    "        perfs.append(match)\n",
    "    else:\n",
    "        perfs.append('')\n",
    "perfs[:10]"
   ]
  },
  {
   "cell_type": "markdown",
   "id": "e181d00c-c264-4c0d-9112-56a105e86551",
   "metadata": {},
   "source": [
    "### Catégories des athlètes"
   ]
  },
  {
   "cell_type": "code",
   "execution_count": 24,
   "id": "8eb422e6-0917-405c-8a4b-e5bd75b36120",
   "metadata": {},
   "outputs": [],
   "source": [
    "re_cat = re.compile(\"[A-Z]{3}(?=<)|[A-Z]{1}\\d[A-Z]{1}\")"
   ]
  },
  {
   "cell_type": "code",
   "execution_count": 25,
   "id": "41b559c2-20fb-45df-b611-30e81f58c346",
   "metadata": {},
   "outputs": [
    {
     "data": {
      "text/plain": [
       "[None, None, 'SEM', 'SEM', 'SEM', 'M0M', 'SEM', 'ESM', 'SEM', 'SEM']"
      ]
     },
     "execution_count": 25,
     "metadata": {},
     "output_type": "execute_result"
    }
   ],
   "source": [
    "categorie=[]\n",
    "for i in L:\n",
    "    match = re_cat.search(str(i))\n",
    "    if (match==None):\n",
    "        categorie.append(None)\n",
    "    else:\n",
    "        match = re_cat.findall(str(i))\n",
    "        if len(match)>1 and (match[1] in categories):\n",
    "            categorie.append(match[1])\n",
    "        else:\n",
    "            if (match[0] in categories):\n",
    "                categorie.append(match[0])\n",
    "categorie[:10]"
   ]
  },
  {
   "cell_type": "markdown",
   "id": "8afa75f9-af2e-4987-acd7-dace2b20e58a",
   "metadata": {},
   "source": [
    "### Années de naissance"
   ]
  },
  {
   "cell_type": "code",
   "execution_count": 26,
   "id": "b63ff27c-cd05-430c-b0f0-efcdc96f90c5",
   "metadata": {},
   "outputs": [],
   "source": [
    "re_annee = re.compile(\"\\/[0-9]{2}<\")"
   ]
  },
  {
   "cell_type": "code",
   "execution_count": 27,
   "id": "f9d9017f-cee3-4876-982c-3dffa59a1552",
   "metadata": {},
   "outputs": [],
   "source": [
    "annee=[]\n",
    "for i in L:\n",
    "    match = re_annee.search(str(i))\n",
    "    if (match==None) or (match.group() in categories):\n",
    "        annee.append('0')\n",
    "    else:\n",
    "        year = int(str(match.group()).replace('/','').replace('<',''))\n",
    "        if year <=20:\n",
    "            annee.append(year+2000)\n",
    "        else:\n",
    "            annee.append(year+1900)"
   ]
  },
  {
   "cell_type": "code",
   "execution_count": 28,
   "id": "f5eb25e9-b50c-471c-9d5b-538156250ddd",
   "metadata": {},
   "outputs": [
    {
     "data": {
      "text/plain": [
       "['0', '0', 1997, 1999, 1995, 1987, 1992, 2000, 1996, 1992]"
      ]
     },
     "execution_count": 28,
     "metadata": {},
     "output_type": "execute_result"
    }
   ],
   "source": [
    "annee[:10]"
   ]
  },
  {
   "cell_type": "markdown",
   "id": "3839d433-9538-4dff-8c16-5f76ddebcbde",
   "metadata": {},
   "source": [
    "### Clubs des athlètes (pour les licenciés uniquement)"
   ]
  },
  {
   "cell_type": "code",
   "execution_count": 29,
   "id": "f8d95b5d-4445-4b5d-8359-c98a532dc23f",
   "metadata": {},
   "outputs": [],
   "source": [
    "re_club = re.compile(\"[A-Z][a-z]+ *-*[A-Z][a-z]+ *-*[A-Z]*[a-z] *-*[A-Z]*[a-z]*(?=<)\")"
   ]
  },
  {
   "cell_type": "code",
   "execution_count": 30,
   "id": "02f544d7-3340-4602-b50a-2ea9fdf5e77f",
   "metadata": {},
   "outputs": [
    {
     "data": {
      "text/plain": [
       "[]"
      ]
     },
     "execution_count": 30,
     "metadata": {},
     "output_type": "execute_result"
    }
   ],
   "source": [
    "clubs=[]\n",
    "for i in L:\n",
    "    match = re_club.findall(str(i))\n",
    "clubs[:10]"
   ]
  },
  {
   "cell_type": "markdown",
   "id": "2b2d290e",
   "metadata": {},
   "source": [
    "### Suppression des lignes ne contenant pas les enregistrements des athlètes"
   ]
  },
  {
   "cell_type": "code",
   "execution_count": 31,
   "id": "d69fd950-4b70-4e9f-8184-c317c33dc442",
   "metadata": {},
   "outputs": [
    {
     "data": {
      "text/plain": [
       "(500, 504, 504, 0, 504, 504, 500)"
      ]
     },
     "execution_count": 31,
     "metadata": {},
     "output_type": "execute_result"
    }
   ],
   "source": [
    "len(athletes), len(perfs), len(ligue), len(clubs), len(annee), len(categorie), len(temps)"
   ]
  },
  {
   "cell_type": "code",
   "execution_count": 32,
   "id": "157f0ecc",
   "metadata": {},
   "outputs": [
    {
     "name": "stdout",
     "output_type": "stream",
     "text": [
      "2\n"
     ]
    }
   ],
   "source": [
    "#identification du début de la table de résultats individuels à l'aide de la liste des catégories \n",
    "\n",
    "i = 0\n",
    "while categorie[i]==None:\n",
    "    i+=1\n",
    "debut=i\n",
    "print(debut)"
   ]
  },
  {
   "cell_type": "code",
   "execution_count": 33,
   "id": "8aefff2c-e853-4346-89b0-62a0b5fbfba9",
   "metadata": {},
   "outputs": [],
   "source": [
    "liste=[]\n",
    "for i in range(len(athletes)):\n",
    "    ligne=[]\n",
    "    ligne.append(athletes[i][0])\n",
    "    ligne.append(ligue[i+debut])\n",
    "    #ligne.append(str(clubs[i+debut]))\n",
    "    ligne.append(temps[i])\n",
    "    ligne.append(perfs[i+debut])\n",
    "    ligne.append(annee[i+debut])\n",
    "    ligne.append(categorie[i+debut])\n",
    "    liste.append(ligne)"
   ]
  },
  {
   "cell_type": "code",
   "execution_count": 34,
   "id": "a417ae14-0677-4b10-a59d-7cf88aa469be",
   "metadata": {},
   "outputs": [],
   "source": [
    "data=pd.DataFrame(liste, columns=[\"Athlète\", \"Ligue\", \"Chrono\", \"Performance\", \"Naissance\", \"Catégorie\"])"
   ]
  },
  {
   "cell_type": "code",
   "execution_count": 35,
   "id": "8b2ec486",
   "metadata": {},
   "outputs": [],
   "source": [
    "data['hours']=data['Chrono'].dt.hour\n",
    "data['minutes']=data['Chrono'].dt.minute\n",
    "data['seconds']=data['Chrono'].dt.second"
   ]
  },
  {
   "cell_type": "code",
   "execution_count": 36,
   "id": "9dc778f1",
   "metadata": {},
   "outputs": [],
   "source": [
    "data['time_delta']=data['Chrono']-pd.to_datetime(\"'1900-01-01\")\n",
    "data=data.sort_values('time_delta')"
   ]
  },
  {
   "cell_type": "code",
   "execution_count": 37,
   "id": "44f2b343",
   "metadata": {},
   "outputs": [],
   "source": [
    "data=data.reset_index(drop=True)"
   ]
  },
  {
   "cell_type": "code",
   "execution_count": 38,
   "id": "55fdf0aa-163d-4162-8358-f876bf79564b",
   "metadata": {},
   "outputs": [
    {
     "data": {
      "text/html": [
       "<div>\n",
       "<style scoped>\n",
       "    .dataframe tbody tr th:only-of-type {\n",
       "        vertical-align: middle;\n",
       "    }\n",
       "\n",
       "    .dataframe tbody tr th {\n",
       "        vertical-align: top;\n",
       "    }\n",
       "\n",
       "    .dataframe thead th {\n",
       "        text-align: right;\n",
       "    }\n",
       "</style>\n",
       "<table border=\"1\" class=\"dataframe\">\n",
       "  <thead>\n",
       "    <tr style=\"text-align: right;\">\n",
       "      <th></th>\n",
       "      <th>Athlète</th>\n",
       "      <th>Ligue</th>\n",
       "      <th>Performance</th>\n",
       "      <th>Naissance</th>\n",
       "      <th>Catégorie</th>\n",
       "      <th>hours</th>\n",
       "      <th>minutes</th>\n",
       "      <th>seconds</th>\n",
       "      <th>time_delta</th>\n",
       "      <th>time_gap</th>\n",
       "      <th>duration</th>\n",
       "    </tr>\n",
       "  </thead>\n",
       "  <tbody>\n",
       "    <tr>\n",
       "      <th>0</th>\n",
       "      <td>GRESSIER Jimmy</td>\n",
       "      <td>H-F</td>\n",
       "      <td>IA</td>\n",
       "      <td>1997</td>\n",
       "      <td>SEM</td>\n",
       "      <td>0</td>\n",
       "      <td>27</td>\n",
       "      <td>41</td>\n",
       "      <td>0 days 00:27:41</td>\n",
       "      <td>0 days 00:00:00</td>\n",
       "      <td>1661.0</td>\n",
       "    </tr>\n",
       "    <tr>\n",
       "      <th>1</th>\n",
       "      <td>GRESSIER Jimmy</td>\n",
       "      <td>0</td>\n",
       "      <td></td>\n",
       "      <td>0</td>\n",
       "      <td>None</td>\n",
       "      <td>0</td>\n",
       "      <td>27</td>\n",
       "      <td>41</td>\n",
       "      <td>0 days 00:27:41</td>\n",
       "      <td>0 days 00:00:00</td>\n",
       "      <td>1661.0</td>\n",
       "    </tr>\n",
       "    <tr>\n",
       "      <th>2</th>\n",
       "      <td>AUGUSTO Bastien</td>\n",
       "      <td>CEN</td>\n",
       "      <td>N1</td>\n",
       "      <td>1999</td>\n",
       "      <td>SEM</td>\n",
       "      <td>0</td>\n",
       "      <td>28</td>\n",
       "      <td>29</td>\n",
       "      <td>0 days 00:28:29</td>\n",
       "      <td>0 days 00:00:48</td>\n",
       "      <td>1709.0</td>\n",
       "    </tr>\n",
       "    <tr>\n",
       "      <th>3</th>\n",
       "      <td>AUGUSTO Bastien</td>\n",
       "      <td>0</td>\n",
       "      <td></td>\n",
       "      <td>0</td>\n",
       "      <td>None</td>\n",
       "      <td>0</td>\n",
       "      <td>28</td>\n",
       "      <td>29</td>\n",
       "      <td>0 days 00:28:29</td>\n",
       "      <td>0 days 00:00:48</td>\n",
       "      <td>1709.0</td>\n",
       "    </tr>\n",
       "    <tr>\n",
       "      <th>4</th>\n",
       "      <td>MONTOYA Raphael</td>\n",
       "      <td>I-F</td>\n",
       "      <td>N1</td>\n",
       "      <td>1995</td>\n",
       "      <td>SEM</td>\n",
       "      <td>0</td>\n",
       "      <td>28</td>\n",
       "      <td>48</td>\n",
       "      <td>0 days 00:28:48</td>\n",
       "      <td>0 days 00:01:07</td>\n",
       "      <td>1728.0</td>\n",
       "    </tr>\n",
       "    <tr>\n",
       "      <th>5</th>\n",
       "      <td>MONTOYA Raphael</td>\n",
       "      <td>H-F</td>\n",
       "      <td>IA</td>\n",
       "      <td>1997</td>\n",
       "      <td>SEM</td>\n",
       "      <td>0</td>\n",
       "      <td>28</td>\n",
       "      <td>48</td>\n",
       "      <td>0 days 00:28:48</td>\n",
       "      <td>0 days 00:01:07</td>\n",
       "      <td>1728.0</td>\n",
       "    </tr>\n",
       "    <tr>\n",
       "      <th>6</th>\n",
       "      <td>BRULET Mathieu</td>\n",
       "      <td>CEN</td>\n",
       "      <td>N1</td>\n",
       "      <td>1999</td>\n",
       "      <td>SEM</td>\n",
       "      <td>0</td>\n",
       "      <td>28</td>\n",
       "      <td>53</td>\n",
       "      <td>0 days 00:28:53</td>\n",
       "      <td>0 days 00:01:12</td>\n",
       "      <td>1733.0</td>\n",
       "    </tr>\n",
       "    <tr>\n",
       "      <th>7</th>\n",
       "      <td>MEKDAFOU Youssef</td>\n",
       "      <td>I-F</td>\n",
       "      <td>N1</td>\n",
       "      <td>1995</td>\n",
       "      <td>SEM</td>\n",
       "      <td>0</td>\n",
       "      <td>28</td>\n",
       "      <td>53</td>\n",
       "      <td>0 days 00:28:53</td>\n",
       "      <td>0 days 00:01:12</td>\n",
       "      <td>1733.0</td>\n",
       "    </tr>\n",
       "    <tr>\n",
       "      <th>8</th>\n",
       "      <td>MEKDAFOU Youssef</td>\n",
       "      <td>I-F</td>\n",
       "      <td>N1</td>\n",
       "      <td>1992</td>\n",
       "      <td>SEM</td>\n",
       "      <td>0</td>\n",
       "      <td>28</td>\n",
       "      <td>53</td>\n",
       "      <td>0 days 00:28:53</td>\n",
       "      <td>0 days 00:01:12</td>\n",
       "      <td>1733.0</td>\n",
       "    </tr>\n",
       "    <tr>\n",
       "      <th>9</th>\n",
       "      <td>BRULET Mathieu</td>\n",
       "      <td>N-A</td>\n",
       "      <td>N1</td>\n",
       "      <td>1987</td>\n",
       "      <td>M0M</td>\n",
       "      <td>0</td>\n",
       "      <td>28</td>\n",
       "      <td>53</td>\n",
       "      <td>0 days 00:28:53</td>\n",
       "      <td>0 days 00:01:12</td>\n",
       "      <td>1733.0</td>\n",
       "    </tr>\n",
       "  </tbody>\n",
       "</table>\n",
       "</div>"
      ],
      "text/plain": [
       "            Athlète Ligue Performance Naissance Catégorie  hours  minutes  \\\n",
       "0    GRESSIER Jimmy   H-F          IA      1997       SEM      0       27   \n",
       "1    GRESSIER Jimmy     0                     0      None      0       27   \n",
       "2   AUGUSTO Bastien   CEN          N1      1999       SEM      0       28   \n",
       "3   AUGUSTO Bastien     0                     0      None      0       28   \n",
       "4   MONTOYA Raphael   I-F          N1      1995       SEM      0       28   \n",
       "5   MONTOYA Raphael   H-F          IA      1997       SEM      0       28   \n",
       "6    BRULET Mathieu   CEN          N1      1999       SEM      0       28   \n",
       "7  MEKDAFOU Youssef   I-F          N1      1995       SEM      0       28   \n",
       "8  MEKDAFOU Youssef   I-F          N1      1992       SEM      0       28   \n",
       "9    BRULET Mathieu   N-A          N1      1987       M0M      0       28   \n",
       "\n",
       "   seconds      time_delta        time_gap  duration  \n",
       "0       41 0 days 00:27:41 0 days 00:00:00    1661.0  \n",
       "1       41 0 days 00:27:41 0 days 00:00:00    1661.0  \n",
       "2       29 0 days 00:28:29 0 days 00:00:48    1709.0  \n",
       "3       29 0 days 00:28:29 0 days 00:00:48    1709.0  \n",
       "4       48 0 days 00:28:48 0 days 00:01:07    1728.0  \n",
       "5       48 0 days 00:28:48 0 days 00:01:07    1728.0  \n",
       "6       53 0 days 00:28:53 0 days 00:01:12    1733.0  \n",
       "7       53 0 days 00:28:53 0 days 00:01:12    1733.0  \n",
       "8       53 0 days 00:28:53 0 days 00:01:12    1733.0  \n",
       "9       53 0 days 00:28:53 0 days 00:01:12    1733.0  "
      ]
     },
     "execution_count": 38,
     "metadata": {},
     "output_type": "execute_result"
    }
   ],
   "source": [
    "data['time_gap']=data[\"Chrono\"]-data['Chrono'][0]\n",
    "data['duration']=data['time_delta'].dt.total_seconds()\n",
    "\n",
    "#data['Nom']=data['Athlète'].str.split(n = 0, expand = False).str[0]\n",
    "#data['Prénom']=data['Athlète'].str.split(n = 0, expand = False).str[1]\n",
    "\n",
    "data=data.drop(\"Chrono\", axis=1)\n",
    "data.head(10)"
   ]
  },
  {
   "cell_type": "code",
   "execution_count": 39,
   "id": "d1f9b18b",
   "metadata": {},
   "outputs": [
    {
     "data": {
      "text/html": [
       "<div>\n",
       "<style scoped>\n",
       "    .dataframe tbody tr th:only-of-type {\n",
       "        vertical-align: middle;\n",
       "    }\n",
       "\n",
       "    .dataframe tbody tr th {\n",
       "        vertical-align: top;\n",
       "    }\n",
       "\n",
       "    .dataframe thead th {\n",
       "        text-align: right;\n",
       "    }\n",
       "</style>\n",
       "<table border=\"1\" class=\"dataframe\">\n",
       "  <thead>\n",
       "    <tr style=\"text-align: right;\">\n",
       "      <th></th>\n",
       "      <th>hours</th>\n",
       "      <th>minutes</th>\n",
       "      <th>seconds</th>\n",
       "      <th>time_delta</th>\n",
       "      <th>time_gap</th>\n",
       "      <th>duration</th>\n",
       "    </tr>\n",
       "  </thead>\n",
       "  <tbody>\n",
       "    <tr>\n",
       "      <th>count</th>\n",
       "      <td>500.0</td>\n",
       "      <td>500.000000</td>\n",
       "      <td>500.000000</td>\n",
       "      <td>500</td>\n",
       "      <td>500</td>\n",
       "      <td>500.000000</td>\n",
       "    </tr>\n",
       "    <tr>\n",
       "      <th>mean</th>\n",
       "      <td>0.0</td>\n",
       "      <td>31.256000</td>\n",
       "      <td>29.224000</td>\n",
       "      <td>0 days 00:31:44.584000</td>\n",
       "      <td>0 days 00:04:03.584000</td>\n",
       "      <td>1904.584000</td>\n",
       "    </tr>\n",
       "    <tr>\n",
       "      <th>std</th>\n",
       "      <td>0.0</td>\n",
       "      <td>1.262399</td>\n",
       "      <td>18.272866</td>\n",
       "      <td>0 days 00:01:13.169436768</td>\n",
       "      <td>0 days 00:01:13.169436768</td>\n",
       "      <td>73.169437</td>\n",
       "    </tr>\n",
       "    <tr>\n",
       "      <th>min</th>\n",
       "      <td>0.0</td>\n",
       "      <td>27.000000</td>\n",
       "      <td>0.000000</td>\n",
       "      <td>0 days 00:27:41</td>\n",
       "      <td>0 days 00:00:00</td>\n",
       "      <td>1661.000000</td>\n",
       "    </tr>\n",
       "    <tr>\n",
       "      <th>25%</th>\n",
       "      <td>0.0</td>\n",
       "      <td>30.000000</td>\n",
       "      <td>13.000000</td>\n",
       "      <td>0 days 00:30:54</td>\n",
       "      <td>0 days 00:03:13</td>\n",
       "      <td>1854.000000</td>\n",
       "    </tr>\n",
       "    <tr>\n",
       "      <th>50%</th>\n",
       "      <td>0.0</td>\n",
       "      <td>31.000000</td>\n",
       "      <td>29.000000</td>\n",
       "      <td>0 days 00:31:55</td>\n",
       "      <td>0 days 00:04:14</td>\n",
       "      <td>1915.000000</td>\n",
       "    </tr>\n",
       "    <tr>\n",
       "      <th>75%</th>\n",
       "      <td>0.0</td>\n",
       "      <td>32.000000</td>\n",
       "      <td>46.000000</td>\n",
       "      <td>0 days 00:32:50</td>\n",
       "      <td>0 days 00:05:09</td>\n",
       "      <td>1970.000000</td>\n",
       "    </tr>\n",
       "    <tr>\n",
       "      <th>max</th>\n",
       "      <td>0.0</td>\n",
       "      <td>33.000000</td>\n",
       "      <td>59.000000</td>\n",
       "      <td>0 days 00:33:18</td>\n",
       "      <td>0 days 00:05:37</td>\n",
       "      <td>1998.000000</td>\n",
       "    </tr>\n",
       "  </tbody>\n",
       "</table>\n",
       "</div>"
      ],
      "text/plain": [
       "       hours     minutes     seconds                 time_delta  \\\n",
       "count  500.0  500.000000  500.000000                        500   \n",
       "mean     0.0   31.256000   29.224000     0 days 00:31:44.584000   \n",
       "std      0.0    1.262399   18.272866  0 days 00:01:13.169436768   \n",
       "min      0.0   27.000000    0.000000            0 days 00:27:41   \n",
       "25%      0.0   30.000000   13.000000            0 days 00:30:54   \n",
       "50%      0.0   31.000000   29.000000            0 days 00:31:55   \n",
       "75%      0.0   32.000000   46.000000            0 days 00:32:50   \n",
       "max      0.0   33.000000   59.000000            0 days 00:33:18   \n",
       "\n",
       "                        time_gap     duration  \n",
       "count                        500   500.000000  \n",
       "mean      0 days 00:04:03.584000  1904.584000  \n",
       "std    0 days 00:01:13.169436768    73.169437  \n",
       "min              0 days 00:00:00  1661.000000  \n",
       "25%              0 days 00:03:13  1854.000000  \n",
       "50%              0 days 00:04:14  1915.000000  \n",
       "75%              0 days 00:05:09  1970.000000  \n",
       "max              0 days 00:05:37  1998.000000  "
      ]
     },
     "execution_count": 39,
     "metadata": {},
     "output_type": "execute_result"
    }
   ],
   "source": [
    "data.describe()"
   ]
  },
  {
   "cell_type": "markdown",
   "id": "acde15dd",
   "metadata": {},
   "source": [
    "### Premier exemple de visualisation : distribution des chronos"
   ]
  },
  {
   "cell_type": "code",
   "execution_count": 40,
   "id": "2b695e60",
   "metadata": {},
   "outputs": [
    {
     "data": {
      "text/plain": [
       "<AxesSubplot:ylabel='Density'>"
      ]
     },
     "execution_count": 40,
     "metadata": {},
     "output_type": "execute_result"
    },
    {
     "data": {
      "image/png": "[encoded data removed]",
      "text/plain": [
       "<Figure size 720x360 with 1 Axes>"
      ]
     },
     "metadata": {
      "needs_background": "light"
     },
     "output_type": "display_data"
    }
   ],
   "source": [
    "data[\"duration\"].plot(kind='kde', figsize=(10,5))"
   ]
  },
  {
   "cell_type": "markdown",
   "id": "c7646562",
   "metadata": {},
   "source": [
    "### Deuxième exemple de visualisation : écart avec le premier"
   ]
  },
  {
   "cell_type": "code",
   "execution_count": 41,
   "id": "932849c3",
   "metadata": {},
   "outputs": [
    {
     "data": {
      "text/plain": [
       "<AxesSubplot:>"
      ]
     },
     "execution_count": 41,
     "metadata": {},
     "output_type": "execute_result"
    },
    {
     "data": {
      "image/png": "[encoded data removed]",
      "text/plain": [
       "<Figure size 720x360 with 1 Axes>"
      ]
     },
     "metadata": {
      "needs_background": "light"
     },
     "output_type": "display_data"
    }
   ],
   "source": [
    "data[\"time_gap\"].dt.total_seconds().plot(figsize=(10,5))"
   ]
  },
  {
   "cell_type": "markdown",
   "id": "8e6e8ddf",
   "metadata": {},
   "source": [
    "### Troisième exemple de visualisation : histogramme des performances (labels FFA)"
   ]
  },
  {
   "cell_type": "code",
   "execution_count": 42,
   "id": "b661b2fc",
   "metadata": {},
   "outputs": [
    {
     "data": {
      "text/plain": [
       "<AxesSubplot:>"
      ]
     },
     "execution_count": 42,
     "metadata": {},
     "output_type": "execute_result"
    },
    {
     "data": {
      "image/png": "[encoded data removed]",
      "text/plain": [
       "<Figure size 864x288 with 1 Axes>"
      ]
     },
     "metadata": {
      "needs_background": "light"
     },
     "output_type": "display_data"
    }
   ],
   "source": [
    "data[\"Performance\"].hist(figsize=(12,4))"
   ]
  },
  {
   "cell_type": "code",
   "execution_count": 43,
   "id": "3fb7288f-76d2-49ee-a002-758fd8e52ba8",
   "metadata": {},
   "outputs": [
    {
     "data": {
      "text/plain": [
       "<AxesSubplot:>"
      ]
     },
     "execution_count": 43,
     "metadata": {},
     "output_type": "execute_result"
    },
    {
     "data": {
      "image/png": "[encoded data removed]",
      "text/plain": [
       "<Figure size 864x288 with 1 Axes>"
      ]
     },
     "metadata": {
      "needs_background": "light"
     },
     "output_type": "display_data"
    }
   ],
   "source": [
    "data[\"Catégorie\"].hist(figsize=(12,4))"
   ]
  },
  {
   "cell_type": "markdown",
   "id": "7e685a56-8841-400a-b7b9-cafd062b4c1a",
   "metadata": {},
   "source": [
    "### Exemple output en csv"
   ]
  },
  {
   "cell_type": "code",
   "execution_count": 44,
   "id": "6ab0b1fb-daee-4f65-8680-faf5fa919ee2",
   "metadata": {},
   "outputs": [],
   "source": [
    "#data=data.drop(\"Club\", axis=1)\n",
    "data.to_csv(\"France2022_10KM_TCM.csv\", index=False)"
   ]
  }
 ],
 "metadata": {
  "kernelspec": {
   "display_name": "Python 3",
   "language": "python",
   "name": "python3"
  },
  "language_info": {
   "codemirror_mode": {
    "name": "ipython",
    "version": 3
   },
   "file_extension": ".py",
   "mimetype": "text/x-python",
   "name": "python",
   "nbconvert_exporter": "python",
   "pygments_lexer": "ipython3",
   "version": "3.8.8"
  }
 },
 "nbformat": 4,
 "nbformat_minor": 5
}
