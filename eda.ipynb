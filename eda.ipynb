{
 "cells": [
  {
   "cell_type": "markdown",
   "id": "1084cb24-4805-4c04-99a8-94a9c85f0326",
   "metadata": {},
   "source": [
    "## Etape 2 : Statistiques descriptives\n",
    "\n",
    "### Import des librairies et analyse du jeu de données\n",
    "\n",
    "Import des différentes librairies utiles à l'analyse :"
   ]
  },
  {
   "cell_type": "code",
   "execution_count": 1,
   "id": "696784c9-637a-4f29-9054-1fb860f6d49b",
   "metadata": {},
   "outputs": [],
   "source": [
    "import pandas as pd\n",
    "import numpy as np\n",
    "import matplotlib.pyplot as plt\n",
    "import math\n",
    "from datetime import datetime\n",
    "import time\n",
    "import seaborn as sns\n",
    "from sklearn.cluster import KMeans\n",
    "from sklearn import metrics\n",
    "from sklearn.linear_model import LinearRegression\n",
    "import statsmodels.formula.api as sm\n",
    "from statsmodels.regression.linear_model import OLS\n",
    "from statsmodels.tools.tools import add_constant\n",
    "import gender_guesser.detector as gender"
   ]
  },
  {
   "cell_type": "markdown",
   "id": "8dc51025-e6e2-40bc-82a0-27149ccde2de",
   "metadata": {},
   "source": [
    "Il est nécessaire d'installer et d'importer \"importnb\" pour avoir accès aux fonctionns définies dans \"algoStatCourse\" :"
   ]
  },
  {
   "cell_type": "code",
   "execution_count": 2,
   "id": "ec28ec85-e385-4d1e-a767-ef3b7c1f065a",
   "metadata": {},
   "outputs": [],
   "source": [
    "#pip install importnb\n",
    "#!pip install gender-guesser"
   ]
  },
  {
   "cell_type": "code",
   "execution_count": 3,
   "id": "468343d2",
   "metadata": {},
   "outputs": [],
   "source": [
    "from importnb import Notebook\n",
    "with Notebook():\n",
    "    import algoStatCourse"
   ]
  },
  {
   "cell_type": "markdown",
   "id": "b54c390d-7281-4549-9622-a2442cf1bde0",
   "metadata": {},
   "source": [
    "Il faut ensuite importer un jeu de donnée. On prend le jeu de données correspondant aux 10 kilomètres de Riorges comme exemple pour l'analyse dans ce document :"
   ]
  },
  {
   "cell_type": "code",
   "execution_count": 4,
   "id": "18aeb977-4fec-417e-85a3-8771d3739a92",
   "metadata": {},
   "outputs": [],
   "source": [
    "data=pd.read_csv(\"10_km_Riorges.csv\")"
   ]
  },
  {
   "cell_type": "markdown",
   "id": "6bf92182-59bd-4c12-b1e9-53cd4c15f5fa",
   "metadata": {},
   "source": [
    "Comme chaque jeu de données extrait, nous avons à notre disponibilité le nom et prénom de chaque athlète, leur performance, leur années de naissance, la catégorie à laquelle ils appartiennent, leur temps, ainsi que leur écart de temps avec le premier."
   ]
  },
  {
   "cell_type": "code",
   "execution_count": 5,
   "id": "1932f8ca-22c6-4b0a-b54f-b617a06be95e",
   "metadata": {},
   "outputs": [
    {
     "data": {
      "text/html": [
       "<div>\n",
       "<style scoped>\n",
       "    .dataframe tbody tr th:only-of-type {\n",
       "        vertical-align: middle;\n",
       "    }\n",
       "\n",
       "    .dataframe tbody tr th {\n",
       "        vertical-align: top;\n",
       "    }\n",
       "\n",
       "    .dataframe thead th {\n",
       "        text-align: right;\n",
       "    }\n",
       "</style>\n",
       "<table border=\"1\" class=\"dataframe\">\n",
       "  <thead>\n",
       "    <tr style=\"text-align: right;\">\n",
       "      <th></th>\n",
       "      <th>Athlète</th>\n",
       "      <th>Ligue</th>\n",
       "      <th>Performance</th>\n",
       "      <th>Naissance</th>\n",
       "      <th>Catégorie</th>\n",
       "      <th>time_delta</th>\n",
       "      <th>time_gap</th>\n",
       "      <th>duration</th>\n",
       "      <th>Nom</th>\n",
       "      <th>Prénom</th>\n",
       "    </tr>\n",
       "  </thead>\n",
       "  <tbody>\n",
       "    <tr>\n",
       "      <th>0</th>\n",
       "      <td>LORTON Guillaume</td>\n",
       "      <td>ARA</td>\n",
       "      <td>N4</td>\n",
       "      <td>1989</td>\n",
       "      <td>SEM</td>\n",
       "      <td>0 days 00:30:58</td>\n",
       "      <td>0 days 00:00:00</td>\n",
       "      <td>1858.0</td>\n",
       "      <td>LORTON</td>\n",
       "      <td>Guillaume</td>\n",
       "    </tr>\n",
       "    <tr>\n",
       "      <th>1</th>\n",
       "      <td>BETRON Adrien</td>\n",
       "      <td>ARA</td>\n",
       "      <td>IR1</td>\n",
       "      <td>1989</td>\n",
       "      <td>SEM</td>\n",
       "      <td>0 days 00:31:30</td>\n",
       "      <td>0 days 00:00:32</td>\n",
       "      <td>1890.0</td>\n",
       "      <td>BETRON</td>\n",
       "      <td>Adrien</td>\n",
       "    </tr>\n",
       "    <tr>\n",
       "      <th>2</th>\n",
       "      <td>MOULIN Loic</td>\n",
       "      <td>ARA</td>\n",
       "      <td>IR2</td>\n",
       "      <td>1992</td>\n",
       "      <td>SEM</td>\n",
       "      <td>0 days 00:32:01</td>\n",
       "      <td>0 days 00:01:03</td>\n",
       "      <td>1921.0</td>\n",
       "      <td>MOULIN</td>\n",
       "      <td>Loic</td>\n",
       "    </tr>\n",
       "    <tr>\n",
       "      <th>3</th>\n",
       "      <td>DEBROUCKER Guillaume</td>\n",
       "      <td>ARA</td>\n",
       "      <td>IR2</td>\n",
       "      <td>1982</td>\n",
       "      <td>M1M</td>\n",
       "      <td>0 days 00:32:15</td>\n",
       "      <td>0 days 00:01:17</td>\n",
       "      <td>1935.0</td>\n",
       "      <td>DEBROUCKER</td>\n",
       "      <td>Guillaume</td>\n",
       "    </tr>\n",
       "    <tr>\n",
       "      <th>4</th>\n",
       "      <td>KEMEI Charles</td>\n",
       "      <td>ARA</td>\n",
       "      <td>IR2</td>\n",
       "      <td>1984</td>\n",
       "      <td>M0M</td>\n",
       "      <td>0 days 00:32:40</td>\n",
       "      <td>0 days 00:01:42</td>\n",
       "      <td>1960.0</td>\n",
       "      <td>KEMEI</td>\n",
       "      <td>Charles</td>\n",
       "    </tr>\n",
       "  </tbody>\n",
       "</table>\n",
       "</div>"
      ],
      "text/plain": [
       "                Athlète Ligue Performance  Naissance Catégorie  \\\n",
       "0      LORTON Guillaume   ARA          N4       1989       SEM   \n",
       "1         BETRON Adrien   ARA         IR1       1989       SEM   \n",
       "2           MOULIN Loic   ARA         IR2       1992       SEM   \n",
       "3  DEBROUCKER Guillaume   ARA         IR2       1982       M1M   \n",
       "4         KEMEI Charles   ARA         IR2       1984       M0M   \n",
       "\n",
       "        time_delta         time_gap  duration         Nom     Prénom  \n",
       "0  0 days 00:30:58  0 days 00:00:00    1858.0      LORTON  Guillaume  \n",
       "1  0 days 00:31:30  0 days 00:00:32    1890.0      BETRON     Adrien  \n",
       "2  0 days 00:32:01  0 days 00:01:03    1921.0      MOULIN       Loic  \n",
       "3  0 days 00:32:15  0 days 00:01:17    1935.0  DEBROUCKER  Guillaume  \n",
       "4  0 days 00:32:40  0 days 00:01:42    1960.0       KEMEI    Charles  "
      ]
     },
     "execution_count": 5,
     "metadata": {},
     "output_type": "execute_result"
    }
   ],
   "source": [
    "data.head()"
   ]
  },
  {
   "cell_type": "code",
   "execution_count": 6,
   "id": "41fe9949-328c-4ac8-9e23-6f82ddb244b2",
   "metadata": {},
   "outputs": [
    {
     "name": "stdout",
     "output_type": "stream",
     "text": [
      "          Athlète Ligue Performance  Naissance Catégorie       time_delta  \\\n",
      "224  JULIEN Annie     0          D7       1957       M6F  0 days 00:58:57   \n",
      "\n",
      "            time_gap  duration     Nom Prénom  \n",
      "224  0 days 00:27:59    3537.0  JULIEN  Annie  \n"
     ]
    },
    {
     "data": {
      "text/html": [
       "<div>\n",
       "<style scoped>\n",
       "    .dataframe tbody tr th:only-of-type {\n",
       "        vertical-align: middle;\n",
       "    }\n",
       "\n",
       "    .dataframe tbody tr th {\n",
       "        vertical-align: top;\n",
       "    }\n",
       "\n",
       "    .dataframe thead th {\n",
       "        text-align: right;\n",
       "    }\n",
       "</style>\n",
       "<table border=\"1\" class=\"dataframe\">\n",
       "  <thead>\n",
       "    <tr style=\"text-align: right;\">\n",
       "      <th></th>\n",
       "      <th>Athlète</th>\n",
       "      <th>Ligue</th>\n",
       "      <th>Performance</th>\n",
       "      <th>Naissance</th>\n",
       "      <th>time_delta</th>\n",
       "      <th>time_gap</th>\n",
       "      <th>duration</th>\n",
       "      <th>Nom</th>\n",
       "      <th>Prénom</th>\n",
       "    </tr>\n",
       "    <tr>\n",
       "      <th>Catégorie</th>\n",
       "      <th></th>\n",
       "      <th></th>\n",
       "      <th></th>\n",
       "      <th></th>\n",
       "      <th></th>\n",
       "      <th></th>\n",
       "      <th></th>\n",
       "      <th></th>\n",
       "      <th></th>\n",
       "    </tr>\n",
       "  </thead>\n",
       "  <tbody>\n",
       "    <tr>\n",
       "      <th>CAF</th>\n",
       "      <td>2</td>\n",
       "      <td>2</td>\n",
       "      <td>2</td>\n",
       "      <td>2</td>\n",
       "      <td>2</td>\n",
       "      <td>2</td>\n",
       "      <td>2</td>\n",
       "      <td>2</td>\n",
       "      <td>2</td>\n",
       "    </tr>\n",
       "    <tr>\n",
       "      <th>CAM</th>\n",
       "      <td>3</td>\n",
       "      <td>3</td>\n",
       "      <td>3</td>\n",
       "      <td>3</td>\n",
       "      <td>3</td>\n",
       "      <td>3</td>\n",
       "      <td>3</td>\n",
       "      <td>3</td>\n",
       "      <td>3</td>\n",
       "    </tr>\n",
       "    <tr>\n",
       "      <th>ESF</th>\n",
       "      <td>3</td>\n",
       "      <td>3</td>\n",
       "      <td>3</td>\n",
       "      <td>3</td>\n",
       "      <td>3</td>\n",
       "      <td>3</td>\n",
       "      <td>3</td>\n",
       "      <td>3</td>\n",
       "      <td>3</td>\n",
       "    </tr>\n",
       "    <tr>\n",
       "      <th>ESM</th>\n",
       "      <td>8</td>\n",
       "      <td>8</td>\n",
       "      <td>8</td>\n",
       "      <td>8</td>\n",
       "      <td>8</td>\n",
       "      <td>8</td>\n",
       "      <td>8</td>\n",
       "      <td>8</td>\n",
       "      <td>8</td>\n",
       "    </tr>\n",
       "    <tr>\n",
       "      <th>JUF</th>\n",
       "      <td>2</td>\n",
       "      <td>2</td>\n",
       "      <td>2</td>\n",
       "      <td>2</td>\n",
       "      <td>2</td>\n",
       "      <td>2</td>\n",
       "      <td>2</td>\n",
       "      <td>2</td>\n",
       "      <td>2</td>\n",
       "    </tr>\n",
       "    <tr>\n",
       "      <th>JUM</th>\n",
       "      <td>5</td>\n",
       "      <td>5</td>\n",
       "      <td>5</td>\n",
       "      <td>5</td>\n",
       "      <td>5</td>\n",
       "      <td>5</td>\n",
       "      <td>5</td>\n",
       "      <td>5</td>\n",
       "      <td>5</td>\n",
       "    </tr>\n",
       "    <tr>\n",
       "      <th>M0F</th>\n",
       "      <td>9</td>\n",
       "      <td>9</td>\n",
       "      <td>9</td>\n",
       "      <td>9</td>\n",
       "      <td>9</td>\n",
       "      <td>9</td>\n",
       "      <td>9</td>\n",
       "      <td>9</td>\n",
       "      <td>9</td>\n",
       "    </tr>\n",
       "    <tr>\n",
       "      <th>M0M</th>\n",
       "      <td>22</td>\n",
       "      <td>22</td>\n",
       "      <td>22</td>\n",
       "      <td>22</td>\n",
       "      <td>22</td>\n",
       "      <td>22</td>\n",
       "      <td>22</td>\n",
       "      <td>22</td>\n",
       "      <td>22</td>\n",
       "    </tr>\n",
       "    <tr>\n",
       "      <th>M1F</th>\n",
       "      <td>11</td>\n",
       "      <td>11</td>\n",
       "      <td>11</td>\n",
       "      <td>11</td>\n",
       "      <td>11</td>\n",
       "      <td>11</td>\n",
       "      <td>11</td>\n",
       "      <td>11</td>\n",
       "      <td>11</td>\n",
       "    </tr>\n",
       "    <tr>\n",
       "      <th>M1M</th>\n",
       "      <td>38</td>\n",
       "      <td>38</td>\n",
       "      <td>38</td>\n",
       "      <td>38</td>\n",
       "      <td>38</td>\n",
       "      <td>38</td>\n",
       "      <td>38</td>\n",
       "      <td>38</td>\n",
       "      <td>38</td>\n",
       "    </tr>\n",
       "    <tr>\n",
       "      <th>M2F</th>\n",
       "      <td>6</td>\n",
       "      <td>6</td>\n",
       "      <td>6</td>\n",
       "      <td>6</td>\n",
       "      <td>6</td>\n",
       "      <td>6</td>\n",
       "      <td>6</td>\n",
       "      <td>6</td>\n",
       "      <td>6</td>\n",
       "    </tr>\n",
       "    <tr>\n",
       "      <th>M2M</th>\n",
       "      <td>17</td>\n",
       "      <td>17</td>\n",
       "      <td>17</td>\n",
       "      <td>17</td>\n",
       "      <td>17</td>\n",
       "      <td>17</td>\n",
       "      <td>17</td>\n",
       "      <td>17</td>\n",
       "      <td>17</td>\n",
       "    </tr>\n",
       "    <tr>\n",
       "      <th>M3F</th>\n",
       "      <td>1</td>\n",
       "      <td>1</td>\n",
       "      <td>1</td>\n",
       "      <td>1</td>\n",
       "      <td>1</td>\n",
       "      <td>1</td>\n",
       "      <td>1</td>\n",
       "      <td>1</td>\n",
       "      <td>1</td>\n",
       "    </tr>\n",
       "    <tr>\n",
       "      <th>M3M</th>\n",
       "      <td>17</td>\n",
       "      <td>17</td>\n",
       "      <td>17</td>\n",
       "      <td>17</td>\n",
       "      <td>17</td>\n",
       "      <td>17</td>\n",
       "      <td>17</td>\n",
       "      <td>17</td>\n",
       "      <td>17</td>\n",
       "    </tr>\n",
       "    <tr>\n",
       "      <th>M4F</th>\n",
       "      <td>2</td>\n",
       "      <td>2</td>\n",
       "      <td>2</td>\n",
       "      <td>2</td>\n",
       "      <td>2</td>\n",
       "      <td>2</td>\n",
       "      <td>2</td>\n",
       "      <td>2</td>\n",
       "      <td>2</td>\n",
       "    </tr>\n",
       "    <tr>\n",
       "      <th>M4M</th>\n",
       "      <td>13</td>\n",
       "      <td>13</td>\n",
       "      <td>13</td>\n",
       "      <td>13</td>\n",
       "      <td>13</td>\n",
       "      <td>13</td>\n",
       "      <td>13</td>\n",
       "      <td>13</td>\n",
       "      <td>13</td>\n",
       "    </tr>\n",
       "    <tr>\n",
       "      <th>M5F</th>\n",
       "      <td>2</td>\n",
       "      <td>2</td>\n",
       "      <td>2</td>\n",
       "      <td>2</td>\n",
       "      <td>2</td>\n",
       "      <td>2</td>\n",
       "      <td>2</td>\n",
       "      <td>2</td>\n",
       "      <td>2</td>\n",
       "    </tr>\n",
       "    <tr>\n",
       "      <th>M5M</th>\n",
       "      <td>6</td>\n",
       "      <td>6</td>\n",
       "      <td>6</td>\n",
       "      <td>6</td>\n",
       "      <td>6</td>\n",
       "      <td>6</td>\n",
       "      <td>6</td>\n",
       "      <td>6</td>\n",
       "      <td>6</td>\n",
       "    </tr>\n",
       "    <tr>\n",
       "      <th>M6F</th>\n",
       "      <td>1</td>\n",
       "      <td>1</td>\n",
       "      <td>1</td>\n",
       "      <td>1</td>\n",
       "      <td>1</td>\n",
       "      <td>1</td>\n",
       "      <td>1</td>\n",
       "      <td>1</td>\n",
       "      <td>1</td>\n",
       "    </tr>\n",
       "    <tr>\n",
       "      <th>M6M</th>\n",
       "      <td>7</td>\n",
       "      <td>7</td>\n",
       "      <td>7</td>\n",
       "      <td>7</td>\n",
       "      <td>7</td>\n",
       "      <td>7</td>\n",
       "      <td>7</td>\n",
       "      <td>7</td>\n",
       "      <td>7</td>\n",
       "    </tr>\n",
       "    <tr>\n",
       "      <th>M7M</th>\n",
       "      <td>3</td>\n",
       "      <td>3</td>\n",
       "      <td>3</td>\n",
       "      <td>3</td>\n",
       "      <td>3</td>\n",
       "      <td>3</td>\n",
       "      <td>3</td>\n",
       "      <td>3</td>\n",
       "      <td>3</td>\n",
       "    </tr>\n",
       "    <tr>\n",
       "      <th>M8F</th>\n",
       "      <td>1</td>\n",
       "      <td>1</td>\n",
       "      <td>1</td>\n",
       "      <td>1</td>\n",
       "      <td>1</td>\n",
       "      <td>1</td>\n",
       "      <td>1</td>\n",
       "      <td>1</td>\n",
       "      <td>1</td>\n",
       "    </tr>\n",
       "    <tr>\n",
       "      <th>M8M</th>\n",
       "      <td>1</td>\n",
       "      <td>1</td>\n",
       "      <td>1</td>\n",
       "      <td>1</td>\n",
       "      <td>1</td>\n",
       "      <td>1</td>\n",
       "      <td>1</td>\n",
       "      <td>1</td>\n",
       "      <td>1</td>\n",
       "    </tr>\n",
       "    <tr>\n",
       "      <th>SEF</th>\n",
       "      <td>22</td>\n",
       "      <td>22</td>\n",
       "      <td>22</td>\n",
       "      <td>22</td>\n",
       "      <td>22</td>\n",
       "      <td>22</td>\n",
       "      <td>22</td>\n",
       "      <td>22</td>\n",
       "      <td>22</td>\n",
       "    </tr>\n",
       "    <tr>\n",
       "      <th>SEM</th>\n",
       "      <td>48</td>\n",
       "      <td>48</td>\n",
       "      <td>48</td>\n",
       "      <td>48</td>\n",
       "      <td>48</td>\n",
       "      <td>48</td>\n",
       "      <td>48</td>\n",
       "      <td>48</td>\n",
       "      <td>48</td>\n",
       "    </tr>\n",
       "  </tbody>\n",
       "</table>\n",
       "</div>"
      ],
      "text/plain": [
       "           Athlète  Ligue  Performance  Naissance  time_delta  time_gap  \\\n",
       "Catégorie                                                                 \n",
       "CAF              2      2            2          2           2         2   \n",
       "CAM              3      3            3          3           3         3   \n",
       "ESF              3      3            3          3           3         3   \n",
       "ESM              8      8            8          8           8         8   \n",
       "JUF              2      2            2          2           2         2   \n",
       "JUM              5      5            5          5           5         5   \n",
       "M0F              9      9            9          9           9         9   \n",
       "M0M             22     22           22         22          22        22   \n",
       "M1F             11     11           11         11          11        11   \n",
       "M1M             38     38           38         38          38        38   \n",
       "M2F              6      6            6          6           6         6   \n",
       "M2M             17     17           17         17          17        17   \n",
       "M3F              1      1            1          1           1         1   \n",
       "M3M             17     17           17         17          17        17   \n",
       "M4F              2      2            2          2           2         2   \n",
       "M4M             13     13           13         13          13        13   \n",
       "M5F              2      2            2          2           2         2   \n",
       "M5M              6      6            6          6           6         6   \n",
       "M6F              1      1            1          1           1         1   \n",
       "M6M              7      7            7          7           7         7   \n",
       "M7M              3      3            3          3           3         3   \n",
       "M8F              1      1            1          1           1         1   \n",
       "M8M              1      1            1          1           1         1   \n",
       "SEF             22     22           22         22          22        22   \n",
       "SEM             48     48           48         48          48        48   \n",
       "\n",
       "           duration  Nom  Prénom  \n",
       "Catégorie                         \n",
       "CAF               2    2       2  \n",
       "CAM               3    3       3  \n",
       "ESF               3    3       3  \n",
       "ESM               8    8       8  \n",
       "JUF               2    2       2  \n",
       "JUM               5    5       5  \n",
       "M0F               9    9       9  \n",
       "M0M              22   22      22  \n",
       "M1F              11   11      11  \n",
       "M1M              38   38      38  \n",
       "M2F               6    6       6  \n",
       "M2M              17   17      17  \n",
       "M3F               1    1       1  \n",
       "M3M              17   17      17  \n",
       "M4F               2    2       2  \n",
       "M4M              13   13      13  \n",
       "M5F               2    2       2  \n",
       "M5M               6    6       6  \n",
       "M6F               1    1       1  \n",
       "M6M               7    7       7  \n",
       "M7M               3    3       3  \n",
       "M8F               1    1       1  \n",
       "M8M               1    1       1  \n",
       "SEF              22   22      22  \n",
       "SEM              48   48      48  "
      ]
     },
     "execution_count": 6,
     "metadata": {},
     "output_type": "execute_result"
    }
   ],
   "source": [
    "data[data['Prénom']=='Vincent']\n",
    "print(data[data['Catégorie']=='M6F'])\n",
    "data.groupby('Catégorie').count()"
   ]
  },
  {
   "cell_type": "markdown",
   "id": "11d41117-755e-4484-a572-9e923327d749",
   "metadata": {},
   "source": [
    "On ajoute la variable 'h_duration' qui permet d'obtenir le temps d'arrivée dans le format heures, minutes, secondes, afin d'avoir une variable explicite pour la visualisation."
   ]
  },
  {
   "cell_type": "code",
   "execution_count": 7,
   "id": "6c400230-46ad-4d9d-876d-3279213d0441",
   "metadata": {},
   "outputs": [],
   "source": [
    "data['h_duration'] = data['duration'].apply(lambda x : pd.to_datetime(x,unit=\"s\").strftime('%H:%M:%S'))"
   ]
  },
  {
   "cell_type": "markdown",
   "id": "a9020f8e-d3c8-426f-9c8f-b1b13451f945",
   "metadata": {},
   "source": [
    "Nous analysons maintenant les statistiques descriptives du temps d'arrivée afin de connaitre rapidement la forme des données, et la présence de possible valeurs abérantes, pour guider la construction des visualisations utile à l'athlète. Dans ce jeu de données, nous n'avons à première vue pas de potentiels valeurs abbérantes étant données que les temps sont environ réparti entre 30 et 70 mn, temps normaux pour une course de 10 km."
   ]
  },
  {
   "cell_type": "code",
   "execution_count": 8,
   "id": "81515285-143b-4470-b72e-1471ac77efa8",
   "metadata": {},
   "outputs": [
    {
     "data": {
      "text/plain": [
       "count    250.000000\n",
       "mean      46.830600\n",
       "std        8.432333\n",
       "min       30.966667\n",
       "25%       39.666667\n",
       "50%       46.158333\n",
       "75%       52.758333\n",
       "max       70.750000\n",
       "Name: duration, dtype: float64"
      ]
     },
     "execution_count": 8,
     "metadata": {},
     "output_type": "execute_result"
    }
   ],
   "source": [
    "(data['duration']/60).describe()"
   ]
  },
  {
   "cell_type": "markdown",
   "id": "619646a9-15b9-4590-99db-a22dcc208889",
   "metadata": {},
   "source": [
    "### Construction des visualisations et données utiles à l'athlète"
   ]
  },
  {
   "cell_type": "markdown",
   "id": "70f297c1-44e5-42c3-b904-d021b5dd228e",
   "metadata": {},
   "source": [
    "On utilise maintenant algoStatCourse pour construire un graphique rendant compte de la position de l'athlète dans la densité des temps d'arrivée."
   ]
  },
  {
   "cell_type": "code",
   "execution_count": 9,
   "id": "9c08ffd6-6851-49b3-835c-e00ed4a7ab5e",
   "metadata": {},
   "outputs": [],
   "source": [
    "# densite=algoStatCourse.dens(data['duration'], bins = 12) #Calcul de la densité de la variable 'duration'\n",
    "# fcubic=algoStatCourse.lissage(densite, sep = True) #Retourne la fonction d'interpolation cubique\n",
    "# flin=algoStatCourse.lissage(densite, sep = False, kind = 'linear') #Retourne la fonction d'interpolation linéaire"
   ]
  },
  {
   "cell_type": "markdown",
   "id": "a00ff0d9-f64d-4d17-803c-896b93c3a2d3",
   "metadata": {},
   "source": [
    "On définit une fonction qui permet d'appliquer une indicatrice afin de retourner la partie de la fonction qui nous intéresse. Cela sera utile pour mettre en avant les athlètes plus rapides qu'un athlète donné dans la distribution des temps."
   ]
  },
  {
   "cell_type": "code",
   "execution_count": 10,
   "id": "b1cdf12e-7a69-4573-81c7-b8a611d01c52",
   "metadata": {},
   "outputs": [],
   "source": [
    "def truncf (f,xmin, xmax):\n",
    "    def f2 (x):\n",
    "        if (x>=xmin)*(x<=xmax):\n",
    "            return f(x)\n",
    "        return np.nan\n",
    "    \n",
    "    return np.vectorize(f2)"
   ]
  },
  {
   "cell_type": "markdown",
   "id": "3c6dab8c-1849-456c-8bcd-b74e3707c542",
   "metadata": {},
   "source": [
    "Il est maintenant possible de définir une fonction pour visualiser la position individuelle de l'athlète dans la densité de temps de la compétition."
   ]
  },
  {
   "cell_type": "code",
   "execution_count": 11,
   "id": "06b8a285",
   "metadata": {},
   "outputs": [],
   "source": [
    "def graphePerso(prenom, nom, data, titre):\n",
    "    \n",
    "    densite=algoStatCourse.dens(data['duration'], bins = algoStatCourse.idealBins(len(data['duration']))) #Calcul de la densité de la variable 'duration'\n",
    "    #print(densite)\n",
    "    fcubic=algoStatCourse.lissage(densite, sep = True,beginend = (data['duration'].min(),data['duration'].max())) #Retourne la fonction d'interpolation cubique\n",
    "    flin=algoStatCourse.lissage(densite, sep = False, kind = 'linear', beginend = (data['duration'].min(),data['duration'].max())) #Retourne la fonction d'interpolation linéaire\n",
    "    \n",
    "    z=data.index[data.Athlète==(nom.upper()+\" \"+prenom.capitalize())] #numéro de l'index du participant\n",
    "    \n",
    "    temps = data.loc[z[0],'duration'] #temps du participant\n",
    "    \n",
    "    x= np.linspace(data['duration'].min(),data['duration'].max(), int(1e5)) #x permet d'obtenir un tracé continu\n",
    "\n",
    "    tempsAxe = np.linspace(densite[0,0],densite[0,-1],6) #définition de l'axe des abscisses en secondes avec 6 points\n",
    "    labelTempsAxe = pd.Series(tempsAxe).apply(lambda x : pd.to_datetime(x,unit=\"s\").strftime('%H:%M:%S')) #Définition de la forme que prendra le temps sur l'axe des abcisses (format heures/minutes/secondes pour plus de lisibilité)\n",
    "\n",
    "    plt.figure(figsize=(8,4.5), dpi=80) #format de la figure, (dpi pour la résolution)\n",
    "    plt.fill_between(x, fcubic(x), alpha = 0.3) #fonction pour colorier l'aire sous la courbe\n",
    "    plt.plot(x, fcubic(x), color = 'blue', label = 'densité lissée & interpolée')\n",
    "\n",
    "    #plt.plot(x,flin(x), linestyle ='--', color = 'black', label = \"densité réelle\") #possibilité de dessiner l'interpolation linéaire au lieu de l'interpolation cubique\n",
    "\n",
    "    plt.axvline(temps, color='r',alpha=0.3) #ligne verticale pour indiquer la position du participant sur les abscisses\n",
    "\n",
    "    f2=truncf(fcubic,data['duration'].min(), temps) #on tronque fcubic pour ne retenir que la partie de la fonction des temps meilleurs à celui de l'individu\n",
    "    plt.fill_between(x,f2(x), alpha = 0.6, color = 'red') #on affiche l'aire des temps meilleurs à celui de l'individu en rouge\n",
    "\n",
    "    #plt.axvspan(temps, densite[0,0], color='r', alpha=0.3)\n",
    "    plt.legend() #permet d'afficher les légendes qu'on a mises dans les arguments 'label' des fonctions juste au dessus\n",
    "\n",
    "    # Ajout des labels et titre\n",
    "    plt.title(titre, color= 'tab:red', fontsize = '15', fontstyle = 'oblique') # titre\n",
    "    plt.xlabel(\"Durée pour franchir la ligne d'arrivée\", fontstyle = 'italic', labelpad=5) #label abscisse\n",
    "    plt.ylabel(\"Densité des athlètes\", fontstyle = 'italic', labelpad=20) #label ordonnée\n",
    "    #plt.xticks(tempsAxe,labels = labelTempsAxe) #permet de choisir ce qu'on met sur l'axe des x : les coordonnées dans le premier argument, ce qu'il faut afficher dans le second.\n",
    "    plt.ylim((-0.1*max(densite[1]),1.1*max(densite[1]))) #permet de choisir l'espace au dessus et au dessous du graphe\n",
    "    plt.text(data.loc[z[0],'duration'],0.0001,data.loc[z[0],'Prénom'] ) # ajoute un texte directement sur le graphe\n",
    "    plt.show()\n",
    "    return"
   ]
  },
  {
   "cell_type": "code",
   "execution_count": 12,
   "id": "050e4bcf-60c4-4116-8632-4a9026eb1698",
   "metadata": {},
   "outputs": [
    {
     "data": {
      "image/png": "[encoded data removed]",
      "text/plain": [
       "<Figure size 640x360 with 1 Axes>"
      ]
     },
     "metadata": {
      "needs_background": "light"
     },
     "output_type": "display_data"
    }
   ],
   "source": [
    "graphePerso(\"annie\",\"julien\", data=data,titre = \"Densité des temps d'arrivée\")"
   ]
  },
  {
   "cell_type": "markdown",
   "id": "82b1533b-8dff-41ea-90ce-1572c5ba4c55",
   "metadata": {},
   "source": [
    "Test de la fonction graph perso en se restreignant à la catégorie de l'athlète : "
   ]
  },
  {
   "cell_type": "code",
   "execution_count": 13,
   "id": "c40adf68",
   "metadata": {},
   "outputs": [],
   "source": [
    "def graphePerso2(prenom, nom, data=data):\n",
    "    z=data.index[data.Athlète==(nom.upper()+\" \"+prenom.capitalize())]\n",
    "    data2=data[data['Catégorie']==data.loc[z[0],'Catégorie']]\n",
    "    graphePerso(prenom, nom, data=data2, titre = f\"Densité des temps d'arrivée dans la catégorie {data.loc[z[0],'Catégorie']}\")\n",
    "               \n",
    "    return\n"
   ]
  },
  {
   "cell_type": "markdown",
   "id": "f69a4e1c-6c0e-4d69-afb0-55f948ca84ca",
   "metadata": {},
   "source": [
    "Cette fonction peut poser des problèmes si peu de d'athlètes sont inscrits dans la catégorie."
   ]
  },
  {
   "cell_type": "code",
   "execution_count": 14,
   "id": "67bb7f28-3cde-4c35-85be-b4dc73ef290b",
   "metadata": {},
   "outputs": [
    {
     "data": {
      "image/png": "[encoded data removed]",
      "text/plain": [
       "<Figure size 640x360 with 1 Axes>"
      ]
     },
     "metadata": {
      "needs_background": "light"
     },
     "output_type": "display_data"
    }
   ],
   "source": [
    "graphePerso2(\"laurent\",\"surget\", data=data)"
   ]
  },
  {
   "cell_type": "markdown",
   "id": "0ab4726d-9285-44e0-a662-78d32360dd47",
   "metadata": {},
   "source": [
    "### Construction et application de l'output des statistiques et visuels individuels\n",
    "\n",
    "On construit d'abord deux fonctions qui permettront de demander à l'utilisateur son nom et prénom."
   ]
  },
  {
   "cell_type": "code",
   "execution_count": 15,
   "id": "7bc42801-359b-4f5c-8f2b-44ac0cd26666",
   "metadata": {},
   "outputs": [],
   "source": [
    "def Prenom():\n",
    "  user_input = input(\"Veuillez entrer votre prénom\")\n",
    "  return user_input\n",
    "\n",
    "def Nom():\n",
    "  user_input = input(\"Veuillez entrer votre nom\")\n",
    "  return user_input"
   ]
  },
  {
   "cell_type": "markdown",
   "id": "e5bc0370-70a7-4c0d-8623-06c23bf4daae",
   "metadata": {},
   "source": [
    "Ici, on définit une fonction permettant de donner directement les premières informations utile, à partir du nom et prénom, de la performance individuelle relativement à la performance globale de la compétition."
   ]
  },
  {
   "cell_type": "code",
   "execution_count": 16,
   "id": "de35a8b8",
   "metadata": {},
   "outputs": [],
   "source": [
    "def info_participant():\n",
    "    x=input(\"Prenom\")\n",
    "    y=input(\"Nom\")\n",
    "    if ~data['Athlète'].isin([(y.upper()+\" \"+x.capitalize())]).any():\n",
    "        print(\"Le nom que vous avez entré n'est pas dans la liste des participants de la course choisie.\")\n",
    "    else:\n",
    "        z=data.index[data.Athlète==(y.upper()+\" \"+x.capitalize())]\n",
    "        print(\"Temps d'arrivé :\", data.loc[z[0],'h_duration'])\n",
    "        print(\"Position d'arrivée : \", data.index[z[0]]+1)\n",
    "        print(\"Niveau de la performance\", data.loc[z[0],'Performance'])\n",
    "        print(\"Temps d'arrivé dans le top :\", math.ceil(((data.duration<=data.loc[z[0],'duration']).sum())/len(data)*100),\"%\")\n",
    "        print(\"Position parmis les\", len(data[data['Catégorie']==data.loc[z[0],'Catégorie']]),\"participants de la catégorie\", data.loc[z[0],'Catégorie'], \":\",round(data[data['Catégorie']==data.loc[z[0],'Catégorie']]['duration'].rank().loc[z[0]]))\n",
    "        print(\"Position parmis les\", len((data[abs(data.loc[:,'Naissance']-data.loc[z[0],'Naissance'])<=5])), \"participants ayant plus ou moins 5 ans de différence d'âge avec vous : \", round(((data[abs(data.loc[:,'Naissance']-data.loc[z[0],'Naissance'])<=5])['duration'].rank()).loc[z[0]]))\n",
    "        graphePerso(x,y,data,titre=\"Durée pour franchir la ligne d'arrivée\")\n",
    "        if len(data[data['Catégorie']==data.loc[z[0],'Catégorie']])>10:#la fonction graphPerso 2 ne se lance que si il y a un certains nombre d'athlète inscrit dans la catégorie\n",
    "            graphePerso2(x,y,data)"
   ]
  },
  {
   "cell_type": "markdown",
   "id": "4a538c1a-7fab-41d6-833f-0730fff15750",
   "metadata": {},
   "source": [
    "Exemple d'utilisation:"
   ]
  },
  {
   "cell_type": "code",
   "execution_count": 38,
   "id": "51109e76-77d7-47e0-9f97-b84d3fe0df99",
   "metadata": {},
   "outputs": [
    {
     "name": "stdin",
     "output_type": "stream",
     "text": [
      "Prenom charles\n",
      "Nom kemei\n"
     ]
    },
    {
     "name": "stdout",
     "output_type": "stream",
     "text": [
      "Temps d'arrivé : 00:32:40\n",
      "Position d'arrivée :  5\n",
      "Niveau de la performance IR2\n",
      "Temps d'arrivé dans le top : 2 %\n",
      "Position parmis les 22 participants de la catégorie M0M : 1\n",
      "Position parmis les 89 participants ayant plus ou moins 5 ans de différence d'âge avec vous :  4\n"
     ]
    },
    {
     "data": {
      "image/png": "[encoded data removed]",
      "text/plain": [
       "<Figure size 640x360 with 1 Axes>"
      ]
     },
     "metadata": {
      "needs_background": "light"
     },
     "output_type": "display_data"
    },
    {
     "data": {
      "image/png": "[encoded data removed]",
      "text/plain": [
       "<Figure size 640x360 with 1 Axes>"
      ]
     },
     "metadata": {
      "needs_background": "light"
     },
     "output_type": "display_data"
    }
   ],
   "source": [
    "info_participant()"
   ]
  },
  {
   "cell_type": "markdown",
   "id": "bebb4dab-85ae-4437-99ba-aeb6d29e041d",
   "metadata": {},
   "source": [
    "### Information sur la compétition"
   ]
  },
  {
   "cell_type": "markdown",
   "id": "ecc24dc2-6487-49f1-9c6c-b915d83a0947",
   "metadata": {},
   "source": [
    "Construction d'un tableau des podiums :"
   ]
  },
  {
   "cell_type": "code",
   "execution_count": 18,
   "id": "8b3abd6e-09b0-4525-8433-b9093d4c8944",
   "metadata": {},
   "outputs": [
    {
     "name": "stderr",
     "output_type": "stream",
     "text": [
      "/var/folders/jy/77k463fj5d94h9zj3_qn_glh0000gn/T/ipykernel_13889/3476567333.py:27: SettingWithCopyWarning: \n",
      "A value is trying to be set on a copy of a slice from a DataFrame\n",
      "\n",
      "See the caveats in the documentation: https://pandas.pydata.org/pandas-docs/stable/user_guide/indexing.html#returning-a-view-versus-a-copy\n",
      "  df1_catégorie[col][i]=data[['Athlète']][data['duration']==df1_catégorie[col][i]].iloc[0,0]\n",
      "/var/folders/jy/77k463fj5d94h9zj3_qn_glh0000gn/T/ipykernel_13889/3476567333.py:27: SettingWithCopyWarning: \n",
      "A value is trying to be set on a copy of a slice from a DataFrame\n",
      "\n",
      "See the caveats in the documentation: https://pandas.pydata.org/pandas-docs/stable/user_guide/indexing.html#returning-a-view-versus-a-copy\n",
      "  df1_catégorie[col][i]=data[['Athlète']][data['duration']==df1_catégorie[col][i]].iloc[0,0]\n",
      "/var/folders/jy/77k463fj5d94h9zj3_qn_glh0000gn/T/ipykernel_13889/3476567333.py:27: SettingWithCopyWarning: \n",
      "A value is trying to be set on a copy of a slice from a DataFrame\n",
      "\n",
      "See the caveats in the documentation: https://pandas.pydata.org/pandas-docs/stable/user_guide/indexing.html#returning-a-view-versus-a-copy\n",
      "  df1_catégorie[col][i]=data[['Athlète']][data['duration']==df1_catégorie[col][i]].iloc[0,0]\n",
      "/var/folders/jy/77k463fj5d94h9zj3_qn_glh0000gn/T/ipykernel_13889/3476567333.py:27: SettingWithCopyWarning: \n",
      "A value is trying to be set on a copy of a slice from a DataFrame\n",
      "\n",
      "See the caveats in the documentation: https://pandas.pydata.org/pandas-docs/stable/user_guide/indexing.html#returning-a-view-versus-a-copy\n",
      "  df1_catégorie[col][i]=data[['Athlète']][data['duration']==df1_catégorie[col][i]].iloc[0,0]\n",
      "/var/folders/jy/77k463fj5d94h9zj3_qn_glh0000gn/T/ipykernel_13889/3476567333.py:27: SettingWithCopyWarning: \n",
      "A value is trying to be set on a copy of a slice from a DataFrame\n",
      "\n",
      "See the caveats in the documentation: https://pandas.pydata.org/pandas-docs/stable/user_guide/indexing.html#returning-a-view-versus-a-copy\n",
      "  df1_catégorie[col][i]=data[['Athlète']][data['duration']==df1_catégorie[col][i]].iloc[0,0]\n",
      "/var/folders/jy/77k463fj5d94h9zj3_qn_glh0000gn/T/ipykernel_13889/3476567333.py:27: SettingWithCopyWarning: \n",
      "A value is trying to be set on a copy of a slice from a DataFrame\n",
      "\n",
      "See the caveats in the documentation: https://pandas.pydata.org/pandas-docs/stable/user_guide/indexing.html#returning-a-view-versus-a-copy\n",
      "  df1_catégorie[col][i]=data[['Athlète']][data['duration']==df1_catégorie[col][i]].iloc[0,0]\n",
      "/var/folders/jy/77k463fj5d94h9zj3_qn_glh0000gn/T/ipykernel_13889/3476567333.py:27: SettingWithCopyWarning: \n",
      "A value is trying to be set on a copy of a slice from a DataFrame\n",
      "\n",
      "See the caveats in the documentation: https://pandas.pydata.org/pandas-docs/stable/user_guide/indexing.html#returning-a-view-versus-a-copy\n",
      "  df1_catégorie[col][i]=data[['Athlète']][data['duration']==df1_catégorie[col][i]].iloc[0,0]\n",
      "/var/folders/jy/77k463fj5d94h9zj3_qn_glh0000gn/T/ipykernel_13889/3476567333.py:27: SettingWithCopyWarning: \n",
      "A value is trying to be set on a copy of a slice from a DataFrame\n",
      "\n",
      "See the caveats in the documentation: https://pandas.pydata.org/pandas-docs/stable/user_guide/indexing.html#returning-a-view-versus-a-copy\n",
      "  df1_catégorie[col][i]=data[['Athlète']][data['duration']==df1_catégorie[col][i]].iloc[0,0]\n",
      "/var/folders/jy/77k463fj5d94h9zj3_qn_glh0000gn/T/ipykernel_13889/3476567333.py:27: SettingWithCopyWarning: \n",
      "A value is trying to be set on a copy of a slice from a DataFrame\n",
      "\n",
      "See the caveats in the documentation: https://pandas.pydata.org/pandas-docs/stable/user_guide/indexing.html#returning-a-view-versus-a-copy\n",
      "  df1_catégorie[col][i]=data[['Athlète']][data['duration']==df1_catégorie[col][i]].iloc[0,0]\n",
      "/var/folders/jy/77k463fj5d94h9zj3_qn_glh0000gn/T/ipykernel_13889/3476567333.py:27: SettingWithCopyWarning: \n",
      "A value is trying to be set on a copy of a slice from a DataFrame\n",
      "\n",
      "See the caveats in the documentation: https://pandas.pydata.org/pandas-docs/stable/user_guide/indexing.html#returning-a-view-versus-a-copy\n",
      "  df1_catégorie[col][i]=data[['Athlète']][data['duration']==df1_catégorie[col][i]].iloc[0,0]\n",
      "/var/folders/jy/77k463fj5d94h9zj3_qn_glh0000gn/T/ipykernel_13889/3476567333.py:27: SettingWithCopyWarning: \n",
      "A value is trying to be set on a copy of a slice from a DataFrame\n",
      "\n",
      "See the caveats in the documentation: https://pandas.pydata.org/pandas-docs/stable/user_guide/indexing.html#returning-a-view-versus-a-copy\n",
      "  df1_catégorie[col][i]=data[['Athlète']][data['duration']==df1_catégorie[col][i]].iloc[0,0]\n",
      "/var/folders/jy/77k463fj5d94h9zj3_qn_glh0000gn/T/ipykernel_13889/3476567333.py:27: SettingWithCopyWarning: \n",
      "A value is trying to be set on a copy of a slice from a DataFrame\n",
      "\n",
      "See the caveats in the documentation: https://pandas.pydata.org/pandas-docs/stable/user_guide/indexing.html#returning-a-view-versus-a-copy\n",
      "  df1_catégorie[col][i]=data[['Athlète']][data['duration']==df1_catégorie[col][i]].iloc[0,0]\n",
      "/var/folders/jy/77k463fj5d94h9zj3_qn_glh0000gn/T/ipykernel_13889/3476567333.py:27: SettingWithCopyWarning: \n",
      "A value is trying to be set on a copy of a slice from a DataFrame\n",
      "\n",
      "See the caveats in the documentation: https://pandas.pydata.org/pandas-docs/stable/user_guide/indexing.html#returning-a-view-versus-a-copy\n",
      "  df1_catégorie[col][i]=data[['Athlète']][data['duration']==df1_catégorie[col][i]].iloc[0,0]\n",
      "/var/folders/jy/77k463fj5d94h9zj3_qn_glh0000gn/T/ipykernel_13889/3476567333.py:27: SettingWithCopyWarning: \n",
      "A value is trying to be set on a copy of a slice from a DataFrame\n",
      "\n",
      "See the caveats in the documentation: https://pandas.pydata.org/pandas-docs/stable/user_guide/indexing.html#returning-a-view-versus-a-copy\n",
      "  df1_catégorie[col][i]=data[['Athlète']][data['duration']==df1_catégorie[col][i]].iloc[0,0]\n",
      "/var/folders/jy/77k463fj5d94h9zj3_qn_glh0000gn/T/ipykernel_13889/3476567333.py:27: SettingWithCopyWarning: \n",
      "A value is trying to be set on a copy of a slice from a DataFrame\n",
      "\n",
      "See the caveats in the documentation: https://pandas.pydata.org/pandas-docs/stable/user_guide/indexing.html#returning-a-view-versus-a-copy\n",
      "  df1_catégorie[col][i]=data[['Athlète']][data['duration']==df1_catégorie[col][i]].iloc[0,0]\n",
      "/var/folders/jy/77k463fj5d94h9zj3_qn_glh0000gn/T/ipykernel_13889/3476567333.py:27: SettingWithCopyWarning: \n",
      "A value is trying to be set on a copy of a slice from a DataFrame\n",
      "\n",
      "See the caveats in the documentation: https://pandas.pydata.org/pandas-docs/stable/user_guide/indexing.html#returning-a-view-versus-a-copy\n",
      "  df1_catégorie[col][i]=data[['Athlète']][data['duration']==df1_catégorie[col][i]].iloc[0,0]\n",
      "/var/folders/jy/77k463fj5d94h9zj3_qn_glh0000gn/T/ipykernel_13889/3476567333.py:27: SettingWithCopyWarning: \n",
      "A value is trying to be set on a copy of a slice from a DataFrame\n",
      "\n",
      "See the caveats in the documentation: https://pandas.pydata.org/pandas-docs/stable/user_guide/indexing.html#returning-a-view-versus-a-copy\n",
      "  df1_catégorie[col][i]=data[['Athlète']][data['duration']==df1_catégorie[col][i]].iloc[0,0]\n",
      "/var/folders/jy/77k463fj5d94h9zj3_qn_glh0000gn/T/ipykernel_13889/3476567333.py:27: SettingWithCopyWarning: \n",
      "A value is trying to be set on a copy of a slice from a DataFrame\n",
      "\n",
      "See the caveats in the documentation: https://pandas.pydata.org/pandas-docs/stable/user_guide/indexing.html#returning-a-view-versus-a-copy\n",
      "  df1_catégorie[col][i]=data[['Athlète']][data['duration']==df1_catégorie[col][i]].iloc[0,0]\n",
      "/var/folders/jy/77k463fj5d94h9zj3_qn_glh0000gn/T/ipykernel_13889/3476567333.py:27: SettingWithCopyWarning: \n",
      "A value is trying to be set on a copy of a slice from a DataFrame\n",
      "\n",
      "See the caveats in the documentation: https://pandas.pydata.org/pandas-docs/stable/user_guide/indexing.html#returning-a-view-versus-a-copy\n",
      "  df1_catégorie[col][i]=data[['Athlète']][data['duration']==df1_catégorie[col][i]].iloc[0,0]\n",
      "/var/folders/jy/77k463fj5d94h9zj3_qn_glh0000gn/T/ipykernel_13889/3476567333.py:27: SettingWithCopyWarning: \n",
      "A value is trying to be set on a copy of a slice from a DataFrame\n",
      "\n",
      "See the caveats in the documentation: https://pandas.pydata.org/pandas-docs/stable/user_guide/indexing.html#returning-a-view-versus-a-copy\n",
      "  df1_catégorie[col][i]=data[['Athlète']][data['duration']==df1_catégorie[col][i]].iloc[0,0]\n",
      "/var/folders/jy/77k463fj5d94h9zj3_qn_glh0000gn/T/ipykernel_13889/3476567333.py:27: SettingWithCopyWarning: \n",
      "A value is trying to be set on a copy of a slice from a DataFrame\n",
      "\n",
      "See the caveats in the documentation: https://pandas.pydata.org/pandas-docs/stable/user_guide/indexing.html#returning-a-view-versus-a-copy\n",
      "  df1_catégorie[col][i]=data[['Athlète']][data['duration']==df1_catégorie[col][i]].iloc[0,0]\n",
      "/var/folders/jy/77k463fj5d94h9zj3_qn_glh0000gn/T/ipykernel_13889/3476567333.py:27: SettingWithCopyWarning: \n",
      "A value is trying to be set on a copy of a slice from a DataFrame\n",
      "\n",
      "See the caveats in the documentation: https://pandas.pydata.org/pandas-docs/stable/user_guide/indexing.html#returning-a-view-versus-a-copy\n",
      "  df1_catégorie[col][i]=data[['Athlète']][data['duration']==df1_catégorie[col][i]].iloc[0,0]\n",
      "/var/folders/jy/77k463fj5d94h9zj3_qn_glh0000gn/T/ipykernel_13889/3476567333.py:27: SettingWithCopyWarning: \n",
      "A value is trying to be set on a copy of a slice from a DataFrame\n",
      "\n",
      "See the caveats in the documentation: https://pandas.pydata.org/pandas-docs/stable/user_guide/indexing.html#returning-a-view-versus-a-copy\n",
      "  df1_catégorie[col][i]=data[['Athlète']][data['duration']==df1_catégorie[col][i]].iloc[0,0]\n",
      "/var/folders/jy/77k463fj5d94h9zj3_qn_glh0000gn/T/ipykernel_13889/3476567333.py:27: SettingWithCopyWarning: \n",
      "A value is trying to be set on a copy of a slice from a DataFrame\n",
      "\n",
      "See the caveats in the documentation: https://pandas.pydata.org/pandas-docs/stable/user_guide/indexing.html#returning-a-view-versus-a-copy\n",
      "  df1_catégorie[col][i]=data[['Athlète']][data['duration']==df1_catégorie[col][i]].iloc[0,0]\n",
      "/var/folders/jy/77k463fj5d94h9zj3_qn_glh0000gn/T/ipykernel_13889/3476567333.py:33: SettingWithCopyWarning: \n",
      "A value is trying to be set on a copy of a slice from a DataFrame.\n",
      "Try using .loc[row_indexer,col_indexer] = value instead\n",
      "\n",
      "See the caveats in the documentation: https://pandas.pydata.org/pandas-docs/stable/user_guide/indexing.html#returning-a-view-versus-a-copy\n",
      "  df1_catégorie['Podium']=['Premier','Deuxième','Troisième']\n"
     ]
    },
    {
     "data": {
      "text/html": [
       "<div>\n",
       "<style scoped>\n",
       "    .dataframe tbody tr th:only-of-type {\n",
       "        vertical-align: middle;\n",
       "    }\n",
       "\n",
       "    .dataframe tbody tr th {\n",
       "        vertical-align: top;\n",
       "    }\n",
       "\n",
       "    .dataframe thead th {\n",
       "        text-align: right;\n",
       "    }\n",
       "</style>\n",
       "<table border=\"1\" class=\"dataframe\">\n",
       "  <thead>\n",
       "    <tr style=\"text-align: right;\">\n",
       "      <th></th>\n",
       "      <th>SEM</th>\n",
       "      <th>M1M</th>\n",
       "      <th>M0M</th>\n",
       "      <th>M3M</th>\n",
       "      <th>ESM</th>\n",
       "      <th>JUM</th>\n",
       "      <th>M4M</th>\n",
       "      <th>M2M</th>\n",
       "      <th>M5M</th>\n",
       "      <th>M1F</th>\n",
       "      <th>...</th>\n",
       "      <th>M7M</th>\n",
       "      <th>JUF</th>\n",
       "      <th>M3F</th>\n",
       "      <th>M5F</th>\n",
       "      <th>CAF</th>\n",
       "      <th>M4F</th>\n",
       "      <th>M8M</th>\n",
       "      <th>M0F</th>\n",
       "      <th>M6F</th>\n",
       "      <th>M8F</th>\n",
       "    </tr>\n",
       "    <tr>\n",
       "      <th>Podium</th>\n",
       "      <th></th>\n",
       "      <th></th>\n",
       "      <th></th>\n",
       "      <th></th>\n",
       "      <th></th>\n",
       "      <th></th>\n",
       "      <th></th>\n",
       "      <th></th>\n",
       "      <th></th>\n",
       "      <th></th>\n",
       "      <th></th>\n",
       "      <th></th>\n",
       "      <th></th>\n",
       "      <th></th>\n",
       "      <th></th>\n",
       "      <th></th>\n",
       "      <th></th>\n",
       "      <th></th>\n",
       "      <th></th>\n",
       "      <th></th>\n",
       "      <th></th>\n",
       "    </tr>\n",
       "  </thead>\n",
       "  <tbody>\n",
       "    <tr>\n",
       "      <th>Premier</th>\n",
       "      <td>LORTON Guillaume</td>\n",
       "      <td>DEBROUCKER Guillaume</td>\n",
       "      <td>KEMEI Charles</td>\n",
       "      <td>BUISSON Antoine</td>\n",
       "      <td>PETRAS Guillaume</td>\n",
       "      <td>BOYER Theo</td>\n",
       "      <td>MAHAMDI Ahmed</td>\n",
       "      <td>ANGELI Stephane</td>\n",
       "      <td>CARVELLI Salvatore</td>\n",
       "      <td>LECOMTE Claire</td>\n",
       "      <td>...</td>\n",
       "      <td>ARNAL Jean</td>\n",
       "      <td>MERAT Audrey</td>\n",
       "      <td>PITAVY Lydia</td>\n",
       "      <td>CUBIZOLLES Martine</td>\n",
       "      <td>DJIGO Rosane</td>\n",
       "      <td>GOUREAU Lucie</td>\n",
       "      <td>MASTON Walter</td>\n",
       "      <td>QUENOT Marie</td>\n",
       "      <td>JULIEN Annie</td>\n",
       "      <td>REURE Michele</td>\n",
       "    </tr>\n",
       "    <tr>\n",
       "      <th>Deuxième</th>\n",
       "      <td>BETRON Adrien</td>\n",
       "      <td>SPIMOLA MARQUES</td>\n",
       "      <td>CROUE Jeremy</td>\n",
       "      <td>DEFOUS Stephane</td>\n",
       "      <td>DOUCET Thomas</td>\n",
       "      <td>TACHET Alexis</td>\n",
       "      <td>CHADEBEC Patrick</td>\n",
       "      <td>PONCHON Freddy</td>\n",
       "      <td>VASSAL Fabrice</td>\n",
       "      <td>BENIGAUD Aurelien</td>\n",
       "      <td>...</td>\n",
       "      <td>LOMBARD Joseph</td>\n",
       "      <td>GORDONS Ines</td>\n",
       "      <td>NaN</td>\n",
       "      <td>VIAL Bruno</td>\n",
       "      <td>BESSON Agathe</td>\n",
       "      <td>PROMONET Nelly</td>\n",
       "      <td>NaN</td>\n",
       "      <td>COUTO Celine</td>\n",
       "      <td>NaN</td>\n",
       "      <td>NaN</td>\n",
       "    </tr>\n",
       "    <tr>\n",
       "      <th>Troisième</th>\n",
       "      <td>MOULIN Loic</td>\n",
       "      <td>TACHET Alexis</td>\n",
       "      <td>REBOUL Samuel</td>\n",
       "      <td>GIRAUDIER Francois</td>\n",
       "      <td>PERRAUD Victor</td>\n",
       "      <td>MILLY Corentin</td>\n",
       "      <td>CHAMPALLE Thierry</td>\n",
       "      <td>SPITALIERI Patrick</td>\n",
       "      <td>BELGUERRI Nordine</td>\n",
       "      <td>THEVENON Aurelie</td>\n",
       "      <td>...</td>\n",
       "      <td>RISI Xavier</td>\n",
       "      <td>NaN</td>\n",
       "      <td>NaN</td>\n",
       "      <td>NaN</td>\n",
       "      <td>NaN</td>\n",
       "      <td>NaN</td>\n",
       "      <td>NaN</td>\n",
       "      <td>THOMAS Marie</td>\n",
       "      <td>NaN</td>\n",
       "      <td>NaN</td>\n",
       "    </tr>\n",
       "  </tbody>\n",
       "</table>\n",
       "<p>3 rows × 25 columns</p>\n",
       "</div>"
      ],
      "text/plain": [
       "                        SEM                   M1M            M0M  \\\n",
       "Podium                                                             \n",
       "Premier    LORTON Guillaume  DEBROUCKER Guillaume  KEMEI Charles   \n",
       "Deuxième      BETRON Adrien       SPIMOLA MARQUES   CROUE Jeremy   \n",
       "Troisième       MOULIN Loic         TACHET Alexis  REBOUL Samuel   \n",
       "\n",
       "                          M3M               ESM             JUM  \\\n",
       "Podium                                                            \n",
       "Premier       BUISSON Antoine  PETRAS Guillaume      BOYER Theo   \n",
       "Deuxième      DEFOUS Stephane     DOUCET Thomas   TACHET Alexis   \n",
       "Troisième  GIRAUDIER Francois    PERRAUD Victor  MILLY Corentin   \n",
       "\n",
       "                         M4M                 M2M                 M5M  \\\n",
       "Podium                                                                 \n",
       "Premier        MAHAMDI Ahmed     ANGELI Stephane  CARVELLI Salvatore   \n",
       "Deuxième    CHADEBEC Patrick      PONCHON Freddy      VASSAL Fabrice   \n",
       "Troisième  CHAMPALLE Thierry  SPITALIERI Patrick   BELGUERRI Nordine   \n",
       "\n",
       "                         M1F  ...             M7M           JUF           M3F  \\\n",
       "Podium                        ...                                               \n",
       "Premier       LECOMTE Claire  ...      ARNAL Jean  MERAT Audrey  PITAVY Lydia   \n",
       "Deuxième   BENIGAUD Aurelien  ...  LOMBARD Joseph  GORDONS Ines           NaN   \n",
       "Troisième   THEVENON Aurelie  ...     RISI Xavier           NaN           NaN   \n",
       "\n",
       "                          M5F            CAF             M4F            M8M  \\\n",
       "Podium                                                                        \n",
       "Premier    CUBIZOLLES Martine   DJIGO Rosane   GOUREAU Lucie  MASTON Walter   \n",
       "Deuxième           VIAL Bruno  BESSON Agathe  PROMONET Nelly            NaN   \n",
       "Troisième                 NaN            NaN             NaN            NaN   \n",
       "\n",
       "                    M0F           M6F            M8F  \n",
       "Podium                                                \n",
       "Premier    QUENOT Marie  JULIEN Annie  REURE Michele  \n",
       "Deuxième   COUTO Celine           NaN            NaN  \n",
       "Troisième  THOMAS Marie           NaN            NaN  \n",
       "\n",
       "[3 rows x 25 columns]"
      ]
     },
     "metadata": {},
     "output_type": "display_data"
    }
   ],
   "source": [
    "#Extraction des différentes catégories de la compétition\n",
    "\n",
    "Catégorie = data['Catégorie'].unique()\n",
    "\n",
    "# Création d'un dictionaire des temps pour chaque catégorie\n",
    "\n",
    "dict_catégorie = {}\n",
    "for x in Catégorie:\n",
    "    dict_catégorie[x] = data['duration'][data['Catégorie']==x]\n",
    "    \n",
    "#Création d'un dataframe avec les catégorie en colonnes et les temps des participants y appartenant en valeur\n",
    "    \n",
    "df_catégorie = pd.DataFrame(dict_catégorie)\n",
    "\n",
    "#Tri des temps pour les 3 premiers temps de chaque catégorie\n",
    "\n",
    "\n",
    "df1_catégorie=df_catégorie.copy()\n",
    "for col in df1_catégorie.columns:\n",
    "    for i in range(3):\n",
    "        df1_catégorie[col][i] = df_catégorie[col].nsmallest(3).iloc[i]\n",
    "        \n",
    "#Extractio des Athlètes correspondants aux 3 premier temps de chaque catégorie\n",
    "for col in df1_catégorie.columns:\n",
    "    for i in range(3):\n",
    "        try:\n",
    "            df1_catégorie[col][i]=data[['Athlète']][data['duration']==df1_catégorie[col][i]].iloc[0,0]\n",
    "        except:\n",
    "            break\n",
    "\n",
    "#Extraction des 3 premières ligne correspondant au podium\n",
    "df1_catégorie=df1_catégorie.iloc[:3,:]\n",
    "df1_catégorie['Podium']=['Premier','Deuxième','Troisième']\n",
    "df1_catégorie = df1_catégorie.set_index('Podium')\n",
    "display(df1_catégorie)"
   ]
  },
  {
   "cell_type": "markdown",
   "id": "1308d20d-8a2c-4965-be46-b322b7df0efa",
   "metadata": {
    "tags": []
   },
   "source": [
    "### Pistes de recherches"
   ]
  },
  {
   "cell_type": "code",
   "execution_count": 39,
   "id": "99c6b90d-31ff-46df-8040-f7907344da78",
   "metadata": {},
   "outputs": [],
   "source": [
    "df1=data.groupby('Naissance').mean().reset_index()"
   ]
  },
  {
   "cell_type": "code",
   "execution_count": 47,
   "id": "cba9fb57-23cd-4ab9-9bae-c5e950ed283d",
   "metadata": {},
   "outputs": [
    {
     "data": {
      "text/plain": [
       "<matplotlib.collections.PathCollection at 0x7fb0e2ea3ca0>"
      ]
     },
     "execution_count": 47,
     "metadata": {},
     "output_type": "execute_result"
    },
    {
     "data": {
      "image/png": "[encoded data removed]",
      "text/plain": [
       "<Figure size 432x288 with 1 Axes>"
      ]
     },
     "metadata": {
      "needs_background": "light"
     },
     "output_type": "display_data"
    }
   ],
   "source": [
    "y=data['duration'].to_numpy()\n",
    "x=data['Naissance'].to_numpy()\n",
    "plt.scatter(x,y)"
   ]
  },
  {
   "cell_type": "code",
   "execution_count": 49,
   "id": "b714f48d-f74e-44fe-b23d-2147b913cf13",
   "metadata": {},
   "outputs": [
    {
     "data": {
      "image/png": "[encoded data removed]",
      "text/plain": [
       "<Figure size 432x288 with 1 Axes>"
      ]
     },
     "metadata": {
      "needs_background": "light"
     },
     "output_type": "display_data"
    }
   ],
   "source": [
    "plt.bar(x, y)\n",
    "plt.xlabel(\"année de naissance\")\n",
    "plt.ylabel('Temps (secondes)')\n",
    "plt.title(\"Temps d'arrivée par âge\")\n",
    "plt.show()"
   ]
  },
  {
   "cell_type": "markdown",
   "id": "79c7bcd0-37c6-469d-abcc-bb083208b73f",
   "metadata": {},
   "source": [
    "On peut utiliser l'indice de silhouette pour évaluer la qualité des clusters. Cet indice mesure la distance entre les points d'un cluster et la moyenne de tous les autres clusters, ce qui vous permet de déterminer si les points d'un cluster sont bien regroupés ou s'ils sont dispersés. Plus l'indice de silhouette est élevé, mieux c'est.\n",
    "\n",
    "Avec cet indice, on peut trouver le nombre de clusters qui donne les meilleures performances en termes de qualité des clusters."
   ]
  },
  {
   "cell_type": "code",
   "execution_count": 50,
   "id": "62e4eae6-d10d-4777-9ab6-b0cc4078943a",
   "metadata": {},
   "outputs": [],
   "source": [
    "data_set=np.dstack((x,y))[0]\n",
    "model = KMeans(2).fit(data_set)"
   ]
  },
  {
   "cell_type": "code",
   "execution_count": 51,
   "id": "e7f19245-ae50-40cf-b81e-9b0028a8fee0",
   "metadata": {},
   "outputs": [
    {
     "name": "stdout",
     "output_type": "stream",
     "text": [
      "Pour n_clusters = 2 Le score de silhouette moyen est : 0.6093582934670067\n",
      "Pour n_clusters = 3 Le score de silhouette moyen est : 0.5667367025320953\n",
      "Pour n_clusters = 4 Le score de silhouette moyen est : 0.5514808363696325\n",
      "Pour n_clusters = 5 Le score de silhouette moyen est : 0.5705770699675163\n",
      "Pour n_clusters = 6 Le score de silhouette moyen est : 0.5586425716750582\n"
     ]
    }
   ],
   "source": [
    "# Nombre de cluster à tester :\n",
    "num_clusters = [2, 3, 4, 5, 6]\n",
    "\n",
    "# Méthode KMeans en spécifiant différents nombres de clusters\n",
    "for n in num_clusters:\n",
    "    kmeans = KMeans(n_clusters=n)\n",
    "    kmeans.fit(data_set)\n",
    "    \n",
    "    # Utilisation de l'indice de silhouette pour évaluer la qualité des clusters\n",
    "    silhouette_avg = metrics.silhouette_score(data_set, kmeans.labels_)\n",
    "    print(\"Pour n_clusters =\", n, \"Le score de silhouette moyen est :\", silhouette_avg)"
   ]
  },
  {
   "cell_type": "code",
   "execution_count": 52,
   "id": "3256381d-ce08-4293-85d2-d335c667c555",
   "metadata": {},
   "outputs": [
    {
     "data": {
      "image/png": "[encoded data removed]",
      "text/plain": [
       "<Figure size 432x288 with 1 Axes>"
      ]
     },
     "metadata": {
      "needs_background": "light"
     },
     "output_type": "display_data"
    }
   ],
   "source": [
    "for point in data_set:\n",
    "    if model.predict(point.reshape(1,-1)) == [0]:\n",
    "        plt.scatter(point[0], point[1], c='b')\n",
    "    elif model.predict(point.reshape(1,-1)) == [1]:\n",
    "        plt.scatter(point[0], point[1], c='g')\n",
    "\n",
    "     \n",
    "for center in model.cluster_centers_:\n",
    "    plt.scatter(center[0],center[1])\n",
    "\n",
    "plt.show()"
   ]
  },
  {
   "cell_type": "code",
   "execution_count": 53,
   "id": "bdcc8f73-59e2-4f1e-a37d-3e0267d01b22",
   "metadata": {},
   "outputs": [],
   "source": [
    "model = KMeans(5).fit(data_set)"
   ]
  },
  {
   "cell_type": "code",
   "execution_count": 54,
   "id": "512438ab-5602-422a-8bb7-d33c5a6b77a6",
   "metadata": {},
   "outputs": [
    {
     "data": {
      "image/png": "[encoded data removed]",
      "text/plain": [
       "<Figure size 432x288 with 1 Axes>"
      ]
     },
     "metadata": {
      "needs_background": "light"
     },
     "output_type": "display_data"
    }
   ],
   "source": [
    "for point in data_set:\n",
    "    if model.predict(point.reshape(1,-1)) == [0]:\n",
    "        plt.scatter(point[0], point[1], c='b')\n",
    "    elif model.predict(point.reshape(1,-1)) == [1]:\n",
    "        plt.scatter(point[0], point[1], c='g')\n",
    "    elif model.predict(point.reshape(1,-1)) == [2]:\n",
    "        plt.scatter(point[0], point[1], c='r')\n",
    "    elif model.predict(point.reshape(1,-1)) == [3]:\n",
    "        plt.scatter(point[0], point[1], c='y')\n",
    "    elif model.predict(point.reshape(1,-1)) == [4]:\n",
    "        plt.scatter(point[0], point[1], c='orange')\n",
    "     \n",
    "for center in model.cluster_centers_:\n",
    "    plt.scatter(center[0],center[1])\n",
    "\n",
    "plt.show()"
   ]
  },
  {
   "cell_type": "markdown",
   "id": "8f31787f-c3f7-4554-bfd3-5f67eaeb1fd7",
   "metadata": {},
   "source": [
    "A travers cette analyse de cluster on ne retrouve pas de différence notable d'âge entre cluster visuellement.model. On peut voir les centroïde de chaque cluster (affiché dans une couleur différente de celle du cluster). Ceux-ci sont tous entre 1980, et 1984."
   ]
  },
  {
   "cell_type": "code",
   "execution_count": 56,
   "id": "444852a0-4f3b-4073-8e1c-2ce2f5464d54",
   "metadata": {},
   "outputs": [
    {
     "data": {
      "text/html": [
       "<div>\n",
       "<style scoped>\n",
       "    .dataframe tbody tr th:only-of-type {\n",
       "        vertical-align: middle;\n",
       "    }\n",
       "\n",
       "    .dataframe tbody tr th {\n",
       "        vertical-align: top;\n",
       "    }\n",
       "\n",
       "    .dataframe thead th {\n",
       "        text-align: right;\n",
       "    }\n",
       "</style>\n",
       "<table border=\"1\" class=\"dataframe\">\n",
       "  <thead>\n",
       "    <tr style=\"text-align: right;\">\n",
       "      <th></th>\n",
       "      <th>Naissance</th>\n",
       "      <th>temps</th>\n",
       "    </tr>\n",
       "  </thead>\n",
       "  <tbody>\n",
       "    <tr>\n",
       "      <th>0</th>\n",
       "      <td>1985.128571</td>\n",
       "      <td>2221.842857</td>\n",
       "    </tr>\n",
       "    <tr>\n",
       "      <th>1</th>\n",
       "      <td>1983.979167</td>\n",
       "      <td>3438.312500</td>\n",
       "    </tr>\n",
       "    <tr>\n",
       "      <th>2</th>\n",
       "      <td>1981.263889</td>\n",
       "      <td>2648.138889</td>\n",
       "    </tr>\n",
       "    <tr>\n",
       "      <th>3</th>\n",
       "      <td>1980.555556</td>\n",
       "      <td>3974.888889</td>\n",
       "    </tr>\n",
       "    <tr>\n",
       "      <th>4</th>\n",
       "      <td>1982.019608</td>\n",
       "      <td>3048.058824</td>\n",
       "    </tr>\n",
       "  </tbody>\n",
       "</table>\n",
       "</div>"
      ],
      "text/plain": [
       "     Naissance        temps\n",
       "0  1985.128571  2221.842857\n",
       "1  1983.979167  3438.312500\n",
       "2  1981.263889  2648.138889\n",
       "3  1980.555556  3974.888889\n",
       "4  1982.019608  3048.058824"
      ]
     },
     "execution_count": 56,
     "metadata": {},
     "output_type": "execute_result"
    }
   ],
   "source": [
    "pd.DataFrame(model.cluster_centers_, columns=(['Naissance','temps']))"
   ]
  },
  {
   "cell_type": "markdown",
   "id": "429d676f-c490-4545-869b-f8385efa1610",
   "metadata": {},
   "source": [
    "Testons si une régression linéaire prédit un effet de l'âge sur le résultat."
   ]
  },
  {
   "cell_type": "code",
   "execution_count": 57,
   "id": "468b3dae-253c-4606-b81e-c6f11cd5e2cd",
   "metadata": {},
   "outputs": [],
   "source": [
    "X = add_constant(x)\n",
    "regression = OLS(y, X).fit() "
   ]
  },
  {
   "cell_type": "code",
   "execution_count": 59,
   "id": "f2081385-04dc-4d7e-845c-96dcf11666b5",
   "metadata": {},
   "outputs": [
    {
     "data": {
      "image/png": "[encoded data removed]",
      "text/plain": [
       "<Figure size 432x288 with 1 Axes>"
      ]
     },
     "metadata": {
      "needs_background": "light"
     },
     "output_type": "display_data"
    }
   ],
   "source": [
    "# Tracer un nuage de points avec la droite de régression\n",
    "sns.regplot(x=x, y=y, line_kws={\"color\": \"red\"})\n",
    "plt.show()"
   ]
  },
  {
   "cell_type": "code",
   "execution_count": 60,
   "id": "5b8b163d-41a5-443a-9b05-96fcb3b0eca8",
   "metadata": {},
   "outputs": [
    {
     "data": {
      "text/html": [
       "<table class=\"simpletable\">\n",
       "<caption>OLS Regression Results</caption>\n",
       "<tr>\n",
       "  <th>Dep. Variable:</th>            <td>y</td>        <th>  R-squared:         </th> <td>   0.003</td>\n",
       "</tr>\n",
       "<tr>\n",
       "  <th>Model:</th>                   <td>OLS</td>       <th>  Adj. R-squared:    </th> <td>  -0.001</td>\n",
       "</tr>\n",
       "<tr>\n",
       "  <th>Method:</th>             <td>Least Squares</td>  <th>  F-statistic:       </th> <td>  0.6955</td>\n",
       "</tr>\n",
       "<tr>\n",
       "  <th>Date:</th>             <td>Sun, 18 Dec 2022</td> <th>  Prob (F-statistic):</th>  <td> 0.405</td> \n",
       "</tr>\n",
       "<tr>\n",
       "  <th>Time:</th>                 <td>23:09:49</td>     <th>  Log-Likelihood:    </th> <td> -1910.5</td>\n",
       "</tr>\n",
       "<tr>\n",
       "  <th>No. Observations:</th>      <td>   250</td>      <th>  AIC:               </th> <td>   3825.</td>\n",
       "</tr>\n",
       "<tr>\n",
       "  <th>Df Residuals:</th>          <td>   248</td>      <th>  BIC:               </th> <td>   3832.</td>\n",
       "</tr>\n",
       "<tr>\n",
       "  <th>Df Model:</th>              <td>     1</td>      <th>                     </th>     <td> </td>   \n",
       "</tr>\n",
       "<tr>\n",
       "  <th>Covariance Type:</th>      <td>nonrobust</td>    <th>                     </th>     <td> </td>   \n",
       "</tr>\n",
       "</table>\n",
       "<table class=\"simpletable\">\n",
       "<tr>\n",
       "    <td></td>       <th>coef</th>     <th>std err</th>      <th>t</th>      <th>P>|t|</th>  <th>[0.025</th>    <th>0.975]</th>  \n",
       "</tr>\n",
       "<tr>\n",
       "  <th>const</th> <td> 6891.7454</td> <td> 4894.572</td> <td>    1.408</td> <td> 0.160</td> <td>-2748.485</td> <td> 1.65e+04</td>\n",
       "</tr>\n",
       "<tr>\n",
       "  <th>x1</th>    <td>   -2.0585</td> <td>    2.468</td> <td>   -0.834</td> <td> 0.405</td> <td>   -6.920</td> <td>    2.803</td>\n",
       "</tr>\n",
       "</table>\n",
       "<table class=\"simpletable\">\n",
       "<tr>\n",
       "  <th>Omnibus:</th>       <td>13.444</td> <th>  Durbin-Watson:     </th> <td>   0.007</td>\n",
       "</tr>\n",
       "<tr>\n",
       "  <th>Prob(Omnibus):</th> <td> 0.001</td> <th>  Jarque-Bera (JB):  </th> <td>  10.006</td>\n",
       "</tr>\n",
       "<tr>\n",
       "  <th>Skew:</th>          <td> 0.381</td> <th>  Prob(JB):          </th> <td> 0.00672</td>\n",
       "</tr>\n",
       "<tr>\n",
       "  <th>Kurtosis:</th>      <td> 2.383</td> <th>  Cond. No.          </th> <td>3.03e+05</td>\n",
       "</tr>\n",
       "</table><br/><br/>Notes:<br/>[1] Standard Errors assume that the covariance matrix of the errors is correctly specified.<br/>[2] The condition number is large, 3.03e+05. This might indicate that there are<br/>strong multicollinearity or other numerical problems."
      ],
      "text/plain": [
       "<class 'statsmodels.iolib.summary.Summary'>\n",
       "\"\"\"\n",
       "                            OLS Regression Results                            \n",
       "==============================================================================\n",
       "Dep. Variable:                      y   R-squared:                       0.003\n",
       "Model:                            OLS   Adj. R-squared:                 -0.001\n",
       "Method:                 Least Squares   F-statistic:                    0.6955\n",
       "Date:                Sun, 18 Dec 2022   Prob (F-statistic):              0.405\n",
       "Time:                        23:09:49   Log-Likelihood:                -1910.5\n",
       "No. Observations:                 250   AIC:                             3825.\n",
       "Df Residuals:                     248   BIC:                             3832.\n",
       "Df Model:                           1                                         \n",
       "Covariance Type:            nonrobust                                         \n",
       "==============================================================================\n",
       "                 coef    std err          t      P>|t|      [0.025      0.975]\n",
       "------------------------------------------------------------------------------\n",
       "const       6891.7454   4894.572      1.408      0.160   -2748.485    1.65e+04\n",
       "x1            -2.0585      2.468     -0.834      0.405      -6.920       2.803\n",
       "==============================================================================\n",
       "Omnibus:                       13.444   Durbin-Watson:                   0.007\n",
       "Prob(Omnibus):                  0.001   Jarque-Bera (JB):               10.006\n",
       "Skew:                           0.381   Prob(JB):                      0.00672\n",
       "Kurtosis:                       2.383   Cond. No.                     3.03e+05\n",
       "==============================================================================\n",
       "\n",
       "Notes:\n",
       "[1] Standard Errors assume that the covariance matrix of the errors is correctly specified.\n",
       "[2] The condition number is large, 3.03e+05. This might indicate that there are\n",
       "strong multicollinearity or other numerical problems.\n",
       "\"\"\""
      ]
     },
     "execution_count": 60,
     "metadata": {},
     "output_type": "execute_result"
    }
   ],
   "source": [
    "regression.summary()"
   ]
  },
  {
   "cell_type": "markdown",
   "id": "39118e59-d245-4b72-9130-d25edbbc44d7",
   "metadata": {},
   "source": [
    "Vérifions ex-post les hypothèses de Gauss-Markov:\n",
    "\n",
    "1. Le coefficient de 'Naissance' n'est pas statistiquement significatif. L'hypothèse de linéarité n'est donc pas respecté. \n",
    "2. Les erreurs ne suivent pas une loi normale au seuil de confiance de 1 % selon la statistique de Jarque-Bera.\n",
    "3. D'après le nuage de point, la variance des erreurs semble ne pas être constante. Les points sont moins dispersés aux extrémités.\n",
    "4. Il est généralement recommandé de considérer que l'hypothèse d'indépendance des erreurs est vérifiée lorsque la valeur de Durbin-Watson est comprise entre 1,5 et 2,5. Elle en est trés éloigné ici. L'hypothèse d'indépendance des erreurs est donc rejetée.\n",
    "\n",
    "La régression n'est pas satisfaisante (R^2 très faible et coefficient non significatif) et les hypothèses de Gauss-Markov ne sont pas satisfaites."
   ]
  },
  {
   "cell_type": "markdown",
   "id": "4be98be8-3c23-4017-978f-a11211667473",
   "metadata": {},
   "source": [
    "On décide d'explorer l'ajout d'une variable 'sexe' dans la régression. Pour cela on utilise qui permet de prédire le sexe à partir du prénom sur la base de la fréquence."
   ]
  },
  {
   "cell_type": "code",
   "execution_count": 31,
   "id": "5f6f8d8b-2ede-40b8-9fa4-316c15d96faa",
   "metadata": {},
   "outputs": [],
   "source": [
    "detector = gender.Detector()\n",
    "sexe = detector.get_gender(\"John\")\n",
    "data['sexe'] = data['Prénom'].apply(lambda x : detector.get_gender(x))"
   ]
  },
  {
   "cell_type": "markdown",
   "id": "8a60fd8a-149c-4f41-b85e-215c100b1f85",
   "metadata": {},
   "source": [
    "Certains prénoms sont inconnus, peut-être à cause de soucis d'accent ou de scrapping. on se concentrera dans l'analyse sur les individus dont le sexe est soit 'male', soit 'female', c'est à dire ceux dont le sexe a une probabilité importante d'être correctement prédit."
   ]
  },
  {
   "cell_type": "code",
   "execution_count": 32,
   "id": "08af58b0-1076-4316-8ac2-605fd56ba7a9",
   "metadata": {},
   "outputs": [
    {
     "data": {
      "image/png": "[encoded data removed]",
      "text/plain": [
       "<Figure size 432x288 with 1 Axes>"
      ]
     },
     "metadata": {
      "needs_background": "light"
     },
     "output_type": "display_data"
    }
   ],
   "source": [
    "plt.boxplot([data['duration'][data['sexe']=='male'], data['duration'][data['sexe']=='female']], labels=['hommes', 'femmes'])\n",
    "plt.title('temps')\n",
    "plt.ylabel('secondes')\n",
    "plt.show()"
   ]
  },
  {
   "cell_type": "code",
   "execution_count": 62,
   "id": "ce601951-0d9c-4062-8092-f8dda75341f4",
   "metadata": {},
   "outputs": [],
   "source": [
    "data1=data[(data['sexe']=='male') | (data['sexe']=='female')]"
   ]
  },
  {
   "cell_type": "code",
   "execution_count": 64,
   "id": "5cb5d163-e410-41ef-af20-cbb4e83eb18c",
   "metadata": {},
   "outputs": [
    {
     "name": "stderr",
     "output_type": "stream",
     "text": [
      "/var/folders/jy/77k463fj5d94h9zj3_qn_glh0000gn/T/ipykernel_13889/1310617123.py:1: SettingWithCopyWarning: \n",
      "A value is trying to be set on a copy of a slice from a DataFrame.\n",
      "Try using .loc[row_indexer,col_indexer] = value instead\n",
      "\n",
      "See the caveats in the documentation: https://pandas.pydata.org/pandas-docs/stable/user_guide/indexing.html#returning-a-view-versus-a-copy\n",
      "  data1['sexe'] = data1['sexe'].replace({'male': 0, 'female': 1})\n"
     ]
    }
   ],
   "source": [
    "data1['sexe'] = data1['sexe'].replace({'male': 0, 'female': 1})"
   ]
  },
  {
   "cell_type": "code",
   "execution_count": 65,
   "id": "1345ff2a-5a0e-4e7c-be93-706ead76ffc8",
   "metadata": {},
   "outputs": [
    {
     "name": "stderr",
     "output_type": "stream",
     "text": [
      "/var/folders/jy/77k463fj5d94h9zj3_qn_glh0000gn/T/ipykernel_13889/206699885.py:2: SettingWithCopyWarning: \n",
      "A value is trying to be set on a copy of a slice from a DataFrame.\n",
      "Try using .loc[row_indexer,col_indexer] = value instead\n",
      "\n",
      "See the caveats in the documentation: https://pandas.pydata.org/pandas-docs/stable/user_guide/indexing.html#returning-a-view-versus-a-copy\n",
      "  X['constante']=1\n"
     ]
    }
   ],
   "source": [
    "X=data1[['sexe','Naissance']]\n",
    "X['constante']=1\n",
    "X=X.to_numpy()\n",
    "y=data1['duration'].to_numpy()"
   ]
  },
  {
   "cell_type": "code",
   "execution_count": 66,
   "id": "6f66ed51-c3c0-4db2-a175-028bff10b4ec",
   "metadata": {},
   "outputs": [],
   "source": [
    "regression = OLS(y, X).fit() "
   ]
  },
  {
   "cell_type": "code",
   "execution_count": 67,
   "id": "2cf2c680-22ba-4c32-9c08-33e92d8bad39",
   "metadata": {},
   "outputs": [
    {
     "data": {
      "image/png": "[encoded data removed]",
      "text/plain": [
       "<Figure size 432x288 with 1 Axes>"
      ]
     },
     "metadata": {
      "needs_background": "light"
     },
     "output_type": "display_data"
    }
   ],
   "source": [
    "sns.regplot(x=data1['Naissance'].to_numpy(), y=y, line_kws={\"color\": \"red\"})\n",
    "plt.show()"
   ]
  },
  {
   "cell_type": "code",
   "execution_count": 68,
   "id": "3979fe63-8657-4456-8520-aa9184e01838",
   "metadata": {},
   "outputs": [
    {
     "data": {
      "text/html": [
       "<table class=\"simpletable\">\n",
       "<caption>OLS Regression Results</caption>\n",
       "<tr>\n",
       "  <th>Dep. Variable:</th>            <td>y</td>        <th>  R-squared:         </th> <td>   0.228</td>\n",
       "</tr>\n",
       "<tr>\n",
       "  <th>Model:</th>                   <td>OLS</td>       <th>  Adj. R-squared:    </th> <td>   0.221</td>\n",
       "</tr>\n",
       "<tr>\n",
       "  <th>Method:</th>             <td>Least Squares</td>  <th>  F-statistic:       </th> <td>   32.33</td>\n",
       "</tr>\n",
       "<tr>\n",
       "  <th>Date:</th>             <td>Sun, 18 Dec 2022</td> <th>  Prob (F-statistic):</th> <td>5.00e-13</td>\n",
       "</tr>\n",
       "<tr>\n",
       "  <th>Time:</th>                 <td>23:18:14</td>     <th>  Log-Likelihood:    </th> <td> -1666.9</td>\n",
       "</tr>\n",
       "<tr>\n",
       "  <th>No. Observations:</th>      <td>   222</td>      <th>  AIC:               </th> <td>   3340.</td>\n",
       "</tr>\n",
       "<tr>\n",
       "  <th>Df Residuals:</th>          <td>   219</td>      <th>  BIC:               </th> <td>   3350.</td>\n",
       "</tr>\n",
       "<tr>\n",
       "  <th>Df Model:</th>              <td>     2</td>      <th>                     </th>     <td> </td>   \n",
       "</tr>\n",
       "<tr>\n",
       "  <th>Covariance Type:</th>      <td>nonrobust</td>    <th>                     </th>     <td> </td>   \n",
       "</tr>\n",
       "</table>\n",
       "<table class=\"simpletable\">\n",
       "<tr>\n",
       "    <td></td>       <th>coef</th>     <th>std err</th>      <th>t</th>      <th>P>|t|</th>  <th>[0.025</th>    <th>0.975]</th>  \n",
       "</tr>\n",
       "<tr>\n",
       "  <th>x1</th>    <td>  542.3290</td> <td>   68.423</td> <td>    7.926</td> <td> 0.000</td> <td>  407.478</td> <td>  677.180</td>\n",
       "</tr>\n",
       "<tr>\n",
       "  <th>x2</th>    <td>   -6.1389</td> <td>    2.338</td> <td>   -2.625</td> <td> 0.009</td> <td>  -10.747</td> <td>   -1.530</td>\n",
       "</tr>\n",
       "<tr>\n",
       "  <th>const</th> <td> 1.485e+04</td> <td> 4633.312</td> <td>    3.204</td> <td> 0.002</td> <td> 5713.874</td> <td>  2.4e+04</td>\n",
       "</tr>\n",
       "</table>\n",
       "<table class=\"simpletable\">\n",
       "<tr>\n",
       "  <th>Omnibus:</th>       <td>11.412</td> <th>  Durbin-Watson:     </th> <td>   0.444</td>\n",
       "</tr>\n",
       "<tr>\n",
       "  <th>Prob(Omnibus):</th> <td> 0.003</td> <th>  Jarque-Bera (JB):  </th> <td>  11.688</td>\n",
       "</tr>\n",
       "<tr>\n",
       "  <th>Skew:</th>          <td> 0.542</td> <th>  Prob(JB):          </th> <td> 0.00290</td>\n",
       "</tr>\n",
       "<tr>\n",
       "  <th>Kurtosis:</th>      <td> 3.300</td> <th>  Cond. No.          </th> <td>3.08e+05</td>\n",
       "</tr>\n",
       "</table><br/><br/>Notes:<br/>[1] Standard Errors assume that the covariance matrix of the errors is correctly specified.<br/>[2] The condition number is large, 3.08e+05. This might indicate that there are<br/>strong multicollinearity or other numerical problems."
      ],
      "text/plain": [
       "<class 'statsmodels.iolib.summary.Summary'>\n",
       "\"\"\"\n",
       "                            OLS Regression Results                            \n",
       "==============================================================================\n",
       "Dep. Variable:                      y   R-squared:                       0.228\n",
       "Model:                            OLS   Adj. R-squared:                  0.221\n",
       "Method:                 Least Squares   F-statistic:                     32.33\n",
       "Date:                Sun, 18 Dec 2022   Prob (F-statistic):           5.00e-13\n",
       "Time:                        23:18:14   Log-Likelihood:                -1666.9\n",
       "No. Observations:                 222   AIC:                             3340.\n",
       "Df Residuals:                     219   BIC:                             3350.\n",
       "Df Model:                           2                                         \n",
       "Covariance Type:            nonrobust                                         \n",
       "==============================================================================\n",
       "                 coef    std err          t      P>|t|      [0.025      0.975]\n",
       "------------------------------------------------------------------------------\n",
       "x1           542.3290     68.423      7.926      0.000     407.478     677.180\n",
       "x2            -6.1389      2.338     -2.625      0.009     -10.747      -1.530\n",
       "const       1.485e+04   4633.312      3.204      0.002    5713.874     2.4e+04\n",
       "==============================================================================\n",
       "Omnibus:                       11.412   Durbin-Watson:                   0.444\n",
       "Prob(Omnibus):                  0.003   Jarque-Bera (JB):               11.688\n",
       "Skew:                           0.542   Prob(JB):                      0.00290\n",
       "Kurtosis:                       3.300   Cond. No.                     3.08e+05\n",
       "==============================================================================\n",
       "\n",
       "Notes:\n",
       "[1] Standard Errors assume that the covariance matrix of the errors is correctly specified.\n",
       "[2] The condition number is large, 3.08e+05. This might indicate that there are\n",
       "strong multicollinearity or other numerical problems.\n",
       "\"\"\""
      ]
     },
     "execution_count": 68,
     "metadata": {},
     "output_type": "execute_result"
    }
   ],
   "source": [
    "regression.summary()"
   ]
  },
  {
   "cell_type": "markdown",
   "id": "53dfe898-b931-4555-b81d-84fa97681d54",
   "metadata": {},
   "source": [
    "L'ajout su sexe comme variable explicative semble être utile pour expliquer le temps d'arrivée des athlètes car le R^2 a significativement augmenté. Les coefficients des variables 'sexe' et 'Naissance' sontt de plus tous les deux statistiquement significatif. Etre une femme prédit un temps d'arrivée d'environ 9 minutes plus long toute chose égale par ailleurs. De plus, être né une année plus tard prédit une performance d'environ 6 secondes meilleures.\n",
    "\n",
    "Le coefficient estimé de la variable 'Naissance' a diminué dans ce second modèle. Il se pourrait donc qu'il y ait un biais d'ommission lié à la variable 'sexe' dans le premier modèle. C'est le cas si le sexe et l'âge sont liés. A priori ces deux variables sont indépendantes. Toutefois, il se pourrait que les femmes se soient intégrées dans l'athlètisme que récemment. Il pourrait y avoir alors une moyenne d'âge plus jeune chez les femmes que chez les femmes et donc un biais d'omission."
   ]
  },
  {
   "cell_type": "code",
   "execution_count": 70,
   "id": "4e8e8d69-6929-4fc8-8e31-6719f7f83cf0",
   "metadata": {},
   "outputs": [
    {
     "data": {
      "text/plain": [
       "1981.4171779141104"
      ]
     },
     "execution_count": 70,
     "metadata": {},
     "output_type": "execute_result"
    }
   ],
   "source": [
    "data.Naissance[(data['sexe']=='male')].mean()"
   ]
  },
  {
   "cell_type": "code",
   "execution_count": 71,
   "id": "f52711bc-c408-41b3-8f3a-c98710bb96bf",
   "metadata": {},
   "outputs": [
    {
     "data": {
      "text/plain": [
       "1986.1864406779662"
      ]
     },
     "execution_count": 71,
     "metadata": {},
     "output_type": "execute_result"
    }
   ],
   "source": [
    "data.Naissance[(data['sexe']=='female')].mean()"
   ]
  }
 ],
 "metadata": {
  "kernelspec": {
   "display_name": "Python 3 (ipykernel)",
   "language": "python",
   "name": "python3"
  },
  "language_info": {
   "codemirror_mode": {
    "name": "ipython",
    "version": 3
   },
   "file_extension": ".py",
   "mimetype": "text/x-python",
   "name": "python",
   "nbconvert_exporter": "python",
   "pygments_lexer": "ipython3",
   "version": "3.9.12"
  }
 },
 "nbformat": 4,
 "nbformat_minor": 5
}
