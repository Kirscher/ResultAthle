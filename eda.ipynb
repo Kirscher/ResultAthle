{
 "cells": [
  {
   "cell_type": "raw",
   "id": "b4abbdc1-eb61-488a-9651-58e1795f00bf",
   "metadata": {},
   "source": [
    "## Etape 2 : Statistiques descriptives"
   ]
  },
  {
   "cell_type": "code",
   "execution_count": 133,
   "id": "696784c9-637a-4f29-9054-1fb860f6d49b",
   "metadata": {},
   "outputs": [],
   "source": [
    "import pandas as pd\n",
    "import matplotlib.pyplot as plt\n",
    "\n",
    "import seaborn as sns\n",
    "from datetime import datetime\n",
    "import time"
   ]
  },
  {
   "cell_type": "code",
   "execution_count": 134,
   "id": "18aeb977-4fec-417e-85a3-8771d3739a92",
   "metadata": {},
   "outputs": [],
   "source": [
    "data=pd.read_csv(\"10_km_Riorges.csv\")"
   ]
  },
  {
   "cell_type": "code",
   "execution_count": 126,
   "id": "1932f8ca-22c6-4b0a-b54f-b617a06be95e",
   "metadata": {},
   "outputs": [
    {
     "data": {
      "text/html": [
       "<div>\n",
       "<style scoped>\n",
       "    .dataframe tbody tr th:only-of-type {\n",
       "        vertical-align: middle;\n",
       "    }\n",
       "\n",
       "    .dataframe tbody tr th {\n",
       "        vertical-align: top;\n",
       "    }\n",
       "\n",
       "    .dataframe thead th {\n",
       "        text-align: right;\n",
       "    }\n",
       "</style>\n",
       "<table border=\"1\" class=\"dataframe\">\n",
       "  <thead>\n",
       "    <tr style=\"text-align: right;\">\n",
       "      <th></th>\n",
       "      <th>Athlète</th>\n",
       "      <th>Ligue</th>\n",
       "      <th>Performance</th>\n",
       "      <th>Naissance</th>\n",
       "      <th>Catégorie</th>\n",
       "      <th>time_delta</th>\n",
       "      <th>time_gap</th>\n",
       "      <th>duration</th>\n",
       "      <th>Nom</th>\n",
       "      <th>Prénom</th>\n",
       "    </tr>\n",
       "  </thead>\n",
       "  <tbody>\n",
       "    <tr>\n",
       "      <th>0</th>\n",
       "      <td>LORTON Guillaume</td>\n",
       "      <td>ARA</td>\n",
       "      <td>N4</td>\n",
       "      <td>1989</td>\n",
       "      <td>SEM</td>\n",
       "      <td>0 days 00:30:58</td>\n",
       "      <td>0 days 00:00:00</td>\n",
       "      <td>1858.0</td>\n",
       "      <td>LORTON</td>\n",
       "      <td>Guillaume</td>\n",
       "    </tr>\n",
       "    <tr>\n",
       "      <th>1</th>\n",
       "      <td>BETRON Adrien</td>\n",
       "      <td>ARA</td>\n",
       "      <td>IR1</td>\n",
       "      <td>1989</td>\n",
       "      <td>SEM</td>\n",
       "      <td>0 days 00:31:30</td>\n",
       "      <td>0 days 00:00:32</td>\n",
       "      <td>1890.0</td>\n",
       "      <td>BETRON</td>\n",
       "      <td>Adrien</td>\n",
       "    </tr>\n",
       "    <tr>\n",
       "      <th>2</th>\n",
       "      <td>MOULIN Loic</td>\n",
       "      <td>ARA</td>\n",
       "      <td>IR2</td>\n",
       "      <td>1992</td>\n",
       "      <td>SEM</td>\n",
       "      <td>0 days 00:32:01</td>\n",
       "      <td>0 days 00:01:03</td>\n",
       "      <td>1921.0</td>\n",
       "      <td>MOULIN</td>\n",
       "      <td>Loic</td>\n",
       "    </tr>\n",
       "    <tr>\n",
       "      <th>3</th>\n",
       "      <td>DEBROUCKER Guillaume</td>\n",
       "      <td>ARA</td>\n",
       "      <td>IR2</td>\n",
       "      <td>1982</td>\n",
       "      <td>M1M</td>\n",
       "      <td>0 days 00:32:15</td>\n",
       "      <td>0 days 00:01:17</td>\n",
       "      <td>1935.0</td>\n",
       "      <td>DEBROUCKER</td>\n",
       "      <td>Guillaume</td>\n",
       "    </tr>\n",
       "    <tr>\n",
       "      <th>4</th>\n",
       "      <td>KEMEI Charles</td>\n",
       "      <td>ARA</td>\n",
       "      <td>IR2</td>\n",
       "      <td>1984</td>\n",
       "      <td>M0M</td>\n",
       "      <td>0 days 00:32:40</td>\n",
       "      <td>0 days 00:01:42</td>\n",
       "      <td>1960.0</td>\n",
       "      <td>KEMEI</td>\n",
       "      <td>Charles</td>\n",
       "    </tr>\n",
       "  </tbody>\n",
       "</table>\n",
       "</div>"
      ],
      "text/plain": [
       "                Athlète Ligue Performance  Naissance Catégorie  \\\n",
       "0      LORTON Guillaume   ARA          N4       1989       SEM   \n",
       "1         BETRON Adrien   ARA         IR1       1989       SEM   \n",
       "2           MOULIN Loic   ARA         IR2       1992       SEM   \n",
       "3  DEBROUCKER Guillaume   ARA         IR2       1982       M1M   \n",
       "4         KEMEI Charles   ARA         IR2       1984       M0M   \n",
       "\n",
       "        time_delta         time_gap  duration         Nom     Prénom  \n",
       "0  0 days 00:30:58  0 days 00:00:00    1858.0      LORTON  Guillaume  \n",
       "1  0 days 00:31:30  0 days 00:00:32    1890.0      BETRON     Adrien  \n",
       "2  0 days 00:32:01  0 days 00:01:03    1921.0      MOULIN       Loic  \n",
       "3  0 days 00:32:15  0 days 00:01:17    1935.0  DEBROUCKER  Guillaume  \n",
       "4  0 days 00:32:40  0 days 00:01:42    1960.0       KEMEI    Charles  "
      ]
     },
     "execution_count": 126,
     "metadata": {},
     "output_type": "execute_result"
    }
   ],
   "source": [
    "data.head()"
   ]
  },
  {
   "cell_type": "code",
   "execution_count": 158,
   "id": "6c400230-46ad-4d9d-876d-3279213d0441",
   "metadata": {},
   "outputs": [
    {
     "data": {
      "text/html": [
       "<div>\n",
       "<style scoped>\n",
       "    .dataframe tbody tr th:only-of-type {\n",
       "        vertical-align: middle;\n",
       "    }\n",
       "\n",
       "    .dataframe tbody tr th {\n",
       "        vertical-align: top;\n",
       "    }\n",
       "\n",
       "    .dataframe thead th {\n",
       "        text-align: right;\n",
       "    }\n",
       "</style>\n",
       "<table border=\"1\" class=\"dataframe\">\n",
       "  <thead>\n",
       "    <tr style=\"text-align: right;\">\n",
       "      <th></th>\n",
       "      <th>Athlète</th>\n",
       "      <th>Ligue</th>\n",
       "      <th>Performance</th>\n",
       "      <th>Naissance</th>\n",
       "      <th>Catégorie</th>\n",
       "      <th>time_delta</th>\n",
       "      <th>time_gap</th>\n",
       "      <th>duration</th>\n",
       "      <th>Nom</th>\n",
       "      <th>Prénom</th>\n",
       "      <th>full_name</th>\n",
       "      <th>h_duration</th>\n",
       "    </tr>\n",
       "  </thead>\n",
       "  <tbody>\n",
       "    <tr>\n",
       "      <th>0</th>\n",
       "      <td>LORTON Guillaume</td>\n",
       "      <td>ARA</td>\n",
       "      <td>N4</td>\n",
       "      <td>1989</td>\n",
       "      <td>SEM</td>\n",
       "      <td>0 days 00:30:58</td>\n",
       "      <td>0 days 00:00:00</td>\n",
       "      <td>1858.0</td>\n",
       "      <td>LORTON</td>\n",
       "      <td>Guillaume</td>\n",
       "      <td>LORTON Guillaume</td>\n",
       "      <td>00:30:58</td>\n",
       "    </tr>\n",
       "    <tr>\n",
       "      <th>1</th>\n",
       "      <td>BETRON Adrien</td>\n",
       "      <td>ARA</td>\n",
       "      <td>IR1</td>\n",
       "      <td>1989</td>\n",
       "      <td>SEM</td>\n",
       "      <td>0 days 00:31:30</td>\n",
       "      <td>0 days 00:00:32</td>\n",
       "      <td>1890.0</td>\n",
       "      <td>BETRON</td>\n",
       "      <td>Adrien</td>\n",
       "      <td>BETRON Adrien</td>\n",
       "      <td>00:31:30</td>\n",
       "    </tr>\n",
       "    <tr>\n",
       "      <th>2</th>\n",
       "      <td>MOULIN Loic</td>\n",
       "      <td>ARA</td>\n",
       "      <td>IR2</td>\n",
       "      <td>1992</td>\n",
       "      <td>SEM</td>\n",
       "      <td>0 days 00:32:01</td>\n",
       "      <td>0 days 00:01:03</td>\n",
       "      <td>1921.0</td>\n",
       "      <td>MOULIN</td>\n",
       "      <td>Loic</td>\n",
       "      <td>MOULIN Loic</td>\n",
       "      <td>00:32:01</td>\n",
       "    </tr>\n",
       "    <tr>\n",
       "      <th>3</th>\n",
       "      <td>DEBROUCKER Guillaume</td>\n",
       "      <td>ARA</td>\n",
       "      <td>IR2</td>\n",
       "      <td>1982</td>\n",
       "      <td>M1M</td>\n",
       "      <td>0 days 00:32:15</td>\n",
       "      <td>0 days 00:01:17</td>\n",
       "      <td>1935.0</td>\n",
       "      <td>DEBROUCKER</td>\n",
       "      <td>Guillaume</td>\n",
       "      <td>DEBROUCKER Guillaume</td>\n",
       "      <td>00:32:15</td>\n",
       "    </tr>\n",
       "    <tr>\n",
       "      <th>4</th>\n",
       "      <td>KEMEI Charles</td>\n",
       "      <td>ARA</td>\n",
       "      <td>IR2</td>\n",
       "      <td>1984</td>\n",
       "      <td>M0M</td>\n",
       "      <td>0 days 00:32:40</td>\n",
       "      <td>0 days 00:01:42</td>\n",
       "      <td>1960.0</td>\n",
       "      <td>KEMEI</td>\n",
       "      <td>Charles</td>\n",
       "      <td>KEMEI Charles</td>\n",
       "      <td>00:32:40</td>\n",
       "    </tr>\n",
       "    <tr>\n",
       "      <th>...</th>\n",
       "      <td>...</td>\n",
       "      <td>...</td>\n",
       "      <td>...</td>\n",
       "      <td>...</td>\n",
       "      <td>...</td>\n",
       "      <td>...</td>\n",
       "      <td>...</td>\n",
       "      <td>...</td>\n",
       "      <td>...</td>\n",
       "      <td>...</td>\n",
       "      <td>...</td>\n",
       "      <td>...</td>\n",
       "    </tr>\n",
       "    <tr>\n",
       "      <th>245</th>\n",
       "      <td>BARTASSOT Jean</td>\n",
       "      <td>0</td>\n",
       "      <td>D8</td>\n",
       "      <td>1980</td>\n",
       "      <td>M1M</td>\n",
       "      <td>0 days 01:05:58</td>\n",
       "      <td>0 days 00:35:00</td>\n",
       "      <td>3958.0</td>\n",
       "      <td>BARTASSOT</td>\n",
       "      <td>Jean</td>\n",
       "      <td>BARTASSOT Jean</td>\n",
       "      <td>01:05:58</td>\n",
       "    </tr>\n",
       "    <tr>\n",
       "      <th>246</th>\n",
       "      <td>SURGET Laurent</td>\n",
       "      <td>0</td>\n",
       "      <td>D8</td>\n",
       "      <td>1965</td>\n",
       "      <td>M4M</td>\n",
       "      <td>0 days 01:06:37</td>\n",
       "      <td>0 days 00:35:39</td>\n",
       "      <td>3997.0</td>\n",
       "      <td>SURGET</td>\n",
       "      <td>Laurent</td>\n",
       "      <td>SURGET Laurent</td>\n",
       "      <td>01:06:37</td>\n",
       "    </tr>\n",
       "    <tr>\n",
       "      <th>247</th>\n",
       "      <td>GENEVOIS Magali</td>\n",
       "      <td>0</td>\n",
       "      <td>D8</td>\n",
       "      <td>1986</td>\n",
       "      <td>M0F</td>\n",
       "      <td>0 days 01:07:18</td>\n",
       "      <td>0 days 00:36:20</td>\n",
       "      <td>4038.0</td>\n",
       "      <td>GENEVOIS</td>\n",
       "      <td>Magali</td>\n",
       "      <td>GENEVOIS Magali</td>\n",
       "      <td>01:07:18</td>\n",
       "    </tr>\n",
       "    <tr>\n",
       "      <th>248</th>\n",
       "      <td>CAVELIER Clementine</td>\n",
       "      <td>0</td>\n",
       "      <td>D8</td>\n",
       "      <td>1990</td>\n",
       "      <td>SEF</td>\n",
       "      <td>0 days 01:07:20</td>\n",
       "      <td>0 days 00:36:22</td>\n",
       "      <td>4040.0</td>\n",
       "      <td>CAVELIER</td>\n",
       "      <td>Clementine</td>\n",
       "      <td>CAVELIER Clementine</td>\n",
       "      <td>01:07:20</td>\n",
       "    </tr>\n",
       "    <tr>\n",
       "      <th>249</th>\n",
       "      <td>MOUGNAUD Bertrand</td>\n",
       "      <td>0</td>\n",
       "      <td>D8</td>\n",
       "      <td>1987</td>\n",
       "      <td>M0M</td>\n",
       "      <td>0 days 01:10:45</td>\n",
       "      <td>0 days 00:39:47</td>\n",
       "      <td>4245.0</td>\n",
       "      <td>MOUGNAUD</td>\n",
       "      <td>Bertrand</td>\n",
       "      <td>MOUGNAUD Bertrand</td>\n",
       "      <td>01:10:45</td>\n",
       "    </tr>\n",
       "  </tbody>\n",
       "</table>\n",
       "<p>250 rows × 12 columns</p>\n",
       "</div>"
      ],
      "text/plain": [
       "                  Athlète Ligue Performance  Naissance Catégorie  \\\n",
       "0        LORTON Guillaume   ARA          N4       1989       SEM   \n",
       "1           BETRON Adrien   ARA         IR1       1989       SEM   \n",
       "2             MOULIN Loic   ARA         IR2       1992       SEM   \n",
       "3    DEBROUCKER Guillaume   ARA         IR2       1982       M1M   \n",
       "4           KEMEI Charles   ARA         IR2       1984       M0M   \n",
       "..                    ...   ...         ...        ...       ...   \n",
       "245        BARTASSOT Jean     0          D8       1980       M1M   \n",
       "246        SURGET Laurent     0          D8       1965       M4M   \n",
       "247       GENEVOIS Magali     0          D8       1986       M0F   \n",
       "248   CAVELIER Clementine     0          D8       1990       SEF   \n",
       "249     MOUGNAUD Bertrand     0          D8       1987       M0M   \n",
       "\n",
       "          time_delta         time_gap  duration         Nom      Prénom  \\\n",
       "0    0 days 00:30:58  0 days 00:00:00    1858.0      LORTON   Guillaume   \n",
       "1    0 days 00:31:30  0 days 00:00:32    1890.0      BETRON      Adrien   \n",
       "2    0 days 00:32:01  0 days 00:01:03    1921.0      MOULIN        Loic   \n",
       "3    0 days 00:32:15  0 days 00:01:17    1935.0  DEBROUCKER   Guillaume   \n",
       "4    0 days 00:32:40  0 days 00:01:42    1960.0       KEMEI     Charles   \n",
       "..               ...              ...       ...         ...         ...   \n",
       "245  0 days 01:05:58  0 days 00:35:00    3958.0   BARTASSOT        Jean   \n",
       "246  0 days 01:06:37  0 days 00:35:39    3997.0      SURGET     Laurent   \n",
       "247  0 days 01:07:18  0 days 00:36:20    4038.0    GENEVOIS      Magali   \n",
       "248  0 days 01:07:20  0 days 00:36:22    4040.0    CAVELIER  Clementine   \n",
       "249  0 days 01:10:45  0 days 00:39:47    4245.0    MOUGNAUD    Bertrand   \n",
       "\n",
       "                full_name h_duration  \n",
       "0        LORTON Guillaume   00:30:58  \n",
       "1           BETRON Adrien   00:31:30  \n",
       "2             MOULIN Loic   00:32:01  \n",
       "3    DEBROUCKER Guillaume   00:32:15  \n",
       "4           KEMEI Charles   00:32:40  \n",
       "..                    ...        ...  \n",
       "245        BARTASSOT Jean   01:05:58  \n",
       "246        SURGET Laurent   01:06:37  \n",
       "247       GENEVOIS Magali   01:07:18  \n",
       "248   CAVELIER Clementine   01:07:20  \n",
       "249     MOUGNAUD Bertrand   01:10:45  \n",
       "\n",
       "[250 rows x 12 columns]"
      ]
     },
     "execution_count": 158,
     "metadata": {},
     "output_type": "execute_result"
    }
   ],
   "source": [
    "data['h_duration'] = data['duration'].apply(lambda x : pd.to_datetime(x,unit=\"s\").strftime('%H:%M:%S'))\n",
    "data"
   ]
  },
  {
   "cell_type": "code",
   "execution_count": 128,
   "id": "81515285-143b-4470-b72e-1471ac77efa8",
   "metadata": {},
   "outputs": [
    {
     "data": {
      "text/plain": [
       "count     250.000000\n",
       "mean     2809.836000\n",
       "std       505.940003\n",
       "min      1858.000000\n",
       "25%      2380.000000\n",
       "50%      2769.500000\n",
       "75%      3165.500000\n",
       "max      4245.000000\n",
       "Name: duration, dtype: float64"
      ]
     },
     "execution_count": 128,
     "metadata": {},
     "output_type": "execute_result"
    }
   ],
   "source": [
    "data['duration'].describe()"
   ]
  },
  {
   "cell_type": "code",
   "execution_count": 188,
   "id": "3af38a70-888e-4f50-9b54-3190a19589eb",
   "metadata": {},
   "outputs": [
    {
     "data": {
      "text/html": [
       "<div>\n",
       "<style scoped>\n",
       "    .dataframe tbody tr th:only-of-type {\n",
       "        vertical-align: middle;\n",
       "    }\n",
       "\n",
       "    .dataframe tbody tr th {\n",
       "        vertical-align: top;\n",
       "    }\n",
       "\n",
       "    .dataframe thead th {\n",
       "        text-align: right;\n",
       "    }\n",
       "</style>\n",
       "<table border=\"1\" class=\"dataframe\">\n",
       "  <thead>\n",
       "    <tr style=\"text-align: right;\">\n",
       "      <th></th>\n",
       "      <th>h_duration</th>\n",
       "    </tr>\n",
       "  </thead>\n",
       "  <tbody>\n",
       "    <tr>\n",
       "      <th>247</th>\n",
       "      <td>01:07:18</td>\n",
       "    </tr>\n",
       "  </tbody>\n",
       "</table>\n",
       "</div>"
      ],
      "text/plain": [
       "    h_duration\n",
       "247   01:07:18"
      ]
     },
     "execution_count": 188,
     "metadata": {},
     "output_type": "execute_result"
    }
   ],
   "source": [
    "data[['h_duration']][data.Athlète==(x+\" \"+y)]"
   ]
  },
  {
   "cell_type": "code",
   "execution_count": 186,
   "id": "e2369340-fbb4-46d9-9e10-c1a7a83c8526",
   "metadata": {},
   "outputs": [
    {
     "name": "stdout",
     "output_type": "stream",
     "text": [
      "Votre temps d'arrivée est :     h_duration\n",
      "247   01:07:18\n"
     ]
    }
   ],
   "source": [
    "x='GENEVOIS'\n",
    "y='Magali'\n",
    "print(\"Votre temps d'arrivée est :\", data[['h_duration']][data.Athlète==(x+\" \"+y)])"
   ]
  },
  {
   "cell_type": "code",
   "execution_count": null,
   "id": "af7ff82e-fbc6-4eda-958f-91ec71fdafb1",
   "metadata": {},
   "outputs": [],
   "source": [
    "y='Magali'\n",
    "y=capitalize(x)"
   ]
  },
  {
   "cell_type": "code",
   "execution_count": 190,
   "id": "65431d3d-683f-4cf2-8358-46d152440338",
   "metadata": {},
   "outputs": [],
   "source": [
    "def info_participant(x,y):\n",
    "    print(\"Votre temps d'arrivée est :\", data[['h_duration']][data.Athlète==(y+\" \"+x)])"
   ]
  },
  {
   "cell_type": "code",
   "execution_count": 192,
   "id": "cfed9756-7d05-40f8-83a3-691617b260f7",
   "metadata": {},
   "outputs": [
    {
     "name": "stdout",
     "output_type": "stream",
     "text": [
      "Votre temps d'arrivée est : Empty DataFrame\n",
      "Columns: [h_duration]\n",
      "Index: []\n"
     ]
    }
   ],
   "source": [
    "info_participant(\"Magali\",\"GENEVOIS\")"
   ]
  },
  {
   "cell_type": "code",
   "execution_count": 87,
   "id": "12f675b3-2dfd-4a03-a2bb-2d9302d99f7b",
   "metadata": {},
   "outputs": [
    {
     "data": {
      "image/png": "[encoded data removed]",
      "text/plain": [
       "<Figure size 1000x500 with 1 Axes>"
      ]
     },
     "metadata": {},
     "output_type": "display_data"
    }
   ],
   "source": [
    "data['duration'].plot(kind='kde',figsize = (10,5))\n",
    "plt.title(\"Densité des temps d'arrivée\", color= 'tab:red', fontsize = '20', fontstyle = 'oblique')\n",
    "plt.xlabel(\"Durée pour franchir la ligne d'arrivée\", fontstyle = 'italic', labelpad=5)\n",
    "plt.ylabel(\"Densité des athlètes\", fontstyle = 'italic', labelpad=20)\n",
    "plt.show()"
   ]
  },
  {
   "cell_type": "code",
   "execution_count": 92,
   "id": "43727a22-507d-47f6-bc9c-b5eef74ef700",
   "metadata": {},
   "outputs": [
    {
     "data": {
      "text/plain": [
       "3165.5"
      ]
     },
     "execution_count": 92,
     "metadata": {},
     "output_type": "execute_result"
    }
   ],
   "source": [
    "q3 = np.percentile(data['duration'], 75)\n",
    "q3"
   ]
  }
 ],
 "metadata": {
  "kernelspec": {
   "display_name": "Python 3 (ipykernel)",
   "language": "python",
   "name": "python3"
  },
  "language_info": {
   "codemirror_mode": {
    "name": "ipython",
    "version": 3
   },
   "file_extension": ".py",
   "mimetype": "text/x-python",
   "name": "python",
   "nbconvert_exporter": "python",
   "pygments_lexer": "ipython3",
   "version": "3.10.4"
  }
 },
 "nbformat": 4,
 "nbformat_minor": 5
}
