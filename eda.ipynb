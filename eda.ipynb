{
 "cells": [
  {
   "cell_type": "markdown",
   "id": "1084cb24-4805-4c04-99a8-94a9c85f0326",
   "metadata": {},
   "source": [
    "## Etape 2 : Statistiques descriptives\n",
    "\n",
    "Import des différentes librairies utiles à l'analyse :"
   ]
  },
  {
   "cell_type": "code",
   "execution_count": 1,
   "id": "696784c9-637a-4f29-9054-1fb860f6d49b",
   "metadata": {},
   "outputs": [],
   "source": [
    "import pandas as pd\n",
    "import numpy as np\n",
    "import matplotlib.pyplot as plt\n",
    "import math\n",
    "from datetime import datetime\n",
    "import time\n",
    "import seaborn as sns"
   ]
  },
  {
   "cell_type": "markdown",
   "id": "8dc51025-e6e2-40bc-82a0-27149ccde2de",
   "metadata": {},
   "source": [
    "Il est nécessaire d'installer et d'importer \"importnb\" pour avoir accès aux fonctionns définies dans \"algoStatCourse\" :"
   ]
  },
  {
   "cell_type": "code",
   "execution_count": 2,
   "id": "ec28ec85-e385-4d1e-a767-ef3b7c1f065a",
   "metadata": {},
   "outputs": [
    {
     "name": "stdout",
     "output_type": "stream",
     "text": [
      "Requirement already satisfied: importnb in /opt/anaconda3/lib/python3.9/site-packages (2022.10.24)\n",
      "Note: you may need to restart the kernel to use updated packages.\n"
     ]
    }
   ],
   "source": [
    "#pip install importnb"
   ]
  },
  {
   "cell_type": "code",
   "execution_count": 3,
   "id": "468343d2",
   "metadata": {},
   "outputs": [],
   "source": [
    "from importnb import Notebook\n",
    "with Notebook():\n",
    "    import algoStatCourse"
   ]
  },
  {
   "cell_type": "markdown",
   "id": "b54c390d-7281-4549-9622-a2442cf1bde0",
   "metadata": {},
   "source": [
    "Il faut ensuite importer un jeu de donnée. On prend le jeu de données correspondant aux 10 kilomètres de Riorges comme exemple pour l'analyse:"
   ]
  },
  {
   "cell_type": "code",
   "execution_count": 4,
   "id": "18aeb977-4fec-417e-85a3-8771d3739a92",
   "metadata": {},
   "outputs": [],
   "source": [
    "data=pd.read_csv(\"10_km_Riorges.csv\")"
   ]
  },
  {
   "cell_type": "markdown",
   "id": "6bf92182-59bd-4c12-b1e9-53cd4c15f5fa",
   "metadata": {},
   "source": [
    "Comme chaque jeu de données extrait, nous avons à notre disponibilité le nom et prénom de chaque athlète, leur performance, leur années de naissance, la catégorie à laquelle ils appartiennent, leur temps, ainsi que leur écart de temps avec le premier."
   ]
  },
  {
   "cell_type": "code",
   "execution_count": 46,
   "id": "1932f8ca-22c6-4b0a-b54f-b617a06be95e",
   "metadata": {},
   "outputs": [
    {
     "data": {
      "text/html": [
       "<div>\n",
       "<style scoped>\n",
       "    .dataframe tbody tr th:only-of-type {\n",
       "        vertical-align: middle;\n",
       "    }\n",
       "\n",
       "    .dataframe tbody tr th {\n",
       "        vertical-align: top;\n",
       "    }\n",
       "\n",
       "    .dataframe thead th {\n",
       "        text-align: right;\n",
       "    }\n",
       "</style>\n",
       "<table border=\"1\" class=\"dataframe\">\n",
       "  <thead>\n",
       "    <tr style=\"text-align: right;\">\n",
       "      <th></th>\n",
       "      <th>Athlète</th>\n",
       "      <th>Ligue</th>\n",
       "      <th>Performance</th>\n",
       "      <th>Naissance</th>\n",
       "      <th>Catégorie</th>\n",
       "      <th>time_delta</th>\n",
       "      <th>time_gap</th>\n",
       "      <th>duration</th>\n",
       "      <th>Nom</th>\n",
       "      <th>Prénom</th>\n",
       "      <th>h_duration</th>\n",
       "    </tr>\n",
       "  </thead>\n",
       "  <tbody>\n",
       "    <tr>\n",
       "      <th>0</th>\n",
       "      <td>LORTON Guillaume</td>\n",
       "      <td>ARA</td>\n",
       "      <td>N4</td>\n",
       "      <td>1989</td>\n",
       "      <td>SEM</td>\n",
       "      <td>0 days 00:30:58</td>\n",
       "      <td>0 days 00:00:00</td>\n",
       "      <td>1858.0</td>\n",
       "      <td>LORTON</td>\n",
       "      <td>Guillaume</td>\n",
       "      <td>00:30:58</td>\n",
       "    </tr>\n",
       "    <tr>\n",
       "      <th>1</th>\n",
       "      <td>BETRON Adrien</td>\n",
       "      <td>ARA</td>\n",
       "      <td>IR1</td>\n",
       "      <td>1989</td>\n",
       "      <td>SEM</td>\n",
       "      <td>0 days 00:31:30</td>\n",
       "      <td>0 days 00:00:32</td>\n",
       "      <td>1890.0</td>\n",
       "      <td>BETRON</td>\n",
       "      <td>Adrien</td>\n",
       "      <td>00:31:30</td>\n",
       "    </tr>\n",
       "    <tr>\n",
       "      <th>2</th>\n",
       "      <td>MOULIN Loic</td>\n",
       "      <td>ARA</td>\n",
       "      <td>IR2</td>\n",
       "      <td>1992</td>\n",
       "      <td>SEM</td>\n",
       "      <td>0 days 00:32:01</td>\n",
       "      <td>0 days 00:01:03</td>\n",
       "      <td>1921.0</td>\n",
       "      <td>MOULIN</td>\n",
       "      <td>Loic</td>\n",
       "      <td>00:32:01</td>\n",
       "    </tr>\n",
       "    <tr>\n",
       "      <th>3</th>\n",
       "      <td>DEBROUCKER Guillaume</td>\n",
       "      <td>ARA</td>\n",
       "      <td>IR2</td>\n",
       "      <td>1982</td>\n",
       "      <td>M1M</td>\n",
       "      <td>0 days 00:32:15</td>\n",
       "      <td>0 days 00:01:17</td>\n",
       "      <td>1935.0</td>\n",
       "      <td>DEBROUCKER</td>\n",
       "      <td>Guillaume</td>\n",
       "      <td>00:32:15</td>\n",
       "    </tr>\n",
       "    <tr>\n",
       "      <th>4</th>\n",
       "      <td>KEMEI Charles</td>\n",
       "      <td>ARA</td>\n",
       "      <td>IR2</td>\n",
       "      <td>1984</td>\n",
       "      <td>M0M</td>\n",
       "      <td>0 days 00:32:40</td>\n",
       "      <td>0 days 00:01:42</td>\n",
       "      <td>1960.0</td>\n",
       "      <td>KEMEI</td>\n",
       "      <td>Charles</td>\n",
       "      <td>00:32:40</td>\n",
       "    </tr>\n",
       "  </tbody>\n",
       "</table>\n",
       "</div>"
      ],
      "text/plain": [
       "                Athlète Ligue Performance  Naissance Catégorie  \\\n",
       "0      LORTON Guillaume   ARA          N4       1989       SEM   \n",
       "1         BETRON Adrien   ARA         IR1       1989       SEM   \n",
       "2           MOULIN Loic   ARA         IR2       1992       SEM   \n",
       "3  DEBROUCKER Guillaume   ARA         IR2       1982       M1M   \n",
       "4         KEMEI Charles   ARA         IR2       1984       M0M   \n",
       "\n",
       "        time_delta         time_gap  duration         Nom     Prénom  \\\n",
       "0  0 days 00:30:58  0 days 00:00:00    1858.0      LORTON  Guillaume   \n",
       "1  0 days 00:31:30  0 days 00:00:32    1890.0      BETRON     Adrien   \n",
       "2  0 days 00:32:01  0 days 00:01:03    1921.0      MOULIN       Loic   \n",
       "3  0 days 00:32:15  0 days 00:01:17    1935.0  DEBROUCKER  Guillaume   \n",
       "4  0 days 00:32:40  0 days 00:01:42    1960.0       KEMEI    Charles   \n",
       "\n",
       "  h_duration  \n",
       "0   00:30:58  \n",
       "1   00:31:30  \n",
       "2   00:32:01  \n",
       "3   00:32:15  \n",
       "4   00:32:40  "
      ]
     },
     "execution_count": 46,
     "metadata": {},
     "output_type": "execute_result"
    }
   ],
   "source": [
    "data.head()"
   ]
  },
  {
   "cell_type": "markdown",
   "id": "11d41117-755e-4484-a572-9e923327d749",
   "metadata": {},
   "source": [
    "On ajoute la variable 'h_duration' qui permet d'obtenir le temps d'arrivée dans le format heures, minutes, secondes, afin d'avoir une variable explicite pour la visualisation."
   ]
  },
  {
   "cell_type": "code",
   "execution_count": 11,
   "id": "6c400230-46ad-4d9d-876d-3279213d0441",
   "metadata": {},
   "outputs": [],
   "source": [
    "data['h_duration'] = data['duration'].apply(lambda x : pd.to_datetime(x,unit=\"s\").strftime('%H:%M:%S'))"
   ]
  },
  {
   "cell_type": "markdown",
   "id": "a9020f8e-d3c8-426f-9c8f-b1b13451f945",
   "metadata": {},
   "source": [
    "Nous analysons maintenant les statistiques descriptives du temps d'arrivée afin de connaitre rapidement la forme des données, et la présence de possible valeurs abérantes, pour guider la construction des visualisations utile à l'athlète. Dans ce jeu de données, nous n'avons à première vue pas de potentiels valeurs abbérantes étant données que les temps sont environ réparti entre 30 et 70 mn, temps normaux pour une course de 10 km."
   ]
  },
  {
   "cell_type": "code",
   "execution_count": 7,
   "id": "81515285-143b-4470-b72e-1471ac77efa8",
   "metadata": {},
   "outputs": [
    {
     "data": {
      "text/plain": [
       "count    250.000000\n",
       "mean      46.830600\n",
       "std        8.432333\n",
       "min       30.966667\n",
       "25%       39.666667\n",
       "50%       46.158333\n",
       "75%       52.758333\n",
       "max       70.750000\n",
       "Name: duration, dtype: float64"
      ]
     },
     "execution_count": 7,
     "metadata": {},
     "output_type": "execute_result"
    }
   ],
   "source": [
    "(data['duration']/60).describe()"
   ]
  },
  {
   "cell_type": "code",
   "execution_count": null,
   "id": "f2536315-a2d9-4c30-9e07-0c583a14c5bb",
   "metadata": {},
   "outputs": [],
   "source": [
    "def Prenom():\n",
    "  user_input = input(\"Veuillez entrer votre prénom\")\n",
    "  return user_input\n",
    "\n",
    "def Nom():\n",
    "  user_input = input(\"Veuillez entrer votre nom\")\n",
    "  return user_input"
   ]
  },
  {
   "cell_type": "markdown",
   "id": "a89f22db-daff-41df-b60d-8a363bc011e3",
   "metadata": {},
   "source": [
    "Ici, on définit une fonction permettant de donner directement les premières informations utile, à partir du nom et prénom, de la performance individuelle relativement à la performance globale de la compétition."
   ]
  },
  {
   "cell_type": "code",
   "execution_count": 124,
   "id": "65431d3d-683f-4cf2-8358-46d152440338",
   "metadata": {},
   "outputs": [],
   "source": [
    "def info_participant():\n",
    "    x=Prenom()\n",
    "    y=Nom()\n",
    "    if ~data['Athlète'].isin([(y.upper()+\" \"+x.capitalize())]).any():\n",
    "        print(\"Le nom que vous avez entré n'est pas dans la liste des participants de la course choisie.\")\n",
    "    else:\n",
    "        print('non')\n",
    "        z=data.index[data.Athlète==(y.upper()+\" \"+x.capitalize())]\n",
    "        print(\"Temps d'arrivé :\", data.loc[z[0],'h_duration'])\n",
    "        print(\"Position d'arrivée : \", data.index[z[0]]+1)\n",
    "        print(\"Niveau de la performance\", data.loc[z[0],'Performance'])\n",
    "        print(\"Temps d'arrivé dans le top :\", math.ceil(((data.duration<=data.loc[z[0],'duration']).sum())/len(data)*100),\"%\")\n",
    "        print(\"Position parmis les\", len(data[data['Catégorie']==data.loc[z[0],'Catégorie']]),\"participants de la catégorie\", data.loc[z[0],'Catégorie'], \":\",round(data[data['Catégorie']==data.loc[z[0],'Catégorie']]['duration'].rank().loc[z[0]]))\n",
    "        print(\"Position parmis les\", len((data[abs(data.loc[:,'Naissance']-data.loc[z[0],'Naissance'])<=5])), \"participants ayant plus ou moins 5 ans de différence d'âge avec vous : \", round(((data[abs(data.loc[:,'Naissance']-data.loc[z[0],'Naissance'])<=5])['duration'].rank()).loc[z[0]]))"
   ]
  },
  {
   "cell_type": "markdown",
   "id": "c584da7d-b3b4-44f0-86c2-cde0f258efc8",
   "metadata": {},
   "source": [
    "Exemple d'utilisation de cette fonction :"
   ]
  },
  {
   "cell_type": "code",
   "execution_count": 126,
   "id": "cfed9756-7d05-40f8-83a3-691617b260f7",
   "metadata": {},
   "outputs": [
    {
     "name": "stdin",
     "output_type": "stream",
     "text": [
      "Veuillez entrer votre prénom Charle\n",
      "Veuillez entrer votre nom kemei\n"
     ]
    },
    {
     "name": "stdout",
     "output_type": "stream",
     "text": [
      "Le nom que vous avez entré n'est pas dans la liste des participants de la course choisie\n"
     ]
    }
   ],
   "source": [
    "info_participant()"
   ]
  },
  {
   "cell_type": "code",
   "execution_count": 12,
   "id": "9c08ffd6-6851-49b3-835c-e00ed4a7ab5e",
   "metadata": {},
   "outputs": [
    {
     "ename": "NameError",
     "evalue": "name 'algoStatCourse' is not defined",
     "output_type": "error",
     "traceback": [
      "\u001b[0;31m---------------------------------------------------------------------------\u001b[0m",
      "\u001b[0;31mNameError\u001b[0m                                 Traceback (most recent call last)",
      "Input \u001b[0;32mIn [12]\u001b[0m, in \u001b[0;36m<cell line: 2>\u001b[0;34m()\u001b[0m\n\u001b[1;32m      1\u001b[0m \u001b[38;5;66;03m#sns.kdeplot(data['duration'], shade=True,  alpha=.3) #remplacé par la fonction lissage, + propre\u001b[39;00m\n\u001b[0;32m----> 2\u001b[0m densite\u001b[38;5;241m=\u001b[39m\u001b[43malgoStatCourse\u001b[49m\u001b[38;5;241m.\u001b[39mdens(data[\u001b[38;5;124m'\u001b[39m\u001b[38;5;124mduration\u001b[39m\u001b[38;5;124m'\u001b[39m], bins \u001b[38;5;241m=\u001b[39m \u001b[38;5;241m12\u001b[39m) \u001b[38;5;66;03m#calcule un array numpy 2*2 avec la fonction de densité estimée (absices en ligne 0, ordonnées en ligne 2)\u001b[39;00m\n\u001b[1;32m      3\u001b[0m fcubic\u001b[38;5;241m=\u001b[39malgoStatCourse\u001b[38;5;241m.\u001b[39mlissage(densite, sep \u001b[38;5;241m=\u001b[39m \u001b[38;5;28;01mTrue\u001b[39;00m) \u001b[38;5;66;03m#fonction qui est un joli lissage visuel de la densité (interpolation cubique)\u001b[39;00m\n\u001b[1;32m      4\u001b[0m \u001b[38;5;66;03m#/!\\ ne pas utiliser fcubic hors des bornes de la densité : xmin = densite[0,0], xmax = densite[0,-1] (les x sont sur la premiere ligne)\u001b[39;00m\n",
      "\u001b[0;31mNameError\u001b[0m: name 'algoStatCourse' is not defined"
     ]
    }
   ],
   "source": [
    "#sns.kdeplot(data['duration'], shade=True,  alpha=.3) #remplacé par la fonction lissage, + propre\n",
    "densite=algoStatCourse.dens(data['duration'], bins = 12) #calcule un array numpy 2*2 avec la fonction de densité estimée (absices en ligne 0, ordonnées en ligne 2)\n",
    "fcubic=algoStatCourse.lissage(densite, sep = True) #fonction qui est un joli lissage visuel de la densité (interpolation cubique)\n",
    "#/!\\ ne pas utiliser fcubic hors des bornes de la densité : xmin = densite[0,0], xmax = densite[0,-1] (les x sont sur la premiere ligne)\n",
    "flin=algoStatCourse.lissage(densite, sep = False, kind = 'linear') #fonction qui retourne la densité estimée\n",
    "#/!\\ ne pas utiliser flin hors des bornes de la densité : xmin = densite[0,0], xmax = densite[0,-1]\n",
    "# Calcule du quantile 75% quantile\n",
    "\n",
    "def truncf (f,xmin, xmax):\n",
    "    #prend en argument la fonction de densité f (interpolée ou non, c'est un choix visuel) et retourne la même fonction mais mise à 0 hors de [xmin, xmax]\n",
    "    #input : f :fonction (1 dimension)\n",
    "    #     xmin : borne inf, nombre\n",
    "    #     xmax : borne sup, nombre\n",
    "    def f2 (x):\n",
    "        if (x>=xmin)*(x<=xmax):\n",
    "            return f(x)\n",
    "        return np.nan\n",
    "    \n",
    "    return np.vectorize(f2)"
   ]
  },
  {
   "cell_type": "code",
   "execution_count": 13,
   "id": "06b8a285",
   "metadata": {},
   "outputs": [
    {
     "ename": "NameError",
     "evalue": "name 'densite' is not defined",
     "output_type": "error",
     "traceback": [
      "\u001b[0;31m---------------------------------------------------------------------------\u001b[0m",
      "\u001b[0;31mNameError\u001b[0m                                 Traceback (most recent call last)",
      "Input \u001b[0;32mIn [13]\u001b[0m, in \u001b[0;36m<cell line: 35>\u001b[0;34m()\u001b[0m\n\u001b[1;32m     33\u001b[0m     plt\u001b[38;5;241m.\u001b[39mtext(data\u001b[38;5;241m.\u001b[39mloc[z[\u001b[38;5;241m0\u001b[39m],\u001b[38;5;124m'\u001b[39m\u001b[38;5;124mduration\u001b[39m\u001b[38;5;124m'\u001b[39m],\u001b[38;5;241m0\u001b[39m,data\u001b[38;5;241m.\u001b[39mloc[z[\u001b[38;5;241m0\u001b[39m],\u001b[38;5;124m'\u001b[39m\u001b[38;5;124mPrénom\u001b[39m\u001b[38;5;124m'\u001b[39m] ) \u001b[38;5;66;03m# ajoute un texte directement sur le graphe\u001b[39;00m\n\u001b[1;32m     34\u001b[0m     plt\u001b[38;5;241m.\u001b[39mshow()\n\u001b[0;32m---> 35\u001b[0m \u001b[43mgraphePerso\u001b[49m\u001b[43m(\u001b[49m\u001b[38;5;124;43m\"\u001b[39;49m\u001b[38;5;124;43mBASILE\u001b[39;49m\u001b[38;5;124;43m\"\u001b[39;49m\u001b[43m,\u001b[49m\u001b[43m \u001b[49m\u001b[38;5;124;43m\"\u001b[39;49m\u001b[38;5;124;43mAlberto\u001b[39;49m\u001b[38;5;124;43m\"\u001b[39;49m\u001b[43m)\u001b[49m\n",
      "Input \u001b[0;32mIn [13]\u001b[0m, in \u001b[0;36mgraphePerso\u001b[0;34m(nom, prenom)\u001b[0m\n\u001b[1;32m      5\u001b[0m z\u001b[38;5;241m=\u001b[39mdata\u001b[38;5;241m.\u001b[39mindex[data\u001b[38;5;241m.\u001b[39mAthlète\u001b[38;5;241m==\u001b[39m(nom\u001b[38;5;241m.\u001b[39mupper()\u001b[38;5;241m+\u001b[39m\u001b[38;5;124m\"\u001b[39m\u001b[38;5;124m \u001b[39m\u001b[38;5;124m\"\u001b[39m\u001b[38;5;241m+\u001b[39mprenom\u001b[38;5;241m.\u001b[39mcapitalize())]\n\u001b[1;32m      6\u001b[0m quantile75 \u001b[38;5;241m=\u001b[39m np\u001b[38;5;241m.\u001b[39mquantile(data[\u001b[38;5;124m'\u001b[39m\u001b[38;5;124mduration\u001b[39m\u001b[38;5;124m'\u001b[39m], ((data\u001b[38;5;241m.\u001b[39mduration\u001b[38;5;241m<\u001b[39m\u001b[38;5;241m=\u001b[39mdata\u001b[38;5;241m.\u001b[39mloc[z[\u001b[38;5;241m0\u001b[39m],\u001b[38;5;124m'\u001b[39m\u001b[38;5;124mduration\u001b[39m\u001b[38;5;124m'\u001b[39m])\u001b[38;5;241m.\u001b[39msum())\u001b[38;5;241m/\u001b[39m\u001b[38;5;28mlen\u001b[39m(data)) \u001b[38;5;66;03m#proportion de meilleur temps\u001b[39;00m\n\u001b[0;32m----> 8\u001b[0m x\u001b[38;5;241m=\u001b[39m np\u001b[38;5;241m.\u001b[39mlinspace(\u001b[43mdensite\u001b[49m[\u001b[38;5;241m0\u001b[39m,\u001b[38;5;241m0\u001b[39m], densite[\u001b[38;5;241m0\u001b[39m,\u001b[38;5;241m-\u001b[39m\u001b[38;5;241m1\u001b[39m], \u001b[38;5;28mint\u001b[39m(\u001b[38;5;241m1e5\u001b[39m)) \u001b[38;5;66;03m#x pour un tracé continu\u001b[39;00m\n\u001b[1;32m     10\u001b[0m tempsAxe \u001b[38;5;241m=\u001b[39m np\u001b[38;5;241m.\u001b[39mlinspace(densite[\u001b[38;5;241m0\u001b[39m,\u001b[38;5;241m0\u001b[39m],densite[\u001b[38;5;241m0\u001b[39m,\u001b[38;5;241m-\u001b[39m\u001b[38;5;241m1\u001b[39m], \u001b[38;5;241m6\u001b[39m) \u001b[38;5;66;03m#les nouvelles abscisses en secondes\u001b[39;00m\n\u001b[1;32m     11\u001b[0m labelTempsAxe \u001b[38;5;241m=\u001b[39m pd\u001b[38;5;241m.\u001b[39mSeries(tempsAxe)\u001b[38;5;241m.\u001b[39mapply(\u001b[38;5;28;01mlambda\u001b[39;00m x : pd\u001b[38;5;241m.\u001b[39mto_datetime(x,unit\u001b[38;5;241m=\u001b[39m\u001b[38;5;124m\"\u001b[39m\u001b[38;5;124ms\u001b[39m\u001b[38;5;124m\"\u001b[39m)\u001b[38;5;241m.\u001b[39mstrftime(\u001b[38;5;124m'\u001b[39m\u001b[38;5;124m%\u001b[39m\u001b[38;5;124mH:\u001b[39m\u001b[38;5;124m%\u001b[39m\u001b[38;5;124mM:\u001b[39m\u001b[38;5;124m%\u001b[39m\u001b[38;5;124mS\u001b[39m\u001b[38;5;124m'\u001b[39m)) \u001b[38;5;66;03m#les nouvelles abscisses en écriture lisible\u001b[39;00m\n",
      "\u001b[0;31mNameError\u001b[0m: name 'densite' is not defined"
     ]
    }
   ],
   "source": [
    "prenom=\"Alberto\"\n",
    "nom=\"BASILE\"\n",
    "\n",
    "def graphePerso(nom, prenom):\n",
    "    z=data.index[data.Athlète==(nom.upper()+\" \"+prenom.capitalize())]\n",
    "    quantile75 = np.quantile(data['duration'], ((data.duration<=data.loc[z[0],'duration']).sum())/len(data)) #proportion de meilleur temps\n",
    "    \n",
    "    x= np.linspace(densite[0,0], densite[0,-1], int(1e5)) #x pour un tracé continu\n",
    "\n",
    "    tempsAxe = np.linspace(densite[0,0],densite[0,-1], 6) #les nouvelles abscisses en secondes\n",
    "    labelTempsAxe = pd.Series(tempsAxe).apply(lambda x : pd.to_datetime(x,unit=\"s\").strftime('%H:%M:%S')) #les nouvelles abscisses en écriture lisible\n",
    "\n",
    "    plt.figure(figsize=(8,4.5), dpi=80) #format de la figure, (dpi pour la résolution)\n",
    "    plt.fill_between(x, fcubic(x), alpha = 0.3) #fonction pour colorier l'aire sous la courbe\n",
    "    plt.plot(x, fcubic(x), color = 'blue', label = 'densité lissée & interpolée')\n",
    "\n",
    "    #plt.plot(x,flin(x), linestyle ='--', color = 'black', label = \"densité réelle\") #choisir laquelle dessiner et utiliser fill_between pour avoir l'aire coloriée\n",
    "\n",
    "    plt.axvline(quantile75, color='r',alpha=0.3)\n",
    "\n",
    "    f2=truncf(fcubic, densite[0,0], quantile75)\n",
    "    plt.fill_between(x,f2(x), alpha = 0.6, color = 'red')\n",
    "\n",
    "    #plt.axvspan(quantile75, densite[0,0], color='r', alpha=0.3)\n",
    "    plt.legend() #permet d'afficher les legendes qu'on a mises dans les arguments 'label' des fonctions juste au dessus\n",
    "\n",
    "    # Ajout des labels et titre\n",
    "    plt.title(\"Densité des temps d'arrivée\", color= 'tab:red', fontsize = '20', fontstyle = 'oblique') # titre\n",
    "    plt.xlabel(\"Durée pour franchir la ligne d'arrivée\", fontstyle = 'italic', labelpad=5)\n",
    "    plt.ylabel(\"Densité des athlètes\", fontstyle = 'italic', labelpad=20)\n",
    "    plt.xticks(tempsAxe,labels = labelTempsAxe) #permet de choisir ce qu'on met sur l'axe des x : les coordonnees dans le premier argument, ce qu'il faut afficher dans l'autre.\n",
    "    plt.ylim((-0.1*max(densite[1]),1.1*max(densite[1]))) # permet de choisir l'espace au dessus et au dessous du graphe\n",
    "    plt.text(data.loc[z[0],'duration'],0,data.loc[z[0],'Prénom'] ) # ajoute un texte directement sur le graphe\n",
    "    plt.show()\n",
    "graphePerso(\"BASILE\", \"Alberto\")"
   ]
  },
  {
   "cell_type": "code",
   "execution_count": 14,
   "id": "d485dec0",
   "metadata": {},
   "outputs": [
    {
     "data": {
      "text/plain": [
       "'Alberto'"
      ]
     },
     "execution_count": 14,
     "metadata": {},
     "output_type": "execute_result"
    }
   ],
   "source": [
    "data.loc[z[0],'Prénom']"
   ]
  },
  {
   "cell_type": "code",
   "execution_count": 29,
   "id": "1b4f5321",
   "metadata": {},
   "outputs": [
    {
     "data": {
      "text/plain": [
       "1960.0"
      ]
     },
     "execution_count": 29,
     "metadata": {},
     "output_type": "execute_result"
    }
   ],
   "source": [
    "def tracegraphe"
   ]
  },
  {
   "cell_type": "code",
   "execution_count": 20,
   "id": "595f30f8-8129-46fd-89ab-9a8f371b4460",
   "metadata": {},
   "outputs": [
    {
     "name": "stderr",
     "output_type": "stream",
     "text": [
      "/var/folders/jy/77k463fj5d94h9zj3_qn_glh0000gn/T/ipykernel_8171/3200262511.py:1: FutureWarning: ['Athlète', 'Ligue', 'Performance', 'Catégorie', 'time_delta', 'time_gap', 'Nom', 'Prénom', 'h_duration'] did not aggregate successfully. If any error is raised this will raise in a future version of pandas. Drop these columns/ops to avoid this warning.\n",
      "  df1=data.groupby('Naissance').agg(['count','mean','max','min','std'])\n"
     ]
    }
   ],
   "source": [
    "df1=data.groupby('Naissance').agg(['count','mean','max','min','std'])"
   ]
  },
  {
   "cell_type": "markdown",
   "id": "8a1ca83e-d90a-42f2-a7d6-ebb2e5d1b0cc",
   "metadata": {},
   "source": [
    "Modélisation:"
   ]
  },
  {
   "cell_type": "code",
   "execution_count": 19,
   "id": "a67ad28e-9c56-40e7-9e50-144e14ac9a15",
   "metadata": {},
   "outputs": [
    {
     "data": {
      "image/png": "[encoded data removed]",
      "text/plain": [
       "<Figure size 432x288 with 1 Axes>"
      ]
     },
     "metadata": {
      "needs_background": "light"
     },
     "output_type": "display_data"
    }
   ],
   "source": [
    "axes = plt.axes()\n",
    "axes.grid() \n",
    "plt.scatter(df1.index,df1.loc[:,df1.columns[1]])\n",
    "plt.show()"
   ]
  },
  {
   "cell_type": "markdown",
   "id": "fc47d152-dfb8-4209-9955-ad47440ab8c5",
   "metadata": {},
   "source": [
    "Podium par Catégorie:"
   ]
  },
  {
   "cell_type": "code",
   "execution_count": 14,
   "id": "41ba37c7-6f5d-4b9a-96d1-82de85be9804",
   "metadata": {},
   "outputs": [
    {
     "name": "stderr",
     "output_type": "stream",
     "text": [
      "/var/folders/jy/77k463fj5d94h9zj3_qn_glh0000gn/T/ipykernel_2702/3476567333.py:27: SettingWithCopyWarning: \n",
      "A value is trying to be set on a copy of a slice from a DataFrame\n",
      "\n",
      "See the caveats in the documentation: https://pandas.pydata.org/pandas-docs/stable/user_guide/indexing.html#returning-a-view-versus-a-copy\n",
      "  df1_catégorie[col][i]=data[['Athlète']][data['duration']==df1_catégorie[col][i]].iloc[0,0]\n",
      "/var/folders/jy/77k463fj5d94h9zj3_qn_glh0000gn/T/ipykernel_2702/3476567333.py:27: SettingWithCopyWarning: \n",
      "A value is trying to be set on a copy of a slice from a DataFrame\n",
      "\n",
      "See the caveats in the documentation: https://pandas.pydata.org/pandas-docs/stable/user_guide/indexing.html#returning-a-view-versus-a-copy\n",
      "  df1_catégorie[col][i]=data[['Athlète']][data['duration']==df1_catégorie[col][i]].iloc[0,0]\n",
      "/var/folders/jy/77k463fj5d94h9zj3_qn_glh0000gn/T/ipykernel_2702/3476567333.py:27: SettingWithCopyWarning: \n",
      "A value is trying to be set on a copy of a slice from a DataFrame\n",
      "\n",
      "See the caveats in the documentation: https://pandas.pydata.org/pandas-docs/stable/user_guide/indexing.html#returning-a-view-versus-a-copy\n",
      "  df1_catégorie[col][i]=data[['Athlète']][data['duration']==df1_catégorie[col][i]].iloc[0,0]\n",
      "/var/folders/jy/77k463fj5d94h9zj3_qn_glh0000gn/T/ipykernel_2702/3476567333.py:27: SettingWithCopyWarning: \n",
      "A value is trying to be set on a copy of a slice from a DataFrame\n",
      "\n",
      "See the caveats in the documentation: https://pandas.pydata.org/pandas-docs/stable/user_guide/indexing.html#returning-a-view-versus-a-copy\n",
      "  df1_catégorie[col][i]=data[['Athlète']][data['duration']==df1_catégorie[col][i]].iloc[0,0]\n",
      "/var/folders/jy/77k463fj5d94h9zj3_qn_glh0000gn/T/ipykernel_2702/3476567333.py:27: SettingWithCopyWarning: \n",
      "A value is trying to be set on a copy of a slice from a DataFrame\n",
      "\n",
      "See the caveats in the documentation: https://pandas.pydata.org/pandas-docs/stable/user_guide/indexing.html#returning-a-view-versus-a-copy\n",
      "  df1_catégorie[col][i]=data[['Athlète']][data['duration']==df1_catégorie[col][i]].iloc[0,0]\n",
      "/var/folders/jy/77k463fj5d94h9zj3_qn_glh0000gn/T/ipykernel_2702/3476567333.py:27: SettingWithCopyWarning: \n",
      "A value is trying to be set on a copy of a slice from a DataFrame\n",
      "\n",
      "See the caveats in the documentation: https://pandas.pydata.org/pandas-docs/stable/user_guide/indexing.html#returning-a-view-versus-a-copy\n",
      "  df1_catégorie[col][i]=data[['Athlète']][data['duration']==df1_catégorie[col][i]].iloc[0,0]\n",
      "/var/folders/jy/77k463fj5d94h9zj3_qn_glh0000gn/T/ipykernel_2702/3476567333.py:27: SettingWithCopyWarning: \n",
      "A value is trying to be set on a copy of a slice from a DataFrame\n",
      "\n",
      "See the caveats in the documentation: https://pandas.pydata.org/pandas-docs/stable/user_guide/indexing.html#returning-a-view-versus-a-copy\n",
      "  df1_catégorie[col][i]=data[['Athlète']][data['duration']==df1_catégorie[col][i]].iloc[0,0]\n",
      "/var/folders/jy/77k463fj5d94h9zj3_qn_glh0000gn/T/ipykernel_2702/3476567333.py:27: SettingWithCopyWarning: \n",
      "A value is trying to be set on a copy of a slice from a DataFrame\n",
      "\n",
      "See the caveats in the documentation: https://pandas.pydata.org/pandas-docs/stable/user_guide/indexing.html#returning-a-view-versus-a-copy\n",
      "  df1_catégorie[col][i]=data[['Athlète']][data['duration']==df1_catégorie[col][i]].iloc[0,0]\n",
      "/var/folders/jy/77k463fj5d94h9zj3_qn_glh0000gn/T/ipykernel_2702/3476567333.py:27: SettingWithCopyWarning: \n",
      "A value is trying to be set on a copy of a slice from a DataFrame\n",
      "\n",
      "See the caveats in the documentation: https://pandas.pydata.org/pandas-docs/stable/user_guide/indexing.html#returning-a-view-versus-a-copy\n",
      "  df1_catégorie[col][i]=data[['Athlète']][data['duration']==df1_catégorie[col][i]].iloc[0,0]\n",
      "/var/folders/jy/77k463fj5d94h9zj3_qn_glh0000gn/T/ipykernel_2702/3476567333.py:27: SettingWithCopyWarning: \n",
      "A value is trying to be set on a copy of a slice from a DataFrame\n",
      "\n",
      "See the caveats in the documentation: https://pandas.pydata.org/pandas-docs/stable/user_guide/indexing.html#returning-a-view-versus-a-copy\n",
      "  df1_catégorie[col][i]=data[['Athlète']][data['duration']==df1_catégorie[col][i]].iloc[0,0]\n",
      "/var/folders/jy/77k463fj5d94h9zj3_qn_glh0000gn/T/ipykernel_2702/3476567333.py:27: SettingWithCopyWarning: \n",
      "A value is trying to be set on a copy of a slice from a DataFrame\n",
      "\n",
      "See the caveats in the documentation: https://pandas.pydata.org/pandas-docs/stable/user_guide/indexing.html#returning-a-view-versus-a-copy\n",
      "  df1_catégorie[col][i]=data[['Athlète']][data['duration']==df1_catégorie[col][i]].iloc[0,0]\n",
      "/var/folders/jy/77k463fj5d94h9zj3_qn_glh0000gn/T/ipykernel_2702/3476567333.py:27: SettingWithCopyWarning: \n",
      "A value is trying to be set on a copy of a slice from a DataFrame\n",
      "\n",
      "See the caveats in the documentation: https://pandas.pydata.org/pandas-docs/stable/user_guide/indexing.html#returning-a-view-versus-a-copy\n",
      "  df1_catégorie[col][i]=data[['Athlète']][data['duration']==df1_catégorie[col][i]].iloc[0,0]\n",
      "/var/folders/jy/77k463fj5d94h9zj3_qn_glh0000gn/T/ipykernel_2702/3476567333.py:27: SettingWithCopyWarning: \n",
      "A value is trying to be set on a copy of a slice from a DataFrame\n",
      "\n",
      "See the caveats in the documentation: https://pandas.pydata.org/pandas-docs/stable/user_guide/indexing.html#returning-a-view-versus-a-copy\n",
      "  df1_catégorie[col][i]=data[['Athlète']][data['duration']==df1_catégorie[col][i]].iloc[0,0]\n",
      "/var/folders/jy/77k463fj5d94h9zj3_qn_glh0000gn/T/ipykernel_2702/3476567333.py:27: SettingWithCopyWarning: \n",
      "A value is trying to be set on a copy of a slice from a DataFrame\n",
      "\n",
      "See the caveats in the documentation: https://pandas.pydata.org/pandas-docs/stable/user_guide/indexing.html#returning-a-view-versus-a-copy\n",
      "  df1_catégorie[col][i]=data[['Athlète']][data['duration']==df1_catégorie[col][i]].iloc[0,0]\n",
      "/var/folders/jy/77k463fj5d94h9zj3_qn_glh0000gn/T/ipykernel_2702/3476567333.py:27: SettingWithCopyWarning: \n",
      "A value is trying to be set on a copy of a slice from a DataFrame\n",
      "\n",
      "See the caveats in the documentation: https://pandas.pydata.org/pandas-docs/stable/user_guide/indexing.html#returning-a-view-versus-a-copy\n",
      "  df1_catégorie[col][i]=data[['Athlète']][data['duration']==df1_catégorie[col][i]].iloc[0,0]\n",
      "/var/folders/jy/77k463fj5d94h9zj3_qn_glh0000gn/T/ipykernel_2702/3476567333.py:27: SettingWithCopyWarning: \n",
      "A value is trying to be set on a copy of a slice from a DataFrame\n",
      "\n",
      "See the caveats in the documentation: https://pandas.pydata.org/pandas-docs/stable/user_guide/indexing.html#returning-a-view-versus-a-copy\n",
      "  df1_catégorie[col][i]=data[['Athlète']][data['duration']==df1_catégorie[col][i]].iloc[0,0]\n",
      "/var/folders/jy/77k463fj5d94h9zj3_qn_glh0000gn/T/ipykernel_2702/3476567333.py:27: SettingWithCopyWarning: \n",
      "A value is trying to be set on a copy of a slice from a DataFrame\n",
      "\n",
      "See the caveats in the documentation: https://pandas.pydata.org/pandas-docs/stable/user_guide/indexing.html#returning-a-view-versus-a-copy\n",
      "  df1_catégorie[col][i]=data[['Athlète']][data['duration']==df1_catégorie[col][i]].iloc[0,0]\n",
      "/var/folders/jy/77k463fj5d94h9zj3_qn_glh0000gn/T/ipykernel_2702/3476567333.py:27: SettingWithCopyWarning: \n",
      "A value is trying to be set on a copy of a slice from a DataFrame\n",
      "\n",
      "See the caveats in the documentation: https://pandas.pydata.org/pandas-docs/stable/user_guide/indexing.html#returning-a-view-versus-a-copy\n",
      "  df1_catégorie[col][i]=data[['Athlète']][data['duration']==df1_catégorie[col][i]].iloc[0,0]\n",
      "/var/folders/jy/77k463fj5d94h9zj3_qn_glh0000gn/T/ipykernel_2702/3476567333.py:27: SettingWithCopyWarning: \n",
      "A value is trying to be set on a copy of a slice from a DataFrame\n",
      "\n",
      "See the caveats in the documentation: https://pandas.pydata.org/pandas-docs/stable/user_guide/indexing.html#returning-a-view-versus-a-copy\n",
      "  df1_catégorie[col][i]=data[['Athlète']][data['duration']==df1_catégorie[col][i]].iloc[0,0]\n",
      "/var/folders/jy/77k463fj5d94h9zj3_qn_glh0000gn/T/ipykernel_2702/3476567333.py:27: SettingWithCopyWarning: \n",
      "A value is trying to be set on a copy of a slice from a DataFrame\n",
      "\n",
      "See the caveats in the documentation: https://pandas.pydata.org/pandas-docs/stable/user_guide/indexing.html#returning-a-view-versus-a-copy\n",
      "  df1_catégorie[col][i]=data[['Athlète']][data['duration']==df1_catégorie[col][i]].iloc[0,0]\n",
      "/var/folders/jy/77k463fj5d94h9zj3_qn_glh0000gn/T/ipykernel_2702/3476567333.py:27: SettingWithCopyWarning: \n",
      "A value is trying to be set on a copy of a slice from a DataFrame\n",
      "\n",
      "See the caveats in the documentation: https://pandas.pydata.org/pandas-docs/stable/user_guide/indexing.html#returning-a-view-versus-a-copy\n",
      "  df1_catégorie[col][i]=data[['Athlète']][data['duration']==df1_catégorie[col][i]].iloc[0,0]\n",
      "/var/folders/jy/77k463fj5d94h9zj3_qn_glh0000gn/T/ipykernel_2702/3476567333.py:27: SettingWithCopyWarning: \n",
      "A value is trying to be set on a copy of a slice from a DataFrame\n",
      "\n",
      "See the caveats in the documentation: https://pandas.pydata.org/pandas-docs/stable/user_guide/indexing.html#returning-a-view-versus-a-copy\n",
      "  df1_catégorie[col][i]=data[['Athlète']][data['duration']==df1_catégorie[col][i]].iloc[0,0]\n",
      "/var/folders/jy/77k463fj5d94h9zj3_qn_glh0000gn/T/ipykernel_2702/3476567333.py:27: SettingWithCopyWarning: \n",
      "A value is trying to be set on a copy of a slice from a DataFrame\n",
      "\n",
      "See the caveats in the documentation: https://pandas.pydata.org/pandas-docs/stable/user_guide/indexing.html#returning-a-view-versus-a-copy\n",
      "  df1_catégorie[col][i]=data[['Athlète']][data['duration']==df1_catégorie[col][i]].iloc[0,0]\n",
      "/var/folders/jy/77k463fj5d94h9zj3_qn_glh0000gn/T/ipykernel_2702/3476567333.py:27: SettingWithCopyWarning: \n",
      "A value is trying to be set on a copy of a slice from a DataFrame\n",
      "\n",
      "See the caveats in the documentation: https://pandas.pydata.org/pandas-docs/stable/user_guide/indexing.html#returning-a-view-versus-a-copy\n",
      "  df1_catégorie[col][i]=data[['Athlète']][data['duration']==df1_catégorie[col][i]].iloc[0,0]\n",
      "/var/folders/jy/77k463fj5d94h9zj3_qn_glh0000gn/T/ipykernel_2702/3476567333.py:33: SettingWithCopyWarning: \n",
      "A value is trying to be set on a copy of a slice from a DataFrame.\n",
      "Try using .loc[row_indexer,col_indexer] = value instead\n",
      "\n",
      "See the caveats in the documentation: https://pandas.pydata.org/pandas-docs/stable/user_guide/indexing.html#returning-a-view-versus-a-copy\n",
      "  df1_catégorie['Podium']=['Premier','Deuxième','Troisième']\n"
     ]
    },
    {
     "data": {
      "text/html": [
       "<div>\n",
       "<style scoped>\n",
       "    .dataframe tbody tr th:only-of-type {\n",
       "        vertical-align: middle;\n",
       "    }\n",
       "\n",
       "    .dataframe tbody tr th {\n",
       "        vertical-align: top;\n",
       "    }\n",
       "\n",
       "    .dataframe thead th {\n",
       "        text-align: right;\n",
       "    }\n",
       "</style>\n",
       "<table border=\"1\" class=\"dataframe\">\n",
       "  <thead>\n",
       "    <tr style=\"text-align: right;\">\n",
       "      <th></th>\n",
       "      <th>SEM</th>\n",
       "      <th>M1M</th>\n",
       "      <th>M0M</th>\n",
       "      <th>M3M</th>\n",
       "      <th>ESM</th>\n",
       "      <th>JUM</th>\n",
       "      <th>M4M</th>\n",
       "      <th>M2M</th>\n",
       "      <th>M5M</th>\n",
       "      <th>M1F</th>\n",
       "      <th>...</th>\n",
       "      <th>M7M</th>\n",
       "      <th>JUF</th>\n",
       "      <th>M3F</th>\n",
       "      <th>M5F</th>\n",
       "      <th>CAF</th>\n",
       "      <th>M4F</th>\n",
       "      <th>M8M</th>\n",
       "      <th>M0F</th>\n",
       "      <th>M6F</th>\n",
       "      <th>M8F</th>\n",
       "    </tr>\n",
       "    <tr>\n",
       "      <th>Podium</th>\n",
       "      <th></th>\n",
       "      <th></th>\n",
       "      <th></th>\n",
       "      <th></th>\n",
       "      <th></th>\n",
       "      <th></th>\n",
       "      <th></th>\n",
       "      <th></th>\n",
       "      <th></th>\n",
       "      <th></th>\n",
       "      <th></th>\n",
       "      <th></th>\n",
       "      <th></th>\n",
       "      <th></th>\n",
       "      <th></th>\n",
       "      <th></th>\n",
       "      <th></th>\n",
       "      <th></th>\n",
       "      <th></th>\n",
       "      <th></th>\n",
       "      <th></th>\n",
       "    </tr>\n",
       "  </thead>\n",
       "  <tbody>\n",
       "    <tr>\n",
       "      <th>Premier</th>\n",
       "      <td>LORTON Guillaume</td>\n",
       "      <td>DEBROUCKER Guillaume</td>\n",
       "      <td>KEMEI Charles</td>\n",
       "      <td>BUISSON Antoine</td>\n",
       "      <td>PETRAS Guillaume</td>\n",
       "      <td>BOYER Theo</td>\n",
       "      <td>MAHAMDI Ahmed</td>\n",
       "      <td>ANGELI Stephane</td>\n",
       "      <td>CARVELLI Salvatore</td>\n",
       "      <td>LECOMTE Claire</td>\n",
       "      <td>...</td>\n",
       "      <td>ARNAL Jean</td>\n",
       "      <td>MERAT Audrey</td>\n",
       "      <td>PITAVY Lydia</td>\n",
       "      <td>CUBIZOLLES Martine</td>\n",
       "      <td>DJIGO Rosane</td>\n",
       "      <td>GOUREAU Lucie</td>\n",
       "      <td>MASTON Walter</td>\n",
       "      <td>QUENOT Marie</td>\n",
       "      <td>JULIEN Annie</td>\n",
       "      <td>REURE Michele</td>\n",
       "    </tr>\n",
       "    <tr>\n",
       "      <th>Deuxième</th>\n",
       "      <td>BETRON Adrien</td>\n",
       "      <td>SPIMOLA MARQUES</td>\n",
       "      <td>CROUE Jeremy</td>\n",
       "      <td>DEFOUS Stephane</td>\n",
       "      <td>DOUCET Thomas</td>\n",
       "      <td>TACHET Alexis</td>\n",
       "      <td>CHADEBEC Patrick</td>\n",
       "      <td>PONCHON Freddy</td>\n",
       "      <td>VASSAL Fabrice</td>\n",
       "      <td>BENIGAUD Aurelien</td>\n",
       "      <td>...</td>\n",
       "      <td>LOMBARD Joseph</td>\n",
       "      <td>GORDONS Ines</td>\n",
       "      <td>NaN</td>\n",
       "      <td>VIAL Bruno</td>\n",
       "      <td>BESSON Agathe</td>\n",
       "      <td>PROMONET Nelly</td>\n",
       "      <td>NaN</td>\n",
       "      <td>COUTO Celine</td>\n",
       "      <td>NaN</td>\n",
       "      <td>NaN</td>\n",
       "    </tr>\n",
       "    <tr>\n",
       "      <th>Troisième</th>\n",
       "      <td>MOULIN Loic</td>\n",
       "      <td>TACHET Alexis</td>\n",
       "      <td>REBOUL Samuel</td>\n",
       "      <td>GIRAUDIER Francois</td>\n",
       "      <td>PERRAUD Victor</td>\n",
       "      <td>MILLY Corentin</td>\n",
       "      <td>CHAMPALLE Thierry</td>\n",
       "      <td>SPITALIERI Patrick</td>\n",
       "      <td>BELGUERRI Nordine</td>\n",
       "      <td>THEVENON Aurelie</td>\n",
       "      <td>...</td>\n",
       "      <td>RISI Xavier</td>\n",
       "      <td>NaN</td>\n",
       "      <td>NaN</td>\n",
       "      <td>NaN</td>\n",
       "      <td>NaN</td>\n",
       "      <td>NaN</td>\n",
       "      <td>NaN</td>\n",
       "      <td>THOMAS Marie</td>\n",
       "      <td>NaN</td>\n",
       "      <td>NaN</td>\n",
       "    </tr>\n",
       "  </tbody>\n",
       "</table>\n",
       "<p>3 rows × 25 columns</p>\n",
       "</div>"
      ],
      "text/plain": [
       "                        SEM                   M1M            M0M  \\\n",
       "Podium                                                             \n",
       "Premier    LORTON Guillaume  DEBROUCKER Guillaume  KEMEI Charles   \n",
       "Deuxième      BETRON Adrien       SPIMOLA MARQUES   CROUE Jeremy   \n",
       "Troisième       MOULIN Loic         TACHET Alexis  REBOUL Samuel   \n",
       "\n",
       "                          M3M               ESM             JUM  \\\n",
       "Podium                                                            \n",
       "Premier       BUISSON Antoine  PETRAS Guillaume      BOYER Theo   \n",
       "Deuxième      DEFOUS Stephane     DOUCET Thomas   TACHET Alexis   \n",
       "Troisième  GIRAUDIER Francois    PERRAUD Victor  MILLY Corentin   \n",
       "\n",
       "                         M4M                 M2M                 M5M  \\\n",
       "Podium                                                                 \n",
       "Premier        MAHAMDI Ahmed     ANGELI Stephane  CARVELLI Salvatore   \n",
       "Deuxième    CHADEBEC Patrick      PONCHON Freddy      VASSAL Fabrice   \n",
       "Troisième  CHAMPALLE Thierry  SPITALIERI Patrick   BELGUERRI Nordine   \n",
       "\n",
       "                         M1F  ...             M7M           JUF           M3F  \\\n",
       "Podium                        ...                                               \n",
       "Premier       LECOMTE Claire  ...      ARNAL Jean  MERAT Audrey  PITAVY Lydia   \n",
       "Deuxième   BENIGAUD Aurelien  ...  LOMBARD Joseph  GORDONS Ines           NaN   \n",
       "Troisième   THEVENON Aurelie  ...     RISI Xavier           NaN           NaN   \n",
       "\n",
       "                          M5F            CAF             M4F            M8M  \\\n",
       "Podium                                                                        \n",
       "Premier    CUBIZOLLES Martine   DJIGO Rosane   GOUREAU Lucie  MASTON Walter   \n",
       "Deuxième           VIAL Bruno  BESSON Agathe  PROMONET Nelly            NaN   \n",
       "Troisième                 NaN            NaN             NaN            NaN   \n",
       "\n",
       "                    M0F           M6F            M8F  \n",
       "Podium                                                \n",
       "Premier    QUENOT Marie  JULIEN Annie  REURE Michele  \n",
       "Deuxième   COUTO Celine           NaN            NaN  \n",
       "Troisième  THOMAS Marie           NaN            NaN  \n",
       "\n",
       "[3 rows x 25 columns]"
      ]
     },
     "metadata": {},
     "output_type": "display_data"
    }
   ],
   "source": [
    "#Extraction des différentes catégories de la compétition\n",
    "\n",
    "Catégorie = data['Catégorie'].unique()\n",
    "\n",
    "# Création d'un dictionaire des temps pour chaque catégorie\n",
    "\n",
    "dict_catégorie = {}\n",
    "for x in Catégorie:\n",
    "    dict_catégorie[x] = data['duration'][data['Catégorie']==x]\n",
    "    \n",
    "#Création d'un dataframe avec les catégorie en colonnes et les temps des participants y appartenant en valeur\n",
    "    \n",
    "df_catégorie = pd.DataFrame(dict_catégorie)\n",
    "\n",
    "#Tri des temps pour les 3 premiers temps de chaque catégorie\n",
    "\n",
    "\n",
    "df1_catégorie=df_catégorie.copy()\n",
    "for col in df1_catégorie.columns:\n",
    "    for i in range(3):\n",
    "        df1_catégorie[col][i] = df_catégorie[col].nsmallest(3).iloc[i]\n",
    "        \n",
    "#Extractio des Athlètes correspondants aux 3 premier temps de chaque catégorie\n",
    "for col in df1_catégorie.columns:\n",
    "    for i in range(3):\n",
    "        try:\n",
    "            df1_catégorie[col][i]=data[['Athlète']][data['duration']==df1_catégorie[col][i]].iloc[0,0]\n",
    "        except:\n",
    "            break\n",
    "\n",
    "#Extraction des 3 premières ligne correspondant au podium\n",
    "df1_catégorie=df1_catégorie.iloc[:3,:]\n",
    "df1_catégorie['Podium']=['Premier','Deuxième','Troisième']\n",
    "df1_catégorie = df1_catégorie.set_index('Podium')\n",
    "display(df1_catégorie)"
   ]
  }
 ],
 "metadata": {
  "kernelspec": {
   "display_name": "Python 3 (ipykernel)",
   "language": "python",
   "name": "python3"
  },
  "language_info": {
   "codemirror_mode": {
    "name": "ipython",
    "version": 3
   },
   "file_extension": ".py",
   "mimetype": "text/x-python",
   "name": "python",
   "nbconvert_exporter": "python",
   "pygments_lexer": "ipython3",
   "version": "3.9.12"
  }
 },
 "nbformat": 4,
 "nbformat_minor": 5
}
