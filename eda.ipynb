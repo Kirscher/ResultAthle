{
 "cells": [
  {
   "cell_type": "markdown",
   "id": "1084cb24-4805-4c04-99a8-94a9c85f0326",
   "metadata": {},
   "source": [
    "## Etape 2 : Statistiques descriptives\n",
    "\n",
    "### Import des librairies et analyse du jeu de données\n",
    "\n",
    "Import des différentes librairies utiles à l'analyse :"
   ]
  },
  {
   "cell_type": "code",
   "execution_count": 1,
   "id": "696784c9-637a-4f29-9054-1fb860f6d49b",
   "metadata": {},
   "outputs": [],
   "source": [
    "import pandas as pd\n",
    "import numpy as np\n",
    "import matplotlib.pyplot as plt\n",
    "import math\n",
    "from datetime import datetime\n",
    "import time\n",
    "import seaborn as sns"
   ]
  },
  {
   "cell_type": "markdown",
   "id": "8dc51025-e6e2-40bc-82a0-27149ccde2de",
   "metadata": {},
   "source": [
    "Il est nécessaire d'installer et d'importer \"importnb\" pour avoir accès aux fonctionns définies dans \"algoStatCourse\" :"
   ]
  },
  {
   "cell_type": "code",
   "execution_count": 2,
   "id": "ec28ec85-e385-4d1e-a767-ef3b7c1f065a",
   "metadata": {},
   "outputs": [],
   "source": [
    "#pip install importnb"
   ]
  },
  {
   "cell_type": "code",
   "execution_count": 3,
   "id": "468343d2",
   "metadata": {},
   "outputs": [],
   "source": [
    "from importnb import Notebook\n",
    "with Notebook():\n",
    "    import algoStatCourse"
   ]
  },
  {
   "cell_type": "markdown",
   "id": "b54c390d-7281-4549-9622-a2442cf1bde0",
   "metadata": {},
   "source": [
    "Il faut ensuite importer un jeu de donnée. On prend le jeu de données correspondant aux 10 kilomètres de Riorges comme exemple pour l'analyse:"
   ]
  },
  {
   "cell_type": "code",
   "execution_count": 4,
   "id": "18aeb977-4fec-417e-85a3-8771d3739a92",
   "metadata": {},
   "outputs": [],
   "source": [
    "data=pd.read_csv(\"10_km_Riorges.csv\")"
   ]
  },
  {
   "cell_type": "markdown",
   "id": "6bf92182-59bd-4c12-b1e9-53cd4c15f5fa",
   "metadata": {},
   "source": [
    "Comme chaque jeu de données extrait, nous avons à notre disponibilité le nom et prénom de chaque athlète, leur performance, leur années de naissance, la catégorie à laquelle ils appartiennent, leur temps, ainsi que leur écart de temps avec le premier."
   ]
  },
  {
   "cell_type": "code",
   "execution_count": 61,
   "id": "1932f8ca-22c6-4b0a-b54f-b617a06be95e",
   "metadata": {},
   "outputs": [
    {
     "data": {
      "text/html": [
       "<div>\n",
       "<style scoped>\n",
       "    .dataframe tbody tr th:only-of-type {\n",
       "        vertical-align: middle;\n",
       "    }\n",
       "\n",
       "    .dataframe tbody tr th {\n",
       "        vertical-align: top;\n",
       "    }\n",
       "\n",
       "    .dataframe thead th {\n",
       "        text-align: right;\n",
       "    }\n",
       "</style>\n",
       "<table border=\"1\" class=\"dataframe\">\n",
       "  <thead>\n",
       "    <tr style=\"text-align: right;\">\n",
       "      <th></th>\n",
       "      <th>Athlète</th>\n",
       "      <th>Ligue</th>\n",
       "      <th>Performance</th>\n",
       "      <th>Naissance</th>\n",
       "      <th>Catégorie</th>\n",
       "      <th>time_delta</th>\n",
       "      <th>time_gap</th>\n",
       "      <th>duration</th>\n",
       "      <th>Nom</th>\n",
       "      <th>Prénom</th>\n",
       "      <th>h_duration</th>\n",
       "    </tr>\n",
       "  </thead>\n",
       "  <tbody>\n",
       "    <tr>\n",
       "      <th>0</th>\n",
       "      <td>LORTON Guillaume</td>\n",
       "      <td>ARA</td>\n",
       "      <td>N4</td>\n",
       "      <td>1989</td>\n",
       "      <td>SEM</td>\n",
       "      <td>0 days 00:30:58</td>\n",
       "      <td>0 days 00:00:00</td>\n",
       "      <td>1858.0</td>\n",
       "      <td>LORTON</td>\n",
       "      <td>Guillaume</td>\n",
       "      <td>00:30:58</td>\n",
       "    </tr>\n",
       "    <tr>\n",
       "      <th>1</th>\n",
       "      <td>BETRON Adrien</td>\n",
       "      <td>ARA</td>\n",
       "      <td>IR1</td>\n",
       "      <td>1989</td>\n",
       "      <td>SEM</td>\n",
       "      <td>0 days 00:31:30</td>\n",
       "      <td>0 days 00:00:32</td>\n",
       "      <td>1890.0</td>\n",
       "      <td>BETRON</td>\n",
       "      <td>Adrien</td>\n",
       "      <td>00:31:30</td>\n",
       "    </tr>\n",
       "    <tr>\n",
       "      <th>2</th>\n",
       "      <td>MOULIN Loic</td>\n",
       "      <td>ARA</td>\n",
       "      <td>IR2</td>\n",
       "      <td>1992</td>\n",
       "      <td>SEM</td>\n",
       "      <td>0 days 00:32:01</td>\n",
       "      <td>0 days 00:01:03</td>\n",
       "      <td>1921.0</td>\n",
       "      <td>MOULIN</td>\n",
       "      <td>Loic</td>\n",
       "      <td>00:32:01</td>\n",
       "    </tr>\n",
       "    <tr>\n",
       "      <th>3</th>\n",
       "      <td>DEBROUCKER Guillaume</td>\n",
       "      <td>ARA</td>\n",
       "      <td>IR2</td>\n",
       "      <td>1982</td>\n",
       "      <td>M1M</td>\n",
       "      <td>0 days 00:32:15</td>\n",
       "      <td>0 days 00:01:17</td>\n",
       "      <td>1935.0</td>\n",
       "      <td>DEBROUCKER</td>\n",
       "      <td>Guillaume</td>\n",
       "      <td>00:32:15</td>\n",
       "    </tr>\n",
       "    <tr>\n",
       "      <th>4</th>\n",
       "      <td>KEMEI Charles</td>\n",
       "      <td>ARA</td>\n",
       "      <td>IR2</td>\n",
       "      <td>1984</td>\n",
       "      <td>M0M</td>\n",
       "      <td>0 days 00:32:40</td>\n",
       "      <td>0 days 00:01:42</td>\n",
       "      <td>1960.0</td>\n",
       "      <td>KEMEI</td>\n",
       "      <td>Charles</td>\n",
       "      <td>00:32:40</td>\n",
       "    </tr>\n",
       "  </tbody>\n",
       "</table>\n",
       "</div>"
      ],
      "text/plain": [
       "                Athlète Ligue Performance  Naissance Catégorie  \\\n",
       "0      LORTON Guillaume   ARA          N4       1989       SEM   \n",
       "1         BETRON Adrien   ARA         IR1       1989       SEM   \n",
       "2           MOULIN Loic   ARA         IR2       1992       SEM   \n",
       "3  DEBROUCKER Guillaume   ARA         IR2       1982       M1M   \n",
       "4         KEMEI Charles   ARA         IR2       1984       M0M   \n",
       "\n",
       "        time_delta         time_gap  duration         Nom     Prénom  \\\n",
       "0  0 days 00:30:58  0 days 00:00:00    1858.0      LORTON  Guillaume   \n",
       "1  0 days 00:31:30  0 days 00:00:32    1890.0      BETRON     Adrien   \n",
       "2  0 days 00:32:01  0 days 00:01:03    1921.0      MOULIN       Loic   \n",
       "3  0 days 00:32:15  0 days 00:01:17    1935.0  DEBROUCKER  Guillaume   \n",
       "4  0 days 00:32:40  0 days 00:01:42    1960.0       KEMEI    Charles   \n",
       "\n",
       "  h_duration  \n",
       "0   00:30:58  \n",
       "1   00:31:30  \n",
       "2   00:32:01  \n",
       "3   00:32:15  \n",
       "4   00:32:40  "
      ]
     },
     "execution_count": 64,
     "metadata": {},
     "output_type": "execute_result"
    }
   ],
   "source": [
    "data.head()"
   ]
  },
  {
   "cell_type": "markdown",
   "id": "11d41117-755e-4484-a572-9e923327d749",
   "metadata": {},
   "source": [
    "On ajoute la variable 'h_duration' qui permet d'obtenir le temps d'arrivée dans le format heures, minutes, secondes, afin d'avoir une variable explicite pour la visualisation."
   ]
  },
  {
   "cell_type": "code",
   "execution_count": 6,
   "id": "6c400230-46ad-4d9d-876d-3279213d0441",
   "metadata": {},
   "outputs": [],
   "source": [
    "data['h_duration'] = data['duration'].apply(lambda x : pd.to_datetime(x,unit=\"s\").strftime('%H:%M:%S'))"
   ]
  },
  {
   "cell_type": "markdown",
   "id": "a9020f8e-d3c8-426f-9c8f-b1b13451f945",
   "metadata": {},
   "source": [
    "Nous analysons maintenant les statistiques descriptives du temps d'arrivée afin de connaitre rapidement la forme des données, et la présence de possible valeurs abérantes, pour guider la construction des visualisations utile à l'athlète. Dans ce jeu de données, nous n'avons à première vue pas de potentiels valeurs abbérantes étant données que les temps sont environ réparti entre 30 et 70 mn, temps normaux pour une course de 10 km."
   ]
  },
  {
   "cell_type": "code",
   "execution_count": 7,
   "id": "81515285-143b-4470-b72e-1471ac77efa8",
   "metadata": {},
   "outputs": [
    {
     "data": {
      "text/plain": [
       "count    250.000000\n",
       "mean      46.830600\n",
       "std        8.432333\n",
       "min       30.966667\n",
       "25%       39.666667\n",
       "50%       46.158333\n",
       "75%       52.758333\n",
       "max       70.750000\n",
       "Name: duration, dtype: float64"
      ]
     },
     "execution_count": 7,
     "metadata": {},
     "output_type": "execute_result"
    }
   ],
   "source": [
    "(data['duration']/60).describe()"
   ]
  },
  {
   "cell_type": "markdown",
   "id": "619646a9-15b9-4590-99db-a22dcc208889",
   "metadata": {},
   "source": [
    "### Construction des visualisations et données utiles à l'athlète"
   ]
  },
  {
   "cell_type": "markdown",
   "id": "70f297c1-44e5-42c3-b904-d021b5dd228e",
   "metadata": {},
   "source": [
    "On utilise maintenant algoStatCourse pour construire un graphique rendant compte de la position de l'athlète dans la densité des temps d'arrivée."
   ]
  },
  {
   "cell_type": "code",
   "execution_count": 11,
   "id": "9c08ffd6-6851-49b3-835c-e00ed4a7ab5e",
   "metadata": {},
   "outputs": [],
   "source": [
    "densite=algoStatCourse.dens(data['duration'], bins = 12) #Calcul de la densité de la variable 'duration'\n",
    "fcubic=algoStatCourse.lissage(densite, sep = True) #Retourne la fonction d'interpolation cubique\n",
    "flin=algoStatCourse.lissage(densite, sep = False, kind = 'linear') #Retourne la fonction d'interpolation linéaire"
   ]
  },
  {
   "cell_type": "markdown",
   "id": "a00ff0d9-f64d-4d17-803c-896b93c3a2d3",
   "metadata": {},
   "source": [
    "On définit une fonction qui permet d'appliquer une indicatrice afin de retourner la partie de la fonction qui nous intéresse. Cela sera utile pour mettre en avant les athlètes plus rapides qu'un athlète donné dans la distribution des temps."
   ]
  },
  {
   "cell_type": "code",
   "execution_count": null,
   "id": "b1cdf12e-7a69-4573-81c7-b8a611d01c52",
   "metadata": {},
   "outputs": [],
   "source": [
    "def truncf (f,xmin, xmax):\n",
    "    def f2 (x):\n",
    "        if (x>=xmin)*(x<=xmax):\n",
    "            return f(x)\n",
    "        return np.nan\n",
    "    \n",
    "    return np.vectorize(f2)"
   ]
  },
  {
   "cell_type": "markdown",
   "id": "3c6dab8c-1849-456c-8bcd-b74e3707c542",
   "metadata": {},
   "source": [
    "Il est maintenant possible de définir une fonction pour visualiser la position individuelle de l'athlète dans la densité de temps de la compétition."
   ]
  },
  {
   "cell_type": "code",
   "execution_count": 114,
   "id": "06b8a285",
   "metadata": {},
   "outputs": [],
   "source": [
    "def graphePerso(prenom, nom):\n",
    "    \n",
    "    densite=algoStatCourse.dens(data['duration'], bins = 12) #Calcul de la densité de la variable 'duration'\n",
    "    fcubic=algoStatCourse.lissage(densite, sep = True) #Retourne la fonction d'interpolation cubique\n",
    "    flin=algoStatCourse.lissage(densite, sep = False, kind = 'linear') #Retourne la fonction d'interpolation linéaire\n",
    "    \n",
    "    temps = data.loc[z[0],'duration'] #temps du participant\n",
    "    \n",
    "    x= np.linspace(densite[0,0], densite[0,-1], int(1e5)) #x permet d'obtenir un tracé continu\n",
    "\n",
    "    tempsAxe = np.linspace(densite[0,0],densite[0,-1],6) #définition de l'axe des abscisses en secondes avec 6 points\n",
    "    labelTempsAxe = pd.Series(tempsAxe).apply(lambda x : pd.to_datetime(x,unit=\"s\").strftime('%H:%M:%S')) #Définition de la forme que prendra le temps sur l'axe des abcisses (format heures/minutes/secondes pour plus de lisibilité)\n",
    "\n",
    "    plt.figure(figsize=(8,4.5), dpi=80) #format de la figure, (dpi pour la résolution)\n",
    "    plt.fill_between(x, fcubic(x), alpha = 0.3) #fonction pour colorier l'aire sous la courbe\n",
    "    plt.plot(x, fcubic(x), color = 'blue', label = 'densité lissée & interpolée')\n",
    "\n",
    "    #plt.plot(x,flin(x), linestyle ='--', color = 'black', label = \"densité réelle\") #possibilité de dessiner l'interpolation linéaire au lieu de l'interpolation cubique\n",
    "\n",
    "    plt.axvline(temps, color='r',alpha=0.3) #ligne verticale pour indiquer la position du participant sur les abscisses\n",
    "\n",
    "    f2=truncf(fcubic, densite[0,0], temps) #on tronque fcubic pour ne retenir que la partie de la fonction des temps meilleurs à celui de l'individu\n",
    "    plt.fill_between(x,f2(x), alpha = 0.6, color = 'red') #on affiche l'aire des temps meilleurs à celui de l'individu en rouge\n",
    "\n",
    "    #plt.axvspan(temps, densite[0,0], color='r', alpha=0.3)\n",
    "    plt.legend() #permet d'afficher les legendes qu'on a mises dans les arguments 'label' des fonctions juste au dessus\n",
    "\n",
    "    # Ajout des labels et titre\n",
    "    plt.title(\"Densité des temps d'arrivée\", color= 'tab:red', fontsize = '20', fontstyle = 'oblique') # titre\n",
    "    plt.xlabel(\"Durée pour franchir la ligne d'arrivée\", fontstyle = 'italic', labelpad=5) #label abscisse\n",
    "    plt.ylabel(\"Densité des athlètes\", fontstyle = 'italic', labelpad=20) #label ordonnée\n",
    "    plt.xticks(tempsAxe,labels = labelTempsAxe) #permet de choisir ce qu'on met sur l'axe des x : les coordonnees dans le premier argument, ce qu'il faut afficher dans le second.\n",
    "    plt.ylim((-0.1*max(densite[1]),1.1*max(densite[1]))) #permet de choisir l'espace au dessus et au dessous du graphe\n",
    "    plt.text(data.loc[z[0],'duration'],0.0001,data.loc[z[0],'Prénom'] ) # ajoute un texte directement sur le graphe\n",
    "    plt.show()"
   ]
  },
  {
   "cell_type": "code",
   "execution_count": 103,
   "id": "a4d82051-65b3-4d52-8f20-9334cb871731",
   "metadata": {},
   "outputs": [],
   "source": [
    "def graphePerso1(prenom, nom):\n",
    "    \n",
    "    z=data.index[data.Athlète==(nom.upper()+\" \"+prenom.capitalize())] #numéro de l'index du participant\n",
    "    \n",
    "    densite=algoStatCourse.dens(data['duration'][data['Catégorie']==data.loc[z[0],'Catégorie']], bins = 12) #Calcul de la densité de la variable 'duration'\n",
    "    fcubic=algoStatCourse.lissage(densite, sep = True) #Retourne la fonction d'interpolation cubique\n",
    "    flin=algoStatCourse.lissage(densite, sep = False, kind = 'linear') #Retourne la fonction d'interpolation linéaire\n",
    "    \n",
    "    temps = data.loc[z[0],'duration'] #temps du participant\n",
    "    \n",
    "    x= np.linspace(densite[0,0], densite[0,-1], int(1e5)) #x permet d'obtenir un tracé continu\n",
    "\n",
    "    tempsAxe = np.linspace(densite[0,0],densite[0,-1],6) #définition de l'axe des abscisses en secondes avec 6 points\n",
    "    labelTempsAxe = pd.Series(tempsAxe).apply(lambda x : pd.to_datetime(x,unit=\"s\").strftime('%H:%M:%S')) #Définition de la forme que prendra le temps sur l'axe des abcisses (format heures/minutes/secondes pour plus de lisibilité)\n",
    "\n",
    "    plt.figure(figsize=(8,4.5), dpi=80) #format de la figure, (dpi pour la résolution)\n",
    "    plt.fill_between(x, fcubic(x), alpha = 0.3) #fonction pour colorier l'aire sous la courbe\n",
    "    plt.plot(x, fcubic(x), color = 'blue', label = 'densité lissée & interpolée')\n",
    "\n",
    "    plt.plot(x,flin(x), linestyle ='--', color = 'black', label = \"densité réelle\") #possibilité de dessiner l'interpolation linéaire au lieu de l'interpolation cubique\n",
    "\n",
    "    #plt.axvline(temps, color='r',alpha=0.3) #ligne verticale pour indiquer la position du participant sur les abscisses\n",
    "\n",
    "    f2=truncf(fcubic, densite[0,0], temps) #on tronque fcubic pour ne retenir que la partie de la fonction des temps meilleurs à celui de l'individu\n",
    "    plt.fill_between(x,f2(x), alpha = 0.6, color = 'red') #on affiche l'aire des temps meilleurs à celui de l'individu en rouge\n",
    "\n",
    "    #plt.axvspan(temps, densite[0,0], color='r', alpha=0.3)\n",
    "    plt.legend() #permet d'afficher les legendes qu'on a mises dans les arguments 'label' des fonctions juste au dessus\n",
    "\n",
    "    # Ajout des labels et titre\n",
    "    plt.title(\"Densité des temps d'arrivée\", color= 'tab:red', fontsize = '20', fontstyle = 'oblique') # titre\n",
    "    plt.xlabel(\"Durée pour franchir la ligne d'arrivée\", fontstyle = 'italic', labelpad=5) #label abscisse\n",
    "    plt.ylabel(\"Densité des athlètes\", fontstyle = 'italic', labelpad=20) #label ordonnée\n",
    "    plt.xticks(tempsAxe,labels = labelTempsAxe) #permet de choisir ce qu'on met sur l'axe des x : les coordonnees dans le premier argument, ce qu'il faut afficher dans le second.\n",
    "    plt.ylim((-0.1*max(densite[1]),1.1*max(densite[1]))) #permet de choisir l'espace au dessus et au dessous du graphe\n",
    "    plt.text(data.loc[z[0],'duration'],0,data.loc[z[0],'Prénom'] ) # ajoute un texte directement sur le graphe\n",
    "    plt.show()"
   ]
  },
  {
   "cell_type": "code",
   "execution_count": 104,
   "id": "050e4bcf-60c4-4116-8632-4a9026eb1698",
   "metadata": {},
   "outputs": [
    {
     "data": {
      "image/png": "[encoded data removed]",
      "text/plain": [
       "<Figure size 640x360 with 1 Axes>"
      ]
     },
     "metadata": {
      "needs_background": "light"
     },
     "output_type": "display_data"
    }
   ],
   "source": [
    "graphePerso1(\"charles\",\"kemei\")"
   ]
  },
  {
   "cell_type": "markdown",
   "id": "0ab4726d-9285-44e0-a662-78d32360dd47",
   "metadata": {},
   "source": [
    "### Construction et application de l'output des statistiques et visuels individuels\n",
    "\n",
    "On construit d'abord deux fonctions qui permettront de demander à l'utilisateur son nom et prénom."
   ]
  },
  {
   "cell_type": "code",
   "execution_count": 8,
   "id": "7bc42801-359b-4f5c-8f2b-44ac0cd26666",
   "metadata": {},
   "outputs": [],
   "source": [
    "def Prenom():\n",
    "  user_input = input(\"Veuillez entrer votre prénom\")\n",
    "  return user_input\n",
    "\n",
    "def Nom():\n",
    "  user_input = input(\"Veuillez entrer votre nom\")\n",
    "  return user_input"
   ]
  },
  {
   "cell_type": "markdown",
   "id": "e5bc0370-70a7-4c0d-8623-06c23bf4daae",
   "metadata": {},
   "source": [
    "Ici, on définit une fonction permettant de donner directement les premières informations utile, à partir du nom et prénom, de la performance individuelle relativement à la performance globale de la compétition."
   ]
  },
  {
   "cell_type": "code",
   "execution_count": 9,
   "id": "de35a8b8",
   "metadata": {},
   "outputs": [],
   "source": [
    "def info_participant():\n",
    "    x=Prenom()\n",
    "    y=Nom()\n",
    "    if ~data['Athlète'].isin([(y.upper()+\" \"+x.capitalize())]).any():\n",
    "        print(\"Le nom que vous avez entré n'est pas dans la liste des participants de la course choisie.\")\n",
    "    else:\n",
    "        z=data.index[data.Athlète==(y.upper()+\" \"+x.capitalize())]\n",
    "        print(\"Temps d'arrivé :\", data.loc[z[0],'h_duration'])\n",
    "        print(\"Position d'arrivée : \", data.index[z[0]]+1)\n",
    "        print(\"Niveau de la performance\", data.loc[z[0],'Performance'])\n",
    "        print(\"Temps d'arrivé dans le top :\", math.ceil(((data.duration<=data.loc[z[0],'duration']).sum())/len(data)*100),\"%\")\n",
    "        print(\"Position parmis les\", len(data[data['Catégorie']==data.loc[z[0],'Catégorie']]),\"participants de la catégorie\", data.loc[z[0],'Catégorie'], \":\",round(data[data['Catégorie']==data.loc[z[0],'Catégorie']]['duration'].rank().loc[z[0]]))\n",
    "        print(\"Position parmis les\", len((data[abs(data.loc[:,'Naissance']-data.loc[z[0],'Naissance'])<=5])), \"participants ayant plus ou moins 5 ans de différence d'âge avec vous : \", round(((data[abs(data.loc[:,'Naissance']-data.loc[z[0],'Naissance'])<=5])['duration'].rank()).loc[z[0]]))"
   ]
  },
  {
   "cell_type": "markdown",
   "id": "4a538c1a-7fab-41d6-833f-0730fff15750",
   "metadata": {},
   "source": [
    "Exemple d'utilisation:"
   ]
  },
  {
   "cell_type": "code",
   "execution_count": 115,
   "id": "51109e76-77d7-47e0-9f97-b84d3fe0df99",
   "metadata": {},
   "outputs": [
    {
     "name": "stdin",
     "output_type": "stream",
     "text": [
      "Veuillez entrer votre prénom charles\n",
      "Veuillez entrer votre nom kemei\n"
     ]
    },
    {
     "name": "stdout",
     "output_type": "stream",
     "text": [
      "Temps d'arrivé : 00:32:40\n",
      "Position d'arrivée :  5\n",
      "Niveau de la performance IR2\n",
      "Temps d'arrivé dans le top : 2 %\n",
      "Position parmis les 22 participants de la catégorie M0M : 1\n",
      "Position parmis les 89 participants ayant plus ou moins 5 ans de différence d'âge avec vous :  4\n"
     ]
    },
    {
     "data": {
      "image/png": "[encoded data removed]",
      "text/plain": [
       "<Figure size 640x360 with 1 Axes>"
      ]
     },
     "metadata": {
      "needs_background": "light"
     },
     "output_type": "display_data"
    }
   ],
   "source": [
    "info_participant()"
   ]
  },
  {
   "cell_type": "markdown",
   "id": "bebb4dab-85ae-4437-99ba-aeb6d29e041d",
   "metadata": {},
   "source": [
    "### Information sur la compétition"
   ]
  },
  {
   "cell_type": "markdown",
   "id": "ecc24dc2-6487-49f1-9c6c-b915d83a0947",
   "metadata": {},
   "source": [
    "Construction d'un tableau des podiums :"
   ]
  },
  {
   "cell_type": "code",
   "execution_count": 86,
   "id": "8b3abd6e-09b0-4525-8433-b9093d4c8944",
   "metadata": {},
   "outputs": [
    {
     "name": "stderr",
     "output_type": "stream",
     "text": [
      "/var/folders/jy/77k463fj5d94h9zj3_qn_glh0000gn/T/ipykernel_1483/3476567333.py:27: SettingWithCopyWarning: \n",
      "A value is trying to be set on a copy of a slice from a DataFrame\n",
      "\n",
      "See the caveats in the documentation: https://pandas.pydata.org/pandas-docs/stable/user_guide/indexing.html#returning-a-view-versus-a-copy\n",
      "  df1_catégorie[col][i]=data[['Athlète']][data['duration']==df1_catégorie[col][i]].iloc[0,0]\n",
      "/var/folders/jy/77k463fj5d94h9zj3_qn_glh0000gn/T/ipykernel_1483/3476567333.py:27: SettingWithCopyWarning: \n",
      "A value is trying to be set on a copy of a slice from a DataFrame\n",
      "\n",
      "See the caveats in the documentation: https://pandas.pydata.org/pandas-docs/stable/user_guide/indexing.html#returning-a-view-versus-a-copy\n",
      "  df1_catégorie[col][i]=data[['Athlète']][data['duration']==df1_catégorie[col][i]].iloc[0,0]\n",
      "/var/folders/jy/77k463fj5d94h9zj3_qn_glh0000gn/T/ipykernel_1483/3476567333.py:27: SettingWithCopyWarning: \n",
      "A value is trying to be set on a copy of a slice from a DataFrame\n",
      "\n",
      "See the caveats in the documentation: https://pandas.pydata.org/pandas-docs/stable/user_guide/indexing.html#returning-a-view-versus-a-copy\n",
      "  df1_catégorie[col][i]=data[['Athlète']][data['duration']==df1_catégorie[col][i]].iloc[0,0]\n",
      "/var/folders/jy/77k463fj5d94h9zj3_qn_glh0000gn/T/ipykernel_1483/3476567333.py:27: SettingWithCopyWarning: \n",
      "A value is trying to be set on a copy of a slice from a DataFrame\n",
      "\n",
      "See the caveats in the documentation: https://pandas.pydata.org/pandas-docs/stable/user_guide/indexing.html#returning-a-view-versus-a-copy\n",
      "  df1_catégorie[col][i]=data[['Athlète']][data['duration']==df1_catégorie[col][i]].iloc[0,0]\n",
      "/var/folders/jy/77k463fj5d94h9zj3_qn_glh0000gn/T/ipykernel_1483/3476567333.py:27: SettingWithCopyWarning: \n",
      "A value is trying to be set on a copy of a slice from a DataFrame\n",
      "\n",
      "See the caveats in the documentation: https://pandas.pydata.org/pandas-docs/stable/user_guide/indexing.html#returning-a-view-versus-a-copy\n",
      "  df1_catégorie[col][i]=data[['Athlète']][data['duration']==df1_catégorie[col][i]].iloc[0,0]\n",
      "/var/folders/jy/77k463fj5d94h9zj3_qn_glh0000gn/T/ipykernel_1483/3476567333.py:27: SettingWithCopyWarning: \n",
      "A value is trying to be set on a copy of a slice from a DataFrame\n",
      "\n",
      "See the caveats in the documentation: https://pandas.pydata.org/pandas-docs/stable/user_guide/indexing.html#returning-a-view-versus-a-copy\n",
      "  df1_catégorie[col][i]=data[['Athlète']][data['duration']==df1_catégorie[col][i]].iloc[0,0]\n",
      "/var/folders/jy/77k463fj5d94h9zj3_qn_glh0000gn/T/ipykernel_1483/3476567333.py:27: SettingWithCopyWarning: \n",
      "A value is trying to be set on a copy of a slice from a DataFrame\n",
      "\n",
      "See the caveats in the documentation: https://pandas.pydata.org/pandas-docs/stable/user_guide/indexing.html#returning-a-view-versus-a-copy\n",
      "  df1_catégorie[col][i]=data[['Athlète']][data['duration']==df1_catégorie[col][i]].iloc[0,0]\n",
      "/var/folders/jy/77k463fj5d94h9zj3_qn_glh0000gn/T/ipykernel_1483/3476567333.py:27: SettingWithCopyWarning: \n",
      "A value is trying to be set on a copy of a slice from a DataFrame\n",
      "\n",
      "See the caveats in the documentation: https://pandas.pydata.org/pandas-docs/stable/user_guide/indexing.html#returning-a-view-versus-a-copy\n",
      "  df1_catégorie[col][i]=data[['Athlète']][data['duration']==df1_catégorie[col][i]].iloc[0,0]\n",
      "/var/folders/jy/77k463fj5d94h9zj3_qn_glh0000gn/T/ipykernel_1483/3476567333.py:27: SettingWithCopyWarning: \n",
      "A value is trying to be set on a copy of a slice from a DataFrame\n",
      "\n",
      "See the caveats in the documentation: https://pandas.pydata.org/pandas-docs/stable/user_guide/indexing.html#returning-a-view-versus-a-copy\n",
      "  df1_catégorie[col][i]=data[['Athlète']][data['duration']==df1_catégorie[col][i]].iloc[0,0]\n",
      "/var/folders/jy/77k463fj5d94h9zj3_qn_glh0000gn/T/ipykernel_1483/3476567333.py:27: SettingWithCopyWarning: \n",
      "A value is trying to be set on a copy of a slice from a DataFrame\n",
      "\n",
      "See the caveats in the documentation: https://pandas.pydata.org/pandas-docs/stable/user_guide/indexing.html#returning-a-view-versus-a-copy\n",
      "  df1_catégorie[col][i]=data[['Athlète']][data['duration']==df1_catégorie[col][i]].iloc[0,0]\n",
      "/var/folders/jy/77k463fj5d94h9zj3_qn_glh0000gn/T/ipykernel_1483/3476567333.py:27: SettingWithCopyWarning: \n",
      "A value is trying to be set on a copy of a slice from a DataFrame\n",
      "\n",
      "See the caveats in the documentation: https://pandas.pydata.org/pandas-docs/stable/user_guide/indexing.html#returning-a-view-versus-a-copy\n",
      "  df1_catégorie[col][i]=data[['Athlète']][data['duration']==df1_catégorie[col][i]].iloc[0,0]\n",
      "/var/folders/jy/77k463fj5d94h9zj3_qn_glh0000gn/T/ipykernel_1483/3476567333.py:27: SettingWithCopyWarning: \n",
      "A value is trying to be set on a copy of a slice from a DataFrame\n",
      "\n",
      "See the caveats in the documentation: https://pandas.pydata.org/pandas-docs/stable/user_guide/indexing.html#returning-a-view-versus-a-copy\n",
      "  df1_catégorie[col][i]=data[['Athlète']][data['duration']==df1_catégorie[col][i]].iloc[0,0]\n",
      "/var/folders/jy/77k463fj5d94h9zj3_qn_glh0000gn/T/ipykernel_1483/3476567333.py:27: SettingWithCopyWarning: \n",
      "A value is trying to be set on a copy of a slice from a DataFrame\n",
      "\n",
      "See the caveats in the documentation: https://pandas.pydata.org/pandas-docs/stable/user_guide/indexing.html#returning-a-view-versus-a-copy\n",
      "  df1_catégorie[col][i]=data[['Athlète']][data['duration']==df1_catégorie[col][i]].iloc[0,0]\n",
      "/var/folders/jy/77k463fj5d94h9zj3_qn_glh0000gn/T/ipykernel_1483/3476567333.py:27: SettingWithCopyWarning: \n",
      "A value is trying to be set on a copy of a slice from a DataFrame\n",
      "\n",
      "See the caveats in the documentation: https://pandas.pydata.org/pandas-docs/stable/user_guide/indexing.html#returning-a-view-versus-a-copy\n",
      "  df1_catégorie[col][i]=data[['Athlète']][data['duration']==df1_catégorie[col][i]].iloc[0,0]\n",
      "/var/folders/jy/77k463fj5d94h9zj3_qn_glh0000gn/T/ipykernel_1483/3476567333.py:27: SettingWithCopyWarning: \n",
      "A value is trying to be set on a copy of a slice from a DataFrame\n",
      "\n",
      "See the caveats in the documentation: https://pandas.pydata.org/pandas-docs/stable/user_guide/indexing.html#returning-a-view-versus-a-copy\n",
      "  df1_catégorie[col][i]=data[['Athlète']][data['duration']==df1_catégorie[col][i]].iloc[0,0]\n",
      "/var/folders/jy/77k463fj5d94h9zj3_qn_glh0000gn/T/ipykernel_1483/3476567333.py:27: SettingWithCopyWarning: \n",
      "A value is trying to be set on a copy of a slice from a DataFrame\n",
      "\n",
      "See the caveats in the documentation: https://pandas.pydata.org/pandas-docs/stable/user_guide/indexing.html#returning-a-view-versus-a-copy\n",
      "  df1_catégorie[col][i]=data[['Athlète']][data['duration']==df1_catégorie[col][i]].iloc[0,0]\n",
      "/var/folders/jy/77k463fj5d94h9zj3_qn_glh0000gn/T/ipykernel_1483/3476567333.py:27: SettingWithCopyWarning: \n",
      "A value is trying to be set on a copy of a slice from a DataFrame\n",
      "\n",
      "See the caveats in the documentation: https://pandas.pydata.org/pandas-docs/stable/user_guide/indexing.html#returning-a-view-versus-a-copy\n",
      "  df1_catégorie[col][i]=data[['Athlète']][data['duration']==df1_catégorie[col][i]].iloc[0,0]\n",
      "/var/folders/jy/77k463fj5d94h9zj3_qn_glh0000gn/T/ipykernel_1483/3476567333.py:27: SettingWithCopyWarning: \n",
      "A value is trying to be set on a copy of a slice from a DataFrame\n",
      "\n",
      "See the caveats in the documentation: https://pandas.pydata.org/pandas-docs/stable/user_guide/indexing.html#returning-a-view-versus-a-copy\n",
      "  df1_catégorie[col][i]=data[['Athlète']][data['duration']==df1_catégorie[col][i]].iloc[0,0]\n",
      "/var/folders/jy/77k463fj5d94h9zj3_qn_glh0000gn/T/ipykernel_1483/3476567333.py:27: SettingWithCopyWarning: \n",
      "A value is trying to be set on a copy of a slice from a DataFrame\n",
      "\n",
      "See the caveats in the documentation: https://pandas.pydata.org/pandas-docs/stable/user_guide/indexing.html#returning-a-view-versus-a-copy\n",
      "  df1_catégorie[col][i]=data[['Athlète']][data['duration']==df1_catégorie[col][i]].iloc[0,0]\n",
      "/var/folders/jy/77k463fj5d94h9zj3_qn_glh0000gn/T/ipykernel_1483/3476567333.py:27: SettingWithCopyWarning: \n",
      "A value is trying to be set on a copy of a slice from a DataFrame\n",
      "\n",
      "See the caveats in the documentation: https://pandas.pydata.org/pandas-docs/stable/user_guide/indexing.html#returning-a-view-versus-a-copy\n",
      "  df1_catégorie[col][i]=data[['Athlète']][data['duration']==df1_catégorie[col][i]].iloc[0,0]\n",
      "/var/folders/jy/77k463fj5d94h9zj3_qn_glh0000gn/T/ipykernel_1483/3476567333.py:27: SettingWithCopyWarning: \n",
      "A value is trying to be set on a copy of a slice from a DataFrame\n",
      "\n",
      "See the caveats in the documentation: https://pandas.pydata.org/pandas-docs/stable/user_guide/indexing.html#returning-a-view-versus-a-copy\n",
      "  df1_catégorie[col][i]=data[['Athlète']][data['duration']==df1_catégorie[col][i]].iloc[0,0]\n",
      "/var/folders/jy/77k463fj5d94h9zj3_qn_glh0000gn/T/ipykernel_1483/3476567333.py:27: SettingWithCopyWarning: \n",
      "A value is trying to be set on a copy of a slice from a DataFrame\n",
      "\n",
      "See the caveats in the documentation: https://pandas.pydata.org/pandas-docs/stable/user_guide/indexing.html#returning-a-view-versus-a-copy\n",
      "  df1_catégorie[col][i]=data[['Athlète']][data['duration']==df1_catégorie[col][i]].iloc[0,0]\n",
      "/var/folders/jy/77k463fj5d94h9zj3_qn_glh0000gn/T/ipykernel_1483/3476567333.py:27: SettingWithCopyWarning: \n",
      "A value is trying to be set on a copy of a slice from a DataFrame\n",
      "\n",
      "See the caveats in the documentation: https://pandas.pydata.org/pandas-docs/stable/user_guide/indexing.html#returning-a-view-versus-a-copy\n",
      "  df1_catégorie[col][i]=data[['Athlète']][data['duration']==df1_catégorie[col][i]].iloc[0,0]\n",
      "/var/folders/jy/77k463fj5d94h9zj3_qn_glh0000gn/T/ipykernel_1483/3476567333.py:27: SettingWithCopyWarning: \n",
      "A value is trying to be set on a copy of a slice from a DataFrame\n",
      "\n",
      "See the caveats in the documentation: https://pandas.pydata.org/pandas-docs/stable/user_guide/indexing.html#returning-a-view-versus-a-copy\n",
      "  df1_catégorie[col][i]=data[['Athlète']][data['duration']==df1_catégorie[col][i]].iloc[0,0]\n",
      "/var/folders/jy/77k463fj5d94h9zj3_qn_glh0000gn/T/ipykernel_1483/3476567333.py:33: SettingWithCopyWarning: \n",
      "A value is trying to be set on a copy of a slice from a DataFrame.\n",
      "Try using .loc[row_indexer,col_indexer] = value instead\n",
      "\n",
      "See the caveats in the documentation: https://pandas.pydata.org/pandas-docs/stable/user_guide/indexing.html#returning-a-view-versus-a-copy\n",
      "  df1_catégorie['Podium']=['Premier','Deuxième','Troisième']\n"
     ]
    },
    {
     "data": {
      "text/html": [
       "<div>\n",
       "<style scoped>\n",
       "    .dataframe tbody tr th:only-of-type {\n",
       "        vertical-align: middle;\n",
       "    }\n",
       "\n",
       "    .dataframe tbody tr th {\n",
       "        vertical-align: top;\n",
       "    }\n",
       "\n",
       "    .dataframe thead th {\n",
       "        text-align: right;\n",
       "    }\n",
       "</style>\n",
       "<table border=\"1\" class=\"dataframe\">\n",
       "  <thead>\n",
       "    <tr style=\"text-align: right;\">\n",
       "      <th></th>\n",
       "      <th>SEM</th>\n",
       "      <th>M1M</th>\n",
       "      <th>M0M</th>\n",
       "      <th>M3M</th>\n",
       "      <th>ESM</th>\n",
       "      <th>JUM</th>\n",
       "      <th>M4M</th>\n",
       "      <th>M2M</th>\n",
       "      <th>M5M</th>\n",
       "      <th>M1F</th>\n",
       "      <th>...</th>\n",
       "      <th>M7M</th>\n",
       "      <th>JUF</th>\n",
       "      <th>M3F</th>\n",
       "      <th>M5F</th>\n",
       "      <th>CAF</th>\n",
       "      <th>M4F</th>\n",
       "      <th>M8M</th>\n",
       "      <th>M0F</th>\n",
       "      <th>M6F</th>\n",
       "      <th>M8F</th>\n",
       "    </tr>\n",
       "    <tr>\n",
       "      <th>Podium</th>\n",
       "      <th></th>\n",
       "      <th></th>\n",
       "      <th></th>\n",
       "      <th></th>\n",
       "      <th></th>\n",
       "      <th></th>\n",
       "      <th></th>\n",
       "      <th></th>\n",
       "      <th></th>\n",
       "      <th></th>\n",
       "      <th></th>\n",
       "      <th></th>\n",
       "      <th></th>\n",
       "      <th></th>\n",
       "      <th></th>\n",
       "      <th></th>\n",
       "      <th></th>\n",
       "      <th></th>\n",
       "      <th></th>\n",
       "      <th></th>\n",
       "      <th></th>\n",
       "    </tr>\n",
       "  </thead>\n",
       "  <tbody>\n",
       "    <tr>\n",
       "      <th>Premier</th>\n",
       "      <td>LORTON Guillaume</td>\n",
       "      <td>DEBROUCKER Guillaume</td>\n",
       "      <td>KEMEI Charles</td>\n",
       "      <td>BUISSON Antoine</td>\n",
       "      <td>PETRAS Guillaume</td>\n",
       "      <td>BOYER Theo</td>\n",
       "      <td>MAHAMDI Ahmed</td>\n",
       "      <td>ANGELI Stephane</td>\n",
       "      <td>CARVELLI Salvatore</td>\n",
       "      <td>LECOMTE Claire</td>\n",
       "      <td>...</td>\n",
       "      <td>ARNAL Jean</td>\n",
       "      <td>MERAT Audrey</td>\n",
       "      <td>PITAVY Lydia</td>\n",
       "      <td>CUBIZOLLES Martine</td>\n",
       "      <td>DJIGO Rosane</td>\n",
       "      <td>GOUREAU Lucie</td>\n",
       "      <td>MASTON Walter</td>\n",
       "      <td>QUENOT Marie</td>\n",
       "      <td>JULIEN Annie</td>\n",
       "      <td>REURE Michele</td>\n",
       "    </tr>\n",
       "    <tr>\n",
       "      <th>Deuxième</th>\n",
       "      <td>BETRON Adrien</td>\n",
       "      <td>SPIMOLA MARQUES</td>\n",
       "      <td>CROUE Jeremy</td>\n",
       "      <td>DEFOUS Stephane</td>\n",
       "      <td>DOUCET Thomas</td>\n",
       "      <td>TACHET Alexis</td>\n",
       "      <td>CHADEBEC Patrick</td>\n",
       "      <td>PONCHON Freddy</td>\n",
       "      <td>VASSAL Fabrice</td>\n",
       "      <td>BENIGAUD Aurelien</td>\n",
       "      <td>...</td>\n",
       "      <td>LOMBARD Joseph</td>\n",
       "      <td>GORDONS Ines</td>\n",
       "      <td>NaN</td>\n",
       "      <td>VIAL Bruno</td>\n",
       "      <td>BESSON Agathe</td>\n",
       "      <td>PROMONET Nelly</td>\n",
       "      <td>NaN</td>\n",
       "      <td>COUTO Celine</td>\n",
       "      <td>NaN</td>\n",
       "      <td>NaN</td>\n",
       "    </tr>\n",
       "    <tr>\n",
       "      <th>Troisième</th>\n",
       "      <td>MOULIN Loic</td>\n",
       "      <td>TACHET Alexis</td>\n",
       "      <td>REBOUL Samuel</td>\n",
       "      <td>GIRAUDIER Francois</td>\n",
       "      <td>PERRAUD Victor</td>\n",
       "      <td>MILLY Corentin</td>\n",
       "      <td>CHAMPALLE Thierry</td>\n",
       "      <td>SPITALIERI Patrick</td>\n",
       "      <td>BELGUERRI Nordine</td>\n",
       "      <td>THEVENON Aurelie</td>\n",
       "      <td>...</td>\n",
       "      <td>RISI Xavier</td>\n",
       "      <td>NaN</td>\n",
       "      <td>NaN</td>\n",
       "      <td>NaN</td>\n",
       "      <td>NaN</td>\n",
       "      <td>NaN</td>\n",
       "      <td>NaN</td>\n",
       "      <td>THOMAS Marie</td>\n",
       "      <td>NaN</td>\n",
       "      <td>NaN</td>\n",
       "    </tr>\n",
       "  </tbody>\n",
       "</table>\n",
       "<p>3 rows × 25 columns</p>\n",
       "</div>"
      ],
      "text/plain": [
       "                        SEM                   M1M            M0M  \\\n",
       "Podium                                                             \n",
       "Premier    LORTON Guillaume  DEBROUCKER Guillaume  KEMEI Charles   \n",
       "Deuxième      BETRON Adrien       SPIMOLA MARQUES   CROUE Jeremy   \n",
       "Troisième       MOULIN Loic         TACHET Alexis  REBOUL Samuel   \n",
       "\n",
       "                          M3M               ESM             JUM  \\\n",
       "Podium                                                            \n",
       "Premier       BUISSON Antoine  PETRAS Guillaume      BOYER Theo   \n",
       "Deuxième      DEFOUS Stephane     DOUCET Thomas   TACHET Alexis   \n",
       "Troisième  GIRAUDIER Francois    PERRAUD Victor  MILLY Corentin   \n",
       "\n",
       "                         M4M                 M2M                 M5M  \\\n",
       "Podium                                                                 \n",
       "Premier        MAHAMDI Ahmed     ANGELI Stephane  CARVELLI Salvatore   \n",
       "Deuxième    CHADEBEC Patrick      PONCHON Freddy      VASSAL Fabrice   \n",
       "Troisième  CHAMPALLE Thierry  SPITALIERI Patrick   BELGUERRI Nordine   \n",
       "\n",
       "                         M1F  ...             M7M           JUF           M3F  \\\n",
       "Podium                        ...                                               \n",
       "Premier       LECOMTE Claire  ...      ARNAL Jean  MERAT Audrey  PITAVY Lydia   \n",
       "Deuxième   BENIGAUD Aurelien  ...  LOMBARD Joseph  GORDONS Ines           NaN   \n",
       "Troisième   THEVENON Aurelie  ...     RISI Xavier           NaN           NaN   \n",
       "\n",
       "                          M5F            CAF             M4F            M8M  \\\n",
       "Podium                                                                        \n",
       "Premier    CUBIZOLLES Martine   DJIGO Rosane   GOUREAU Lucie  MASTON Walter   \n",
       "Deuxième           VIAL Bruno  BESSON Agathe  PROMONET Nelly            NaN   \n",
       "Troisième                 NaN            NaN             NaN            NaN   \n",
       "\n",
       "                    M0F           M6F            M8F  \n",
       "Podium                                                \n",
       "Premier    QUENOT Marie  JULIEN Annie  REURE Michele  \n",
       "Deuxième   COUTO Celine           NaN            NaN  \n",
       "Troisième  THOMAS Marie           NaN            NaN  \n",
       "\n",
       "[3 rows x 25 columns]"
      ]
     },
     "metadata": {},
     "output_type": "display_data"
    }
   ],
   "source": [
    "#Extraction des différentes catégories de la compétition\n",
    "\n",
    "Catégorie = data['Catégorie'].unique()\n",
    "\n",
    "# Création d'un dictionaire des temps pour chaque catégorie\n",
    "\n",
    "dict_catégorie = {}\n",
    "for x in Catégorie:\n",
    "    dict_catégorie[x] = data['duration'][data['Catégorie']==x]\n",
    "    \n",
    "#Création d'un dataframe avec les catégorie en colonnes et les temps des participants y appartenant en valeur\n",
    "    \n",
    "df_catégorie = pd.DataFrame(dict_catégorie)\n",
    "\n",
    "#Tri des temps pour les 3 premiers temps de chaque catégorie\n",
    "\n",
    "\n",
    "df1_catégorie=df_catégorie.copy()\n",
    "for col in df1_catégorie.columns:\n",
    "    for i in range(3):\n",
    "        df1_catégorie[col][i] = df_catégorie[col].nsmallest(3).iloc[i]\n",
    "        \n",
    "#Extractio des Athlètes correspondants aux 3 premier temps de chaque catégorie\n",
    "for col in df1_catégorie.columns:\n",
    "    for i in range(3):\n",
    "        try:\n",
    "            df1_catégorie[col][i]=data[['Athlète']][data['duration']==df1_catégorie[col][i]].iloc[0,0]\n",
    "        except:\n",
    "            break\n",
    "\n",
    "#Extraction des 3 premières ligne correspondant au podium\n",
    "df1_catégorie=df1_catégorie.iloc[:3,:]\n",
    "df1_catégorie['Podium']=['Premier','Deuxième','Troisième']\n",
    "df1_catégorie = df1_catégorie.set_index('Podium')\n",
    "display(df1_catégorie)"
   ]
  },
  {
   "cell_type": "markdown",
   "id": "1308d20d-8a2c-4965-be46-b322b7df0efa",
   "metadata": {},
   "source": [
    "### Pistes de recherches"
   ]
  },
  {
   "cell_type": "code",
   "execution_count": 85,
   "id": "a67ad28e-9c56-40e7-9e50-144e14ac9a15",
   "metadata": {},
   "outputs": [
    {
     "name": "stderr",
     "output_type": "stream",
     "text": [
      "/var/folders/jy/77k463fj5d94h9zj3_qn_glh0000gn/T/ipykernel_1483/209164810.py:1: FutureWarning: ['Athlète', 'Ligue', 'Performance', 'Catégorie', 'time_delta', 'time_gap', 'Nom', 'Prénom', 'h_duration'] did not aggregate successfully. If any error is raised this will raise in a future version of pandas. Drop these columns/ops to avoid this warning.\n",
      "  df1=data.groupby('Naissance').agg(['count','mean','max','min','std'])\n"
     ]
    },
    {
     "data": {
      "image/png": "[encoded data removed]",
      "text/plain": [
       "<Figure size 432x288 with 1 Axes>"
      ]
     },
     "metadata": {
      "needs_background": "light"
     },
     "output_type": "display_data"
    }
   ],
   "source": [
    "df1=data.groupby('Naissance').agg(['count','mean','max','min','std'])\n",
    "axes = plt.axes()\n",
    "axes.grid() \n",
    "plt.scatter(df1.index,df1.loc[:,df1.columns[1]])\n",
    "plt.show()"
   ]
  }
 ],
 "metadata": {
  "kernelspec": {
   "display_name": "Python 3 (ipykernel)",
   "language": "python",
   "name": "python3"
  },
  "language_info": {
   "codemirror_mode": {
    "name": "ipython",
    "version": 3
   },
   "file_extension": ".py",
   "mimetype": "text/x-python",
   "name": "python",
   "nbconvert_exporter": "python",
   "pygments_lexer": "ipython3",
   "version": "3.9.12"
  }
 },
 "nbformat": 4,
 "nbformat_minor": 5
}
