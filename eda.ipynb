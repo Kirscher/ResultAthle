{
 "cells": [
  {
   "cell_type": "markdown",
   "id": "1084cb24-4805-4c04-99a8-94a9c85f0326",
   "metadata": {},
   "source": [
    "## Etape 2 : Statistiques descriptives\n",
    "\n",
    "### Import des librairies et analyse du jeu de données\n",
    "\n",
    "Import des différentes librairies utiles à l'analyse :"
   ]
  },
  {
   "cell_type": "code",
   "execution_count": 1,
   "id": "696784c9-637a-4f29-9054-1fb860f6d49b",
   "metadata": {},
   "outputs": [],
   "source": [
    "import pandas as pd\n",
    "import numpy as np\n",
    "import matplotlib.pyplot as plt\n",
    "import math\n",
    "from datetime import datetime\n",
    "import time\n",
    "import seaborn as sns\n",
    "from sklearn.cluster import KMeans\n",
    "from sklearn import metrics\n",
    "from sklearn.linear_model import LinearRegression"
   ]
  },
  {
   "cell_type": "markdown",
   "id": "8dc51025-e6e2-40bc-82a0-27149ccde2de",
   "metadata": {},
   "source": [
    "Il est nécessaire d'installer et d'importer \"importnb\" pour avoir accès aux fonctionns définies dans \"algoStatCourse\" :"
   ]
  },
  {
   "cell_type": "code",
   "execution_count": 2,
   "id": "ec28ec85-e385-4d1e-a767-ef3b7c1f065a",
   "metadata": {},
   "outputs": [],
   "source": [
    "#pip install importnb"
   ]
  },
  {
   "cell_type": "code",
   "execution_count": 3,
   "id": "468343d2",
   "metadata": {},
   "outputs": [],
   "source": [
    "from importnb import Notebook\n",
    "with Notebook():\n",
    "    import algoStatCourse"
   ]
  },
  {
   "cell_type": "markdown",
   "id": "b54c390d-7281-4549-9622-a2442cf1bde0",
   "metadata": {},
   "source": [
    "Il faut ensuite importer un jeu de donnée. On prend le jeu de données correspondant aux 10 kilomètres de Riorges comme exemple pour l'analyse:"
   ]
  },
  {
   "cell_type": "code",
   "execution_count": 4,
   "id": "18aeb977-4fec-417e-85a3-8771d3739a92",
   "metadata": {},
   "outputs": [],
   "source": [
    "data=pd.read_csv(\"10_km_Riorges.csv\")"
   ]
  },
  {
   "cell_type": "markdown",
   "id": "6bf92182-59bd-4c12-b1e9-53cd4c15f5fa",
   "metadata": {},
   "source": [
    "Comme chaque jeu de données extrait, nous avons à notre disponibilité le nom et prénom de chaque athlète, leur performance, leur années de naissance, la catégorie à laquelle ils appartiennent, leur temps, ainsi que leur écart de temps avec le premier."
   ]
  },
  {
   "cell_type": "code",
   "execution_count": 5,
   "id": "1932f8ca-22c6-4b0a-b54f-b617a06be95e",
   "metadata": {},
   "outputs": [
    {
     "data": {
      "text/plain": [
       "Athlète        MOISSONNIER Vincent\n",
       "Ligue                            0\n",
       "Performance                     D6\n",
       "Naissance                     1972\n",
       "Catégorie                      M3M\n",
       "time_delta         0 days 00:45:51\n",
       "time_gap           0 days 00:14:53\n",
       "duration                    2751.0\n",
       "Nom                    MOISSONNIER\n",
       "Prénom                     Vincent\n",
       "Name: 120, dtype: object"
      ]
     },
     "execution_count": 5,
     "metadata": {},
     "output_type": "execute_result"
    }
   ],
   "source": [
    "data.iloc[120,:]"
   ]
  },
  {
   "cell_type": "markdown",
   "id": "11d41117-755e-4484-a572-9e923327d749",
   "metadata": {},
   "source": [
    "On ajoute la variable 'h_duration' qui permet d'obtenir le temps d'arrivée dans le format heures, minutes, secondes, afin d'avoir une variable explicite pour la visualisation."
   ]
  },
  {
   "cell_type": "code",
   "execution_count": 6,
   "id": "6c400230-46ad-4d9d-876d-3279213d0441",
   "metadata": {},
   "outputs": [],
   "source": [
    "data['h_duration'] = data['duration'].apply(lambda x : pd.to_datetime(x,unit=\"s\").strftime('%H:%M:%S'))"
   ]
  },
  {
   "cell_type": "markdown",
   "id": "a9020f8e-d3c8-426f-9c8f-b1b13451f945",
   "metadata": {},
   "source": [
    "Nous analysons maintenant les statistiques descriptives du temps d'arrivée afin de connaitre rapidement la forme des données, et la présence de possible valeurs abérantes, pour guider la construction des visualisations utile à l'athlète. Dans ce jeu de données, nous n'avons à première vue pas de potentiels valeurs abbérantes étant données que les temps sont environ réparti entre 30 et 70 mn, temps normaux pour une course de 10 km."
   ]
  },
  {
   "cell_type": "code",
   "execution_count": 7,
   "id": "81515285-143b-4470-b72e-1471ac77efa8",
   "metadata": {},
   "outputs": [
    {
     "data": {
      "text/plain": [
       "count    250.000000\n",
       "mean      46.830600\n",
       "std        8.432333\n",
       "min       30.966667\n",
       "25%       39.666667\n",
       "50%       46.158333\n",
       "75%       52.758333\n",
       "max       70.750000\n",
       "Name: duration, dtype: float64"
      ]
     },
     "execution_count": 7,
     "metadata": {},
     "output_type": "execute_result"
    }
   ],
   "source": [
    "(data['duration']/60).describe()"
   ]
  },
  {
   "cell_type": "markdown",
   "id": "619646a9-15b9-4590-99db-a22dcc208889",
   "metadata": {},
   "source": [
    "### Construction des visualisations et données utiles à l'athlète"
   ]
  },
  {
   "cell_type": "markdown",
   "id": "70f297c1-44e5-42c3-b904-d021b5dd228e",
   "metadata": {},
   "source": [
    "On utilise maintenant algoStatCourse pour construire un graphique rendant compte de la position de l'athlète dans la densité des temps d'arrivée."
   ]
  },
  {
   "cell_type": "code",
   "execution_count": 8,
   "id": "9c08ffd6-6851-49b3-835c-e00ed4a7ab5e",
   "metadata": {},
   "outputs": [],
   "source": [
    "# densite=algoStatCourse.dens(data['duration'], bins = 12) #Calcul de la densité de la variable 'duration'\n",
    "# fcubic=algoStatCourse.lissage(densite, sep = True) #Retourne la fonction d'interpolation cubique\n",
    "# flin=algoStatCourse.lissage(densite, sep = False, kind = 'linear') #Retourne la fonction d'interpolation linéaire"
   ]
  },
  {
   "cell_type": "markdown",
   "id": "a00ff0d9-f64d-4d17-803c-896b93c3a2d3",
   "metadata": {},
   "source": [
    "On définit une fonction qui permet d'appliquer une indicatrice afin de retourner la partie de la fonction qui nous intéresse. Cela sera utile pour mettre en avant les athlètes plus rapides qu'un athlète donné dans la distribution des temps."
   ]
  },
  {
   "cell_type": "code",
   "execution_count": 9,
   "id": "b1cdf12e-7a69-4573-81c7-b8a611d01c52",
   "metadata": {},
   "outputs": [],
   "source": [
    "def truncf (f,xmin, xmax):\n",
    "    def f2 (x):\n",
    "        if (x>=xmin)*(x<=xmax):\n",
    "            return f(x)\n",
    "        return np.nan\n",
    "    \n",
    "    return np.vectorize(f2)"
   ]
  },
  {
   "cell_type": "markdown",
   "id": "3c6dab8c-1849-456c-8bcd-b74e3707c542",
   "metadata": {},
   "source": [
    "Il est maintenant possible de définir une fonction pour visualiser la position individuelle de l'athlète dans la densité de temps de la compétition."
   ]
  },
  {
   "cell_type": "code",
   "execution_count": 14,
   "id": "06b8a285",
   "metadata": {},
   "outputs": [],
   "source": [
    "def graphePerso(prenom, nom, data):\n",
    "    #print(data ['duration'])\n",
    "    densite=algoStatCourse.dens(data['duration'], bins = algoStatCourse.idealBins(len(data['duration']))) #Calcul de la densité de la variable 'duration'\n",
    "    #print(densite)\n",
    "    #print(data['duration'].min(),data['duration'].max())\n",
    "    fcubic=algoStatCourse.lissage(densite, sep = True,beginend = (data['duration'].min(),data['duration'].max())) #Retourne la fonction d'interpolation cubique\n",
    "    flin=algoStatCourse.lissage(densite, sep = False, kind = 'linear', beginend = (data['duration'].min(),data['duration'].max())) #Retourne la fonction d'interpolation linéaire\n",
    "    \n",
    "    z=data.index[data.Athlète==(nom.upper()+\" \"+prenom.capitalize())] #numéro de l'index du participant\n",
    "    \n",
    "    temps = data.loc[z[0],'duration'] #temps du participant\n",
    "    \n",
    "    x= np.linspace(data['duration'].min(),data['duration'].max(), int(1e5)) #x permet d'obtenir un tracé continu\n",
    "\n",
    "    tempsAxe = np.linspace(densite[0,0],densite[0,-1],6) #définition de l'axe des abscisses en secondes avec 6 points\n",
    "    labelTempsAxe = pd.Series(tempsAxe).apply(lambda x : pd.to_datetime(x,unit=\"s\").strftime('%H:%M:%S')) #Définition de la forme que prendra le temps sur l'axe des abcisses (format heures/minutes/secondes pour plus de lisibilité)\n",
    "\n",
    "    plt.figure(figsize=(8,4.5), dpi=80) #format de la figure, (dpi pour la résolution)\n",
    "    plt.fill_between(x, fcubic(x), alpha = 0.3) #fonction pour colorier l'aire sous la courbe\n",
    "    plt.plot(x, fcubic(x), color = 'blue', label = 'densité lissée & interpolée')\n",
    "\n",
    "    #plt.plot(x,flin(x), linestyle ='--', color = 'black', label = \"densité réelle\") #possibilité de dessiner l'interpolation linéaire au lieu de l'interpolation cubique\n",
    "\n",
    "    plt.axvline(temps, color='r',alpha=0.3) #ligne verticale pour indiquer la position du participant sur les abscisses\n",
    "\n",
    "    f2=truncf(fcubic,data['duration'].min(), temps) #on tronque fcubic pour ne retenir que la partie de la fonction des temps meilleurs à celui de l'individu\n",
    "    plt.fill_between(x,f2(x), alpha = 0.6, color = 'red') #on affiche l'aire des temps meilleurs à celui de l'individu en rouge\n",
    "\n",
    "    #plt.axvspan(temps, densite[0,0], color='r', alpha=0.3)\n",
    "    plt.legend() #permet d'afficher les legendes qu'on a mises dans les arguments 'label' des fonctions juste au dessus\n",
    "\n",
    "    # Ajout des labels et titre\n",
    "    plt.title(\"Densité des temps d'arrivée\", color= 'tab:red', fontsize = '20', fontstyle = 'oblique') # titre\n",
    "    plt.xlabel(\"Durée pour franchir la ligne d'arrivée\", fontstyle = 'italic', labelpad=5) #label abscisse\n",
    "    plt.ylabel(\"Densité des athlètes\", fontstyle = 'italic', labelpad=20) #label ordonnée\n",
    "    #plt.xticks(tempsAxe,labels = labelTempsAxe) #permet de choisir ce qu'on met sur l'axe des x : les coordonnees dans le premier argument, ce qu'il faut afficher dans le second.\n",
    "    plt.ylim((-0.1*max(densite[1]),1.1*max(densite[1]))) #permet de choisir l'espace au dessus et au dessous du graphe\n",
    "    plt.text(data.loc[z[0],'duration'],0.0001,data.loc[z[0],'Prénom'] ) # ajoute un texte directement sur le graphe\n",
    "    plt.show()\n",
    "    return"
   ]
  },
  {
   "cell_type": "code",
   "execution_count": 11,
   "id": "050e4bcf-60c4-4116-8632-4a9026eb1698",
   "metadata": {},
   "outputs": [
    {
     "name": "stdout",
     "output_type": "stream",
     "text": [
      "0      1858.0\n",
      "1      1890.0\n",
      "2      1921.0\n",
      "3      1935.0\n",
      "4      1960.0\n",
      "        ...  \n",
      "245    3958.0\n",
      "246    3997.0\n",
      "247    4038.0\n",
      "248    4040.0\n",
      "249    4245.0\n",
      "Name: duration, Length: 250, dtype: float64\n",
      "[[1.95745833e+03 2.15637500e+03 2.35529167e+03 2.55420833e+03\n",
      "  2.75312500e+03 2.95204167e+03 3.15095833e+03 3.34987500e+03\n",
      "  3.54879167e+03 3.74770833e+03 3.94662500e+03 4.14554167e+03]\n",
      " [1.60871387e-04 6.03267700e-04 7.03812317e-04 7.44030163e-04\n",
      "  6.43485547e-04 5.02723083e-04 5.22832007e-04 5.42940930e-04\n",
      "  4.22287390e-04 4.02178467e-05 1.20653540e-04 2.01089233e-05]]\n",
      "1858.0 4245.0\n"
     ]
    },
    {
     "data": {
      "image/png": "[encoded data removed]",
      "text/plain": [
       "<Figure size 640x360 with 1 Axes>"
      ]
     },
     "metadata": {
      "needs_background": "light"
     },
     "output_type": "display_data"
    }
   ],
   "source": [
    "graphePerso(\"vincent\",\"moissonnier\", data=data)"
   ]
  },
  {
   "cell_type": "markdown",
   "id": "82b1533b-8dff-41ea-90ce-1572c5ba4c55",
   "metadata": {},
   "source": [
    "Test de la fonction graph perso en se restreignant à la catégorie de l'athlète : "
   ]
  },
  {
   "cell_type": "code",
   "execution_count": 12,
   "id": "c40adf68",
   "metadata": {},
   "outputs": [],
   "source": [
    "def graphePerso2 (prenom, nom,data=data):\n",
    "    z=data.index[data.Athlète==(nom.upper()+\" \"+prenom.capitalize())]\n",
    "    data2=data[data['Catégorie']==data.loc[z[0],'Catégorie']]\n",
    "    data2.head()\n",
    "    graphePerso(prenom, nom, data=data2)\n",
    "\n",
    "               \n",
    "    return\n"
   ]
  },
  {
   "cell_type": "code",
   "execution_count": 13,
   "id": "67bb7f28-3cde-4c35-85be-b4dc73ef290b",
   "metadata": {},
   "outputs": [
    {
     "name": "stdout",
     "output_type": "stream",
     "text": [
      "8      2094.0\n",
      "31     2218.0\n",
      "35     2242.0\n",
      "36     2247.0\n",
      "43     2274.0\n",
      "45     2280.0\n",
      "47     2290.0\n",
      "60     2357.0\n",
      "104    2621.0\n",
      "113    2696.0\n",
      "120    2751.0\n",
      "142    2856.0\n",
      "144    2885.0\n",
      "146    2911.0\n",
      "158    2978.0\n",
      "178    3118.0\n",
      "235    3603.0\n",
      "Name: duration, dtype: float64\n",
      "[[2.16945000e+03 2.32035000e+03 2.47125000e+03 2.62215000e+03\n",
      "  2.77305000e+03 2.92395000e+03 3.07485000e+03 3.22575000e+03\n",
      "  3.37665000e+03 3.52755000e+03]\n",
      " [1.16945387e-03 1.94908978e-03 0.00000000e+00 7.79635910e-04\n",
      "  3.89817955e-04 1.55927182e-03 3.89817955e-04 0.00000000e+00\n",
      "  0.00000000e+00 3.89817955e-04]]\n",
      "2094.0 3603.0\n"
     ]
    },
    {
     "data": {
      "image/png": "[encoded data removed]",
      "text/plain": [
       "<Figure size 640x360 with 1 Axes>"
      ]
     },
     "metadata": {
      "needs_background": "light"
     },
     "output_type": "display_data"
    }
   ],
   "source": [
    "graphePerso2(\"vincent\",\"moissonnier\", data=data)"
   ]
  },
  {
   "cell_type": "code",
   "execution_count": null,
   "id": "62d99769",
   "metadata": {},
   "outputs": [],
   "source": [
    "prenom, nom = (\"guillaume\",\"lorton\")\n",
    "z=data.index[data.Athlète==(nom.upper()+\" \"+prenom.capitalize())] #numéro de l'index du participant\n",
    "data2=data[data['Catégorie']==data.loc[z[0],'Catégorie']]\n",
    "densite=algoStatCourse.dens(data2['duration'], bins = algoStatCourse.idealBins(len(data2['duration']))+4)\n",
    "fcubic=algoStatCourse.lissage(densite, sep = True,beginend = (data['duration'].min(),data['duration'].max()))\n"
   ]
  },
  {
   "cell_type": "code",
   "execution_count": null,
   "id": "a4d82051-65b3-4d52-8f20-9334cb871731",
   "metadata": {},
   "outputs": [],
   "source": [
    "def graphePerso1(prenom, nom):\n",
    "    \n",
    "    z=data.index[data.Athlète==(nom.upper()+\" \"+prenom.capitalize())] #numéro de l'index du participant\n",
    "    \n",
    "    densite=algoStatCourse.dens(data['duration'][data['Catégorie']==data.loc[z[0],'Catégorie']], bins = algoStatCourse.idealBins(len(data['duration'][data['Catégorie']==data.loc[z[0],'Catégorie']]))) #Calcul de la densité de la variable 'duration'\n",
    "    print(f'densite{densite}')\n",
    "    print(f'length : {data['Catégorie']==data.loc[z[0],'Catégorie']}')\n",
    "    fcubic=algoStatCourse.lissage(densite, sep = True) #Retourne la fonction d'interpolation cubique\n",
    "    flin=algoStatCourse.lissage(densite, sep = False, kind = 'linear', beginend = (data['duration'][data['Catégorie']==data.loc[z[0],'Catégorie']].min(),data['duration'][data['Catégorie']==data.loc[z[0],'Catégorie']].max())) #Retourne la fonction d'interpolation linéaire\n",
    "    \n",
    "    temps = data.loc[z[0],'duration'] #temps du participant\n",
    "\n",
    "    x= np.linspace(data['duration'][data['Catégorie']==data.loc[z[0],'Catégorie']].min(),data['duration'][data['Catégorie']==data.loc[z[0],'Catégorie']].max(), int(1e5)) #x permet d'obtenir un tracé continu\n",
    "\n",
    "    tempsAxe = np.linspace(data['duration'][data['Catégorie']==data.loc[z[0],'Catégorie']].min(),data['duration'][data['Catégorie']==data.loc[z[0],'Catégorie']].max(),6) #définition de l'axe des abscisses en secondes avec 6 points\n",
    "    labelTempsAxe = pd.Series(tempsAxe).apply(lambda x : pd.to_datetime(x,unit=\"s\").strftime('%H:%M:%S')) #Définition de la forme que prendra le temps sur l'axe des abcisses (format heures/minutes/secondes pour plus de lisibilité)\n",
    "\n",
    "    plt.figure(figsize=(8,4.5), dpi=80) #format de la figure, (dpi pour la résolution)\n",
    "    plt.fill_between(x, fcubic(x), alpha = 0.3) #fonction pour colorier l'aire sous la courbe\n",
    "    plt.plot(x, fcubic(x), color = 'blue', label = 'densité lissée & interpolée')\n",
    "\n",
    "    #plt.plot(x,flin(x), linestyle ='--', color = 'black', label = \"densité réelle\") #possibilité de dessiner l'interpolation linéaire au lieu de l'interpolation cubique\n",
    "\n",
    "    plt.axvline(temps, color='r',alpha=0.3) #ligne verticale pour indiquer la position du participant sur les abscisses\n",
    "\n",
    "    f2=truncf(fcubic, data['duration'].min(), temps) #on tronque fcubic pour ne retenir que la partie de la fonction des temps meilleurs à celui de l'individu\n",
    "    plt.fill_between(x,f2(x), alpha = 0.6, color = 'red') #on affiche l'aire des temps meilleurs à celui de l'individu en rouge\n",
    "\n",
    "    #plt.axvspan(temps, densite[0,0], color='r', alpha=0.3)\n",
    "    plt.legend() #permet d'afficher les legendes qu'on a mises dans les arguments 'label' des fonctions juste au dessus\n",
    "\n",
    "    # Ajout des labels et titre\n",
    "    plt.title(\"Densité des temps d'arrivée dans votre catégorie\", color= 'tab:red', fontsize = '20', fontstyle = 'oblique') # titre\n",
    "    plt.xlabel(\"Durée pour franchir la ligne d'arrivée\", fontstyle = 'italic', labelpad=5) #label abscisse\n",
    "    plt.ylabel(\"Densité des athlètes\", fontstyle = 'italic', labelpad=20) #label ordonnée\n",
    "    #plt.xticks(tempsAxe,labels = labelTempsAxe) #permet de choisir ce qu'on met sur l'axe des x : les coordonnees dans le premier argument, ce qu'il faut afficher dans le second.\n",
    "    plt.ylim((-0.1*max(densite[1]),1.1*max(densite[1]))) #permet de choisir l'espace au dessus et au dessous du graphe\n",
    "    plt.text(data.loc[z[0],'duration'],0,data.loc[z[0],'Prénom'] ) # ajoute un texte directement sur le graphe\n",
    "    plt.show()"
   ]
  },
  {
   "cell_type": "markdown",
   "id": "0ab4726d-9285-44e0-a662-78d32360dd47",
   "metadata": {},
   "source": [
    "### Construction et application de l'output des statistiques et visuels individuels\n",
    "\n",
    "On construit d'abord deux fonctions qui permettront de demander à l'utilisateur son nom et prénom."
   ]
  },
  {
   "cell_type": "code",
   "execution_count": null,
   "id": "7bc42801-359b-4f5c-8f2b-44ac0cd26666",
   "metadata": {},
   "outputs": [],
   "source": [
    "def Prenom():\n",
    "  user_input = input(\"Veuillez entrer votre prénom\")\n",
    "  return user_input\n",
    "\n",
    "def Nom():\n",
    "  user_input = input(\"Veuillez entrer votre nom\")\n",
    "  return user_input"
   ]
  },
  {
   "cell_type": "markdown",
   "id": "e5bc0370-70a7-4c0d-8623-06c23bf4daae",
   "metadata": {},
   "source": [
    "Ici, on définit une fonction permettant de donner directement les premières informations utile, à partir du nom et prénom, de la performance individuelle relativement à la performance globale de la compétition."
   ]
  },
  {
   "cell_type": "code",
   "execution_count": null,
   "id": "de35a8b8",
   "metadata": {},
   "outputs": [],
   "source": [
    "def info_participant():\n",
    "    x=Prenom()\n",
    "    y=Nom()\n",
    "    if ~data['Athlète'].isin([(y.upper()+\" \"+x.capitalize())]).any():\n",
    "        print(\"Le nom que vous avez entré n'est pas dans la liste des participants de la course choisie.\")\n",
    "    else:\n",
    "        z=data.index[data.Athlète==(y.upper()+\" \"+x.capitalize())]\n",
    "        print(\"Temps d'arrivé :\", data.loc[z[0],'h_duration'])\n",
    "        print(\"Position d'arrivée : \", data.index[z[0]]+1)\n",
    "        print(\"Niveau de la performance\", data.loc[z[0],'Performance'])\n",
    "        print(\"Temps d'arrivé dans le top :\", math.ceil(((data.duration<=data.loc[z[0],'duration']).sum())/len(data)*100),\"%\")\n",
    "        print(\"Position parmis les\", len(data[data['Catégorie']==data.loc[z[0],'Catégorie']]),\"participants de la catégorie\", data.loc[z[0],'Catégorie'], \":\",round(data[data['Catégorie']==data.loc[z[0],'Catégorie']]['duration'].rank().loc[z[0]]))\n",
    "        print(\"Position parmis les\", len((data[abs(data.loc[:,'Naissance']-data.loc[z[0],'Naissance'])<=5])), \"participants ayant plus ou moins 5 ans de différence d'âge avec vous : \", round(((data[abs(data.loc[:,'Naissance']-data.loc[z[0],'Naissance'])<=5])['duration'].rank()).loc[z[0]]))\n",
    "        graphePerso(x,y)"
   ]
  },
  {
   "cell_type": "markdown",
   "id": "4a538c1a-7fab-41d6-833f-0730fff15750",
   "metadata": {},
   "source": [
    "Exemple d'utilisation:"
   ]
  },
  {
   "cell_type": "code",
   "execution_count": null,
   "id": "51109e76-77d7-47e0-9f97-b84d3fe0df99",
   "metadata": {},
   "outputs": [],
   "source": [
    "info_participant()"
   ]
  },
  {
   "cell_type": "markdown",
   "id": "bebb4dab-85ae-4437-99ba-aeb6d29e041d",
   "metadata": {},
   "source": [
    "### Information sur la compétition"
   ]
  },
  {
   "cell_type": "markdown",
   "id": "ecc24dc2-6487-49f1-9c6c-b915d83a0947",
   "metadata": {},
   "source": [
    "Construction d'un tableau des podiums :"
   ]
  },
  {
   "cell_type": "code",
   "execution_count": null,
   "id": "8b3abd6e-09b0-4525-8433-b9093d4c8944",
   "metadata": {},
   "outputs": [],
   "source": [
    "#Extraction des différentes catégories de la compétition\n",
    "\n",
    "Catégorie = data['Catégorie'].unique()\n",
    "\n",
    "# Création d'un dictionaire des temps pour chaque catégorie\n",
    "\n",
    "dict_catégorie = {}\n",
    "for x in Catégorie:\n",
    "    dict_catégorie[x] = data['duration'][data['Catégorie']==x]\n",
    "    \n",
    "#Création d'un dataframe avec les catégorie en colonnes et les temps des participants y appartenant en valeur\n",
    "    \n",
    "df_catégorie = pd.DataFrame(dict_catégorie)\n",
    "\n",
    "#Tri des temps pour les 3 premiers temps de chaque catégorie\n",
    "\n",
    "\n",
    "df1_catégorie=df_catégorie.copy()\n",
    "for col in df1_catégorie.columns:\n",
    "    for i in range(3):\n",
    "        df1_catégorie[col][i] = df_catégorie[col].nsmallest(3).iloc[i]\n",
    "        \n",
    "#Extractio des Athlètes correspondants aux 3 premier temps de chaque catégorie\n",
    "for col in df1_catégorie.columns:\n",
    "    for i in range(3):\n",
    "        try:\n",
    "            df1_catégorie[col][i]=data[['Athlète']][data['duration']==df1_catégorie[col][i]].iloc[0,0]\n",
    "        except:\n",
    "            break\n",
    "\n",
    "#Extraction des 3 premières ligne correspondant au podium\n",
    "df1_catégorie=df1_catégorie.iloc[:3,:]\n",
    "df1_catégorie['Podium']=['Premier','Deuxième','Troisième']\n",
    "df1_catégorie = df1_catégorie.set_index('Podium')\n",
    "display(df1_catégorie)"
   ]
  },
  {
   "cell_type": "markdown",
   "id": "1308d20d-8a2c-4965-be46-b322b7df0efa",
   "metadata": {
    "tags": []
   },
   "source": [
    "### Pistes de recherches"
   ]
  },
  {
   "cell_type": "code",
   "execution_count": null,
   "id": "99c6b90d-31ff-46df-8040-f7907344da78",
   "metadata": {},
   "outputs": [],
   "source": [
    "df1=data.groupby('Naissance').mean().reset_index()\n",
    "df1"
   ]
  },
  {
   "cell_type": "code",
   "execution_count": null,
   "id": "cba9fb57-23cd-4ab9-9bae-c5e950ed283d",
   "metadata": {},
   "outputs": [],
   "source": [
    "x=data['duration'].to_numpy()\n",
    "y=data['Naissance'].to_numpy()\n",
    "plt.scatter(x,y)"
   ]
  },
  {
   "cell_type": "markdown",
   "id": "79c7bcd0-37c6-469d-abcc-bb083208b73f",
   "metadata": {},
   "source": [
    "On peut utiliser l'indice de silhouette pour évaluer la qualité des clusters. Cet indice mesure la distance entre les points d'un cluster et la moyenne de tous les autres clusters, ce qui vous permet de déterminer si les points d'un cluster sont bien regroupés ou s'ils sont dispersés. Plus l'indice de silhouette est élevé, mieux c'est.\n",
    "\n",
    "Avec cet indice, on peut trouver le nombre de clusters qui donne les meilleures performances en termes de qualité des clusters."
   ]
  },
  {
   "cell_type": "code",
   "execution_count": null,
   "id": "e7f19245-ae50-40cf-b81e-9b0028a8fee0",
   "metadata": {},
   "outputs": [],
   "source": [
    "# Nombre de cluster à tester :\n",
    "num_clusters = [2, 3, 4, 5, 6]\n",
    "\n",
    "# Méthode KMeans en spécifiant différents nombres de clusters\n",
    "for n in num_clusters:\n",
    "    kmeans = KMeans(n_clusters=n)\n",
    "    kmeans.fit(data_set)\n",
    "    \n",
    "    # Utilisation de l'indice de silhouette pour évaluer la qualité des clusters\n",
    "    silhouette_avg = metrics.silhouette_score(data_set, kmeans.labels_)\n",
    "    print(\"Pour n_clusters =\", n, \"Le score de silhouette moyen est :\", silhouette_avg)"
   ]
  },
  {
   "cell_type": "code",
   "execution_count": null,
   "id": "62e4eae6-d10d-4777-9ab6-b0cc4078943a",
   "metadata": {},
   "outputs": [],
   "source": [
    "data_set=np.dstack((x,y))[0]\n",
    "model = KMeans(2).fit(data_set)"
   ]
  },
  {
   "cell_type": "code",
   "execution_count": null,
   "id": "3256381d-ce08-4293-85d2-d335c667c555",
   "metadata": {},
   "outputs": [],
   "source": [
    "for point in data_set:\n",
    "    if model.predict(point.reshape(1,-1)) == [0]:\n",
    "        plt.scatter(point[0], point[1], c='b')\n",
    "    elif model.predict(point.reshape(1,-1)) == [1]:\n",
    "        plt.scatter(point[0], point[1], c='g')\n",
    "\n",
    "     \n",
    "for center in model.cluster_centers_:\n",
    "    plt.scatter(center[0],center[1])\n",
    "\n",
    "plt.show()"
   ]
  },
  {
   "cell_type": "code",
   "execution_count": null,
   "id": "68ab3b52-f4bb-47cf-bba5-c6fdaa23f64e",
   "metadata": {},
   "outputs": [],
   "source": [
    "data_set=np.dstack((x,y))[0]\n",
    "model = KMeans(5).fit(data_set)"
   ]
  },
  {
   "cell_type": "code",
   "execution_count": null,
   "id": "512438ab-5602-422a-8bb7-d33c5a6b77a6",
   "metadata": {},
   "outputs": [],
   "source": [
    "for point in data_set:\n",
    "    if model.predict(point.reshape(1,-1)) == [0]:\n",
    "        plt.scatter(point[0], point[1], c='b')\n",
    "    elif model.predict(point.reshape(1,-1)) == [1]:\n",
    "        plt.scatter(point[0], point[1], c='g')\n",
    "    elif model.predict(point.reshape(1,-1)) == [2]:\n",
    "        plt.scatter(point[0], point[1], c='r')\n",
    "    elif model.predict(point.reshape(1,-1)) == [3]:\n",
    "        plt.scatter(point[0], point[1], c='y')\n",
    "    elif model.predict(point.reshape(1,-1)) == [4]:\n",
    "        plt.scatter(point[0], point[1], c='orange')\n",
    "     \n",
    "for center in model.cluster_centers_:\n",
    "    plt.scatter(center[0],center[1])\n",
    "\n",
    "plt.show()"
   ]
  },
  {
   "cell_type": "markdown",
   "id": "8f31787f-c3f7-4554-bfd3-5f67eaeb1fd7",
   "metadata": {},
   "source": [
    "A travers cette analyse de cluster on ne retrouve pas de différence notable d'âge entre cluster visuellement.model. On peut voir les centroïde de chaque cluster (affiché dans une couleur différente de celle du cluster). Ceux-ci sont tous entre 1980, et 1984."
   ]
  },
  {
   "cell_type": "code",
   "execution_count": null,
   "id": "444852a0-4f3b-4073-8e1c-2ce2f5464d54",
   "metadata": {},
   "outputs": [],
   "source": [
    "print(model.cluster_centers_)"
   ]
  },
  {
   "cell_type": "markdown",
   "id": "429d676f-c490-4545-869b-f8385efa1610",
   "metadata": {},
   "source": [
    "Testons si une régression linéaire prédit un effet de l'âge sur le résultat."
   ]
  },
  {
   "cell_type": "code",
   "execution_count": null,
   "id": "5c39a166-6b41-49b4-b3cb-0776ae0e9d20",
   "metadata": {},
   "outputs": [],
   "source": [
    "regressor = LinearRegression()\n",
    "\n",
    "# Entraînez le modèle en appelant la méthode fit\n",
    "regressor.fit(x, y)\n"
   ]
  },
  {
   "cell_type": "code",
   "execution_count": null,
   "id": "34c6310a-5120-48bb-817c-168f9431d43f",
   "metadata": {},
   "outputs": [],
   "source": [
    "# Effectuez une prédiction en appelant la méthode predict\n",
    "y_pred = regressor.predict(x)"
   ]
  }
 ],
 "metadata": {
  "kernelspec": {
   "display_name": "Python 3 (ipykernel)",
   "language": "python",
   "name": "python3"
  },
  "language_info": {
   "codemirror_mode": {
    "name": "ipython",
    "version": 3
   },
   "file_extension": ".py",
   "mimetype": "text/x-python",
   "name": "python",
   "nbconvert_exporter": "python",
   "pygments_lexer": "ipython3",
   "version": "3.9.7"
  }
 },
 "nbformat": 4,
 "nbformat_minor": 5
}
