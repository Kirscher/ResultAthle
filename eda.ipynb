{
 "cells": [
  {
   "cell_type": "markdown",
   "id": "c6d85284-9a7e-4803-96f4-5366ea30cebb",
   "metadata": {},
   "source": [
    "## Etape 2 : Statistiques descriptives"
   ]
  },
  {
   "cell_type": "code",
   "execution_count": 1,
   "id": "696784c9-637a-4f29-9054-1fb860f6d49b",
   "metadata": {},
   "outputs": [],
   "source": [
    "import pandas as pd\n",
    "import matplotlib.pyplot as plt\n",
    "import seaborn as sns"
   ]
  },
  {
   "cell_type": "code",
   "execution_count": 2,
   "id": "18aeb977-4fec-417e-85a3-8771d3739a92",
   "metadata": {},
   "outputs": [],
   "source": [
    "data=pd.read_csv(\"output_253657.csv\")"
   ]
  },
  {
   "cell_type": "code",
   "execution_count": 3,
   "id": "1932f8ca-22c6-4b0a-b54f-b617a06be95e",
   "metadata": {},
   "outputs": [
    {
     "data": {
      "text/html": [
       "<div>\n",
       "<style scoped>\n",
       "    .dataframe tbody tr th:only-of-type {\n",
       "        vertical-align: middle;\n",
       "    }\n",
       "\n",
       "    .dataframe tbody tr th {\n",
       "        vertical-align: top;\n",
       "    }\n",
       "\n",
       "    .dataframe thead th {\n",
       "        text-align: right;\n",
       "    }\n",
       "</style>\n",
       "<table border=\"1\" class=\"dataframe\">\n",
       "  <thead>\n",
       "    <tr style=\"text-align: right;\">\n",
       "      <th></th>\n",
       "      <th>Athlète</th>\n",
       "      <th>Ligue</th>\n",
       "      <th>Performance</th>\n",
       "      <th>Naissance</th>\n",
       "      <th>Catégorie</th>\n",
       "      <th>time_delta</th>\n",
       "      <th>time_gap</th>\n",
       "      <th>duration</th>\n",
       "      <th>Nom</th>\n",
       "      <th>Prénom</th>\n",
       "    </tr>\n",
       "  </thead>\n",
       "  <tbody>\n",
       "    <tr>\n",
       "      <th>0</th>\n",
       "      <td>LORTON Guillaume</td>\n",
       "      <td>ARA</td>\n",
       "      <td>N4</td>\n",
       "      <td>1989</td>\n",
       "      <td>SEM</td>\n",
       "      <td>0 days 00:30:58</td>\n",
       "      <td>0 days 00:00:00</td>\n",
       "      <td>1858.0</td>\n",
       "      <td>LORTON</td>\n",
       "      <td>Guillaume</td>\n",
       "    </tr>\n",
       "    <tr>\n",
       "      <th>1</th>\n",
       "      <td>BETRON Adrien</td>\n",
       "      <td>ARA</td>\n",
       "      <td>IR1</td>\n",
       "      <td>1989</td>\n",
       "      <td>SEM</td>\n",
       "      <td>0 days 00:31:30</td>\n",
       "      <td>0 days 00:00:32</td>\n",
       "      <td>1890.0</td>\n",
       "      <td>BETRON</td>\n",
       "      <td>Adrien</td>\n",
       "    </tr>\n",
       "    <tr>\n",
       "      <th>2</th>\n",
       "      <td>MOULIN Loic</td>\n",
       "      <td>ARA</td>\n",
       "      <td>IR2</td>\n",
       "      <td>1992</td>\n",
       "      <td>SEM</td>\n",
       "      <td>0 days 00:32:01</td>\n",
       "      <td>0 days 00:01:03</td>\n",
       "      <td>1921.0</td>\n",
       "      <td>MOULIN</td>\n",
       "      <td>Loic</td>\n",
       "    </tr>\n",
       "    <tr>\n",
       "      <th>3</th>\n",
       "      <td>DEBROUCKER Guillaume</td>\n",
       "      <td>ARA</td>\n",
       "      <td>IR2</td>\n",
       "      <td>1982</td>\n",
       "      <td>M1M</td>\n",
       "      <td>0 days 00:32:15</td>\n",
       "      <td>0 days 00:01:17</td>\n",
       "      <td>1935.0</td>\n",
       "      <td>DEBROUCKER</td>\n",
       "      <td>Guillaume</td>\n",
       "    </tr>\n",
       "    <tr>\n",
       "      <th>4</th>\n",
       "      <td>KEMEI Charles</td>\n",
       "      <td>ARA</td>\n",
       "      <td>IR2</td>\n",
       "      <td>1984</td>\n",
       "      <td>M0M</td>\n",
       "      <td>0 days 00:32:40</td>\n",
       "      <td>0 days 00:01:42</td>\n",
       "      <td>1960.0</td>\n",
       "      <td>KEMEI</td>\n",
       "      <td>Charles</td>\n",
       "    </tr>\n",
       "  </tbody>\n",
       "</table>\n",
       "</div>"
      ],
      "text/plain": [
       "                Athlète Ligue Performance  Naissance Catégorie  \\\n",
       "0      LORTON Guillaume   ARA          N4       1989       SEM   \n",
       "1         BETRON Adrien   ARA         IR1       1989       SEM   \n",
       "2           MOULIN Loic   ARA         IR2       1992       SEM   \n",
       "3  DEBROUCKER Guillaume   ARA         IR2       1982       M1M   \n",
       "4         KEMEI Charles   ARA         IR2       1984       M0M   \n",
       "\n",
       "        time_delta         time_gap  duration         Nom     Prénom  \n",
       "0  0 days 00:30:58  0 days 00:00:00    1858.0      LORTON  Guillaume  \n",
       "1  0 days 00:31:30  0 days 00:00:32    1890.0      BETRON     Adrien  \n",
       "2  0 days 00:32:01  0 days 00:01:03    1921.0      MOULIN       Loic  \n",
       "3  0 days 00:32:15  0 days 00:01:17    1935.0  DEBROUCKER  Guillaume  \n",
       "4  0 days 00:32:40  0 days 00:01:42    1960.0       KEMEI    Charles  "
      ]
     },
     "execution_count": 3,
     "metadata": {},
     "output_type": "execute_result"
    }
   ],
   "source": [
    "data.head()"
   ]
  }
 ],
 "metadata": {
  "kernelspec": {
   "display_name": "Python 3 (ipykernel)",
   "language": "python",
   "name": "python3"
  },
  "language_info": {
   "codemirror_mode": {
    "name": "ipython",
    "version": 3
   },
   "file_extension": ".py",
   "mimetype": "text/x-python",
   "name": "python",
   "nbconvert_exporter": "python",
   "pygments_lexer": "ipython3",
   "version": "3.10.4"
  }
 },
 "nbformat": 4,
 "nbformat_minor": 5
}
