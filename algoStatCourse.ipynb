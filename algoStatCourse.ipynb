{
 "cells": [
  {
   "cell_type": "code",
   "execution_count": 1,
   "id": "630292ef",
   "metadata": {},
   "outputs": [],
   "source": [
    "#Algorithmes pour séparer les couteurs en catégories et identifier les pics de performance"
   ]
  },
  {
   "cell_type": "code",
   "execution_count": 5,
   "id": "19d39a20",
   "metadata": {},
   "outputs": [],
   "source": [
    "import pandas as pd\n",
    "import numpy as np\n",
    "import matplotlib.pyplot as plt\n",
    "import math\n",
    "import statsmodels.tsa.filters.hp_filter as stat\n",
    "\n",
    "import seaborn as sns\n",
    "from datetime import datetime\n",
    "import time\n",
    "import scipy"
   ]
  },
  {
   "cell_type": "code",
   "execution_count": 6,
   "id": "f14f197a",
   "metadata": {},
   "outputs": [],
   "source": [
    "data=pd.read_csv(\"10_km_Riorges.csv\")"
   ]
  },
  {
   "cell_type": "code",
   "execution_count": 7,
   "id": "399459b8",
   "metadata": {},
   "outputs": [
    {
     "data": {
      "text/html": [
       "<div>\n",
       "<style scoped>\n",
       "    .dataframe tbody tr th:only-of-type {\n",
       "        vertical-align: middle;\n",
       "    }\n",
       "\n",
       "    .dataframe tbody tr th {\n",
       "        vertical-align: top;\n",
       "    }\n",
       "\n",
       "    .dataframe thead th {\n",
       "        text-align: right;\n",
       "    }\n",
       "</style>\n",
       "<table border=\"1\" class=\"dataframe\">\n",
       "  <thead>\n",
       "    <tr style=\"text-align: right;\">\n",
       "      <th></th>\n",
       "      <th>Athlète</th>\n",
       "      <th>Ligue</th>\n",
       "      <th>Performance</th>\n",
       "      <th>Naissance</th>\n",
       "      <th>Catégorie</th>\n",
       "      <th>time_delta</th>\n",
       "      <th>time_gap</th>\n",
       "      <th>duration</th>\n",
       "      <th>Nom</th>\n",
       "      <th>Prénom</th>\n",
       "    </tr>\n",
       "  </thead>\n",
       "  <tbody>\n",
       "    <tr>\n",
       "      <th>0</th>\n",
       "      <td>LORTON Guillaume</td>\n",
       "      <td>ARA</td>\n",
       "      <td>N4</td>\n",
       "      <td>1989</td>\n",
       "      <td>SEM</td>\n",
       "      <td>0 days 00:30:58</td>\n",
       "      <td>0 days 00:00:00</td>\n",
       "      <td>1858.0</td>\n",
       "      <td>LORTON</td>\n",
       "      <td>Guillaume</td>\n",
       "    </tr>\n",
       "    <tr>\n",
       "      <th>1</th>\n",
       "      <td>BETRON Adrien</td>\n",
       "      <td>ARA</td>\n",
       "      <td>IR1</td>\n",
       "      <td>1989</td>\n",
       "      <td>SEM</td>\n",
       "      <td>0 days 00:31:30</td>\n",
       "      <td>0 days 00:00:32</td>\n",
       "      <td>1890.0</td>\n",
       "      <td>BETRON</td>\n",
       "      <td>Adrien</td>\n",
       "    </tr>\n",
       "    <tr>\n",
       "      <th>2</th>\n",
       "      <td>MOULIN Loic</td>\n",
       "      <td>ARA</td>\n",
       "      <td>IR2</td>\n",
       "      <td>1992</td>\n",
       "      <td>SEM</td>\n",
       "      <td>0 days 00:32:01</td>\n",
       "      <td>0 days 00:01:03</td>\n",
       "      <td>1921.0</td>\n",
       "      <td>MOULIN</td>\n",
       "      <td>Loic</td>\n",
       "    </tr>\n",
       "    <tr>\n",
       "      <th>3</th>\n",
       "      <td>DEBROUCKER Guillaume</td>\n",
       "      <td>ARA</td>\n",
       "      <td>IR2</td>\n",
       "      <td>1982</td>\n",
       "      <td>M1M</td>\n",
       "      <td>0 days 00:32:15</td>\n",
       "      <td>0 days 00:01:17</td>\n",
       "      <td>1935.0</td>\n",
       "      <td>DEBROUCKER</td>\n",
       "      <td>Guillaume</td>\n",
       "    </tr>\n",
       "    <tr>\n",
       "      <th>4</th>\n",
       "      <td>KEMEI Charles</td>\n",
       "      <td>ARA</td>\n",
       "      <td>IR2</td>\n",
       "      <td>1984</td>\n",
       "      <td>M0M</td>\n",
       "      <td>0 days 00:32:40</td>\n",
       "      <td>0 days 00:01:42</td>\n",
       "      <td>1960.0</td>\n",
       "      <td>KEMEI</td>\n",
       "      <td>Charles</td>\n",
       "    </tr>\n",
       "    <tr>\n",
       "      <th>...</th>\n",
       "      <td>...</td>\n",
       "      <td>...</td>\n",
       "      <td>...</td>\n",
       "      <td>...</td>\n",
       "      <td>...</td>\n",
       "      <td>...</td>\n",
       "      <td>...</td>\n",
       "      <td>...</td>\n",
       "      <td>...</td>\n",
       "      <td>...</td>\n",
       "    </tr>\n",
       "    <tr>\n",
       "      <th>245</th>\n",
       "      <td>BARTASSOT Jean</td>\n",
       "      <td>0</td>\n",
       "      <td>D8</td>\n",
       "      <td>1980</td>\n",
       "      <td>M1M</td>\n",
       "      <td>0 days 01:05:58</td>\n",
       "      <td>0 days 00:35:00</td>\n",
       "      <td>3958.0</td>\n",
       "      <td>BARTASSOT</td>\n",
       "      <td>Jean</td>\n",
       "    </tr>\n",
       "    <tr>\n",
       "      <th>246</th>\n",
       "      <td>SURGET Laurent</td>\n",
       "      <td>0</td>\n",
       "      <td>D8</td>\n",
       "      <td>1965</td>\n",
       "      <td>M4M</td>\n",
       "      <td>0 days 01:06:37</td>\n",
       "      <td>0 days 00:35:39</td>\n",
       "      <td>3997.0</td>\n",
       "      <td>SURGET</td>\n",
       "      <td>Laurent</td>\n",
       "    </tr>\n",
       "    <tr>\n",
       "      <th>247</th>\n",
       "      <td>GENEVOIS Magali</td>\n",
       "      <td>0</td>\n",
       "      <td>D8</td>\n",
       "      <td>1986</td>\n",
       "      <td>M0F</td>\n",
       "      <td>0 days 01:07:18</td>\n",
       "      <td>0 days 00:36:20</td>\n",
       "      <td>4038.0</td>\n",
       "      <td>GENEVOIS</td>\n",
       "      <td>Magali</td>\n",
       "    </tr>\n",
       "    <tr>\n",
       "      <th>248</th>\n",
       "      <td>CAVELIER Clementine</td>\n",
       "      <td>0</td>\n",
       "      <td>D8</td>\n",
       "      <td>1990</td>\n",
       "      <td>SEF</td>\n",
       "      <td>0 days 01:07:20</td>\n",
       "      <td>0 days 00:36:22</td>\n",
       "      <td>4040.0</td>\n",
       "      <td>CAVELIER</td>\n",
       "      <td>Clementine</td>\n",
       "    </tr>\n",
       "    <tr>\n",
       "      <th>249</th>\n",
       "      <td>MOUGNAUD Bertrand</td>\n",
       "      <td>0</td>\n",
       "      <td>D8</td>\n",
       "      <td>1987</td>\n",
       "      <td>M0M</td>\n",
       "      <td>0 days 01:10:45</td>\n",
       "      <td>0 days 00:39:47</td>\n",
       "      <td>4245.0</td>\n",
       "      <td>MOUGNAUD</td>\n",
       "      <td>Bertrand</td>\n",
       "    </tr>\n",
       "  </tbody>\n",
       "</table>\n",
       "<p>250 rows × 10 columns</p>\n",
       "</div>"
      ],
      "text/plain": [
       "                  Athlète Ligue Performance  Naissance Catégorie  \\\n",
       "0        LORTON Guillaume   ARA          N4       1989       SEM   \n",
       "1           BETRON Adrien   ARA         IR1       1989       SEM   \n",
       "2             MOULIN Loic   ARA         IR2       1992       SEM   \n",
       "3    DEBROUCKER Guillaume   ARA         IR2       1982       M1M   \n",
       "4           KEMEI Charles   ARA         IR2       1984       M0M   \n",
       "..                    ...   ...         ...        ...       ...   \n",
       "245        BARTASSOT Jean     0          D8       1980       M1M   \n",
       "246        SURGET Laurent     0          D8       1965       M4M   \n",
       "247       GENEVOIS Magali     0          D8       1986       M0F   \n",
       "248   CAVELIER Clementine     0          D8       1990       SEF   \n",
       "249     MOUGNAUD Bertrand     0          D8       1987       M0M   \n",
       "\n",
       "          time_delta         time_gap  duration         Nom      Prénom  \n",
       "0    0 days 00:30:58  0 days 00:00:00    1858.0      LORTON   Guillaume  \n",
       "1    0 days 00:31:30  0 days 00:00:32    1890.0      BETRON      Adrien  \n",
       "2    0 days 00:32:01  0 days 00:01:03    1921.0      MOULIN        Loic  \n",
       "3    0 days 00:32:15  0 days 00:01:17    1935.0  DEBROUCKER   Guillaume  \n",
       "4    0 days 00:32:40  0 days 00:01:42    1960.0       KEMEI     Charles  \n",
       "..               ...              ...       ...         ...         ...  \n",
       "245  0 days 01:05:58  0 days 00:35:00    3958.0   BARTASSOT        Jean  \n",
       "246  0 days 01:06:37  0 days 00:35:39    3997.0      SURGET     Laurent  \n",
       "247  0 days 01:07:18  0 days 00:36:20    4038.0    GENEVOIS      Magali  \n",
       "248  0 days 01:07:20  0 days 00:36:22    4040.0    CAVELIER  Clementine  \n",
       "249  0 days 01:10:45  0 days 00:39:47    4245.0    MOUGNAUD    Bertrand  \n",
       "\n",
       "[250 rows x 10 columns]"
      ]
     },
     "execution_count": 7,
     "metadata": {},
     "output_type": "execute_result"
    }
   ],
   "source": [
    "data"
   ]
  },
  {
   "cell_type": "code",
   "execution_count": 8,
   "id": "165af34b",
   "metadata": {},
   "outputs": [],
   "source": [
    "dur=data['duration']\n"
   ]
  },
  {
   "cell_type": "code",
   "execution_count": 9,
   "id": "19fee8c8",
   "metadata": {},
   "outputs": [],
   "source": [
    "def dens(dur,**kwargs):\n",
    "    #calcule une densité d'un itérable\n",
    "    #**kwargs vont etre redonnés à la fonction maptplotlib.pyplot.hist \n",
    "    #l'argument density est forcé à : True\n",
    "    #input :  dur, itérable (liste, série...) de dimension 1\n",
    "    #output : dens : array nupmy de dimension 2\n",
    "    \n",
    "    kwargs['density'] = True\n",
    "    h=plt.hist(dur, **kwargs)\n",
    "    xhist = []\n",
    "    plt.close()\n",
    "    for i in range (len(h[1])-1):\n",
    "        x = (h[1][i+1]+h[1][i])/2\n",
    "        xhist.append(x)\n",
    "    \n",
    "\n",
    "    densite=np.zeros((2, len(xhist)))\n",
    "    densite[0,:] = xhist\n",
    "    densite[1,:] = h[0]\n",
    "    return densite\n"
   ]
  },
  {
   "cell_type": "code",
   "execution_count": 11,
   "id": "3e6042d2",
   "metadata": {},
   "outputs": [
    {
     "data": {
      "text/plain": [
       "array([[1.95745833e+03, 2.15637500e+03, 2.35529167e+03, 2.55420833e+03,\n",
       "        2.75312500e+03, 2.95204167e+03, 3.15095833e+03, 3.34987500e+03,\n",
       "        3.54879167e+03, 3.74770833e+03, 3.94662500e+03, 4.14554167e+03],\n",
       "       [1.60871387e-04, 6.03267700e-04, 7.03812317e-04, 7.44030163e-04,\n",
       "        6.43485547e-04, 5.02723083e-04, 5.22832007e-04, 5.42940930e-04,\n",
       "        4.22287390e-04, 4.02178467e-05, 1.20653540e-04, 2.01089233e-05]])"
      ]
     },
     "execution_count": 11,
     "metadata": {},
     "output_type": "execute_result"
    }
   ],
   "source": [
    "densite = dens(data['duration'], bins=12)\n",
    "densite\n"
   ]
  },
  {
   "cell_type": "code",
   "execution_count": 19,
   "id": "3cc2f269",
   "metadata": {},
   "outputs": [
    {
     "data": {
      "text/plain": [
       "array([[ 1.95745833e+03,  2.15637500e+03,  2.35529167e+03,\n",
       "         2.55420833e+03,  2.75312500e+03,  2.95204167e+03,\n",
       "         3.15095833e+03,  3.34987500e+03,  3.54879167e+03,\n",
       "         3.74770833e+03,  3.94662500e+03,  4.14554167e+03],\n",
       "       [-2.37651182e-05,  3.50334081e-05, -1.03685806e-05,\n",
       "         8.87094354e-06,  3.31919486e-06, -2.41857378e-05,\n",
       "        -3.45309733e-06,  1.56046306e-05,  3.77148571e-05,\n",
       "        -6.83323890e-05,  3.36791307e-05, -4.11724179e-06],\n",
       "       [ 1.84636505e-04,  5.68234292e-04,  7.14180897e-04,\n",
       "         7.35159220e-04,  6.40166352e-04,  5.26908821e-04,\n",
       "         5.26285104e-04,  5.27336299e-04,  3.84572533e-04,\n",
       "         1.08550236e-04,  8.69744093e-05,  2.42261651e-05]])"
      ]
     },
     "execution_count": 19,
     "metadata": {},
     "output_type": "execute_result"
    }
   ],
   "source": [
    "def separate(densite):\n",
    "    #prend en argument un array numpy de valeurs et sépare le signal en \"tendance\" et \"bruit\" avec un lambda de 0.1\n",
    "    #input :  densite : array numpy de dimension 2, taille (k,n),\n",
    "    #output : array nupmy de dimension 2, taille (k+1,n)\n",
    "  \n",
    "    b,t = stat.hpfilter(densite[-1,:],lamb = 0.1)\n",
    "    result = np.zeros((len(densite)+1,len(densite[0])))\n",
    "    result[0:len(densite),:]= densite\n",
    "    result[-2]= b\n",
    "    result[-1]=t\n",
    "    return result\n",
    "\n",
    "brten=separate(densite)\n",
    "brten"
   ]
  },
  {
   "cell_type": "code",
   "execution_count": 13,
   "id": "0c86dd10",
   "metadata": {},
   "outputs": [
    {
     "data": {
      "text/plain": [
       "(12,)"
      ]
     },
     "execution_count": 13,
     "metadata": {},
     "output_type": "execute_result"
    }
   ],
   "source": [
    "densite[0].shape\n"
   ]
  },
  {
   "cell_type": "code",
   "execution_count": 14,
   "id": "8d931ef9",
   "metadata": {},
   "outputs": [
    {
     "data": {
      "image/png": "[encoded data removed]",
      "text/plain": [
       "<Figure size 432x288 with 1 Axes>"
      ]
     },
     "metadata": {
      "needs_background": "light"
     },
     "output_type": "display_data"
    }
   ],
   "source": [
    "plt.plot(brten[0],densite[1], color = \"blue\", label = 'courbe')\n",
    "plt.plot(brten[0],brten[1], color = \"red\", label = 'bruit')\n",
    "plt.plot(brten[0],brten[2], color = \"cyan\", label = 'tendance')\n",
    "plt.fill_between(brten[0],densite[1], alpha=0.3)\n",
    "\n",
    "plt.legend()\n",
    "plt.show()\n"
   ]
  },
  {
   "cell_type": "code",
   "execution_count": null,
   "id": "e67357cd",
   "metadata": {},
   "outputs": [],
   "source": []
  },
  {
   "cell_type": "code",
   "execution_count": 16,
   "id": "ea87a9f9",
   "metadata": {},
   "outputs": [
    {
     "name": "stdout",
     "output_type": "stream",
     "text": [
      "<class 'scipy.interpolate.interpolate.interp1d'>\n"
     ]
    },
    {
     "data": {
      "image/png": "[encoded data removed]",
      "text/plain": [
       "<Figure size 432x288 with 1 Axes>"
      ]
     },
     "metadata": {
      "needs_background": "light"
     },
     "output_type": "display_data"
    }
   ],
   "source": [
    "proxlin = scipy.interpolate.interp1d(densite[0],densite[1], kind = 'linear')\n",
    "poly = scipy.interpolate.splrep(densite[0],brten[2]) #fabrication du polynôme interpolateur sur la tendance seulement, le bruit a tendance à faire des oscillations\n",
    "x=np.linspace(densite[0,0],densite[0,-1], int(1e6))\n",
    "ylin = proxlin(x)\n",
    "ycub=scipy.interpolate.splev(x,poly, der=0)\n",
    "\n",
    "plt.fill_between(densite[0],densite[1], alpha=0.3)\n",
    "\n",
    "plt.plot(densite[0],densite[1],x,ycub)\n",
    "\n",
    "\n",
    "\n",
    "\n"
   ]
  },
  {
   "cell_type": "code",
   "execution_count": 34,
   "id": "862052ea",
   "metadata": {},
   "outputs": [
    {
     "data": {
      "image/png": "[encoded data removed]",
      "text/plain": [
       "<Figure size 432x288 with 1 Axes>"
      ]
     },
     "metadata": {
      "needs_background": "light"
     },
     "output_type": "display_data"
    }
   ],
   "source": [
    "def lissage (x, sep=False, kind = 'cubic'): #sans **kwargs pour simplifier son utilisation\n",
    "    #prend en argument un ensemble de points à interpoler stockés dans un array numpy et retourne la fonction d'interpolation cubique\n",
    "    # Input : x : array numpy de dimension 2, taille(2,n) avec les abscisses des points à interpoler dans x[0] et leurs ordonnées dans x[1]\n",
    "    #       sep : booléen. True si le signal doit être filtré par un HP filter\n",
    "    if sep ==True :\n",
    "        t=separate(x)[2]\n",
    "    else :\n",
    "        t=x[1]\n",
    "    if kind == 'cubic':\n",
    "        poly = scipy.interpolate.splrep(x[0],t)\n",
    "        def f (X):\n",
    "            return(scipy.interpolate.splev(X,poly, der=0))\n",
    "        \n",
    "    else :\n",
    "        interp=(scipy.interpolate.interp1d(x[0],t, kind='linear'))\n",
    "        def f (X):\n",
    "            return interp(X)\n",
    "            \n",
    "    return f\n",
    "\n",
    "\n",
    "f=lissage(densite)\n",
    "g=lissage(densite, kind = 'linear')\n",
    "plt.plot(x,f(x), label = \"cubic\")\n",
    "plt.plot(x,g(x), label = \"linear\")\n",
    "plt.legend()\n",
    "plt.show()\n",
    "\n",
    "    \n",
    "    "
   ]
  },
  {
   "cell_type": "code",
   "execution_count": 65,
   "id": "3b4fa17b",
   "metadata": {},
   "outputs": [
    {
     "name": "stderr",
     "output_type": "stream",
     "text": [
      "C:\\Users\\tayoy\\AppData\\Local\\Temp/ipykernel_12124/1367138224.py:2: IntegrationWarning: The maximum number of subdivisions (50) has been achieved.\n",
      "  If increasing the limit yields no improvement it is advised to analyze \n",
      "  the integrand in order to determine the difficulties.  If the position of a \n",
      "  local difficulty can be determined (singularity, discontinuity) one will \n",
      "  probably gain from splitting up the interval and calling the integrator \n",
      "  on the subranges.  Perhaps a special-purpose integrator should be used.\n",
      "  scipy.integrate.quad(lambda x: proxlin(x),densite[0][0], densite[0][-1])\n"
     ]
    },
    {
     "data": {
      "text/plain": [
       "(0.9925168327790789, 6.901821989123772e-09)"
      ]
     },
     "execution_count": 65,
     "metadata": {},
     "output_type": "execute_result"
    }
   ],
   "source": [
    "#test de fonctionnement 1:\n",
    "scipy.integrate.quad(lambda x: proxlin(x),densite[0][0], densite[0][-1])\n",
    "# (0.9819998389448525, 1.329241666736536e-07)\n",
    "\n",
    "#test de fonctionnement2:\n",
    "scipy.integrate.quad(lambda x: scipy.interpolate.splev(x,poly),densite[0][0], densite[0][-1])\n",
    "(0.9925168327790789, 6.901821989123772e-09)"
   ]
  },
  {
   "cell_type": "code",
   "execution_count": null,
   "id": "c56fc62d",
   "metadata": {},
   "outputs": [],
   "source": []
  }
 ],
 "metadata": {
  "kernelspec": {
   "display_name": "Python 3 (ipykernel)",
   "language": "python",
   "name": "python3"
  },
  "language_info": {
   "codemirror_mode": {
    "name": "ipython",
    "version": 3
   },
   "file_extension": ".py",
   "mimetype": "text/x-python",
   "name": "python",
   "nbconvert_exporter": "python",
   "pygments_lexer": "ipython3",
   "version": "3.9.7"
  }
 },
 "nbformat": 4,
 "nbformat_minor": 5
}
