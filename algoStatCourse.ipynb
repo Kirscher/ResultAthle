{
 "cells": [
  {
   "cell_type": "code",
   "execution_count": 1,
   "id": "630292ef",
   "metadata": {},
   "outputs": [],
   "source": [
    "#Algorithmes pour séparer les couteurs en catégories et identifier les pics de performance"
   ]
  },
  {
   "cell_type": "code",
   "execution_count": 2,
   "id": "19d39a20",
   "metadata": {},
   "outputs": [],
   "source": [
    "import pandas as pd\n",
    "import numpy as np\n",
    "import matplotlib.pyplot as plt\n",
    "import matplotlib.lines as pltlines\n",
    "import math\n",
    "import statsmodels.tsa.filters.hp_filter as stat\n",
    "\n",
    "import seaborn as sns\n",
    "from datetime import datetime\n",
    "import time\n",
    "import scipy"
   ]
  },
  {
   "cell_type": "code",
   "execution_count": 3,
   "id": "19fee8c8",
   "metadata": {},
   "outputs": [],
   "source": [
    "def dens(dur,**kwargs):\n",
    "    #calcule une densité d'un itérable\n",
    "    #**kwargs vont etre redonnés à la fonction maptplotlib.pyplot.hist \n",
    "    #l'argument density est forcé à : True\n",
    "    #input :  dur, itérable (liste, série...) de dimension 1\n",
    "    #output : dens : array nupmy de dimension 2\n",
    "    \n",
    "    kwargs['density'] = True\n",
    "    h=plt.hist(dur, **kwargs)\n",
    "    xhist = []\n",
    "    plt.close()\n",
    "    for i in range (len(h[1])-1):\n",
    "        x = (h[1][i+1]+h[1][i])/2\n",
    "        xhist.append(x)\n",
    "    \n",
    "\n",
    "    densite=np.zeros((2, len(xhist)))\n",
    "    densite[0,:] = xhist\n",
    "    densite[1,:] = h[0]\n",
    "    return densite\n"
   ]
  },
  {
   "cell_type": "code",
   "execution_count": 4,
   "id": "3cc2f269",
   "metadata": {},
   "outputs": [],
   "source": [
    "def separate(densite):\n",
    "    #prend en argument un array numpy de valeurs et sépare le signal en \"tendance\" et \"bruit\" avec un lambda de 0.1\n",
    "    #input :  densite : array numpy de dimension 2, taille (k,n),\n",
    "    #output : array nupmy de dimension 2, taille (k+1,n)\n",
    "  \n",
    "    b,t = stat.hpfilter(densite[-1,:],lamb = 0.1)\n",
    "    result = np.zeros((len(densite)+1,len(densite[0])))\n",
    "    result[0:len(densite),:]= densite\n",
    "    result[-2]= b\n",
    "    result[-1]=t\n",
    "    return result\n",
    "\n"
   ]
  },
  {
   "cell_type": "code",
   "execution_count": 5,
   "id": "862052ea",
   "metadata": {},
   "outputs": [],
   "source": [
    "def lissage (x, sep=False, kind = 'cubic'): #sans **kwargs pour simplifier son utilisation\n",
    "    #prend en argument un ensemble de points à interpoler stockés dans un array numpy et retourne la fonction d'interpolation cubique\n",
    "    # Input :    x : array numpy de dimension 2, taille(2,n) avec les abscisses des points à interpoler dans x[0] et leurs ordonnées dans x[1]\n",
    "    #          sep : booléen. True si le signal doit être filtré par un HP filter\n",
    "    # Output :   f : fonction d'une seule variable.\n",
    "    if sep ==True :\n",
    "        t=separate(x)[2]\n",
    "    else :\n",
    "        t=x[1]\n",
    "    if kind == 'cubic':\n",
    "        poly = scipy.interpolate.splrep(x[0],t)\n",
    "        def f (X):\n",
    "            return(scipy.interpolate.splev(X,poly, der=0))\n",
    "        \n",
    "    else :\n",
    "        interp=(scipy.interpolate.interp1d(x[0],t, kind='linear'))\n",
    "        def f (X):\n",
    "            return interp(X)\n",
    "            \n",
    "    return f\n",
    "\n",
    "\n",
    "\n",
    "\n",
    "    "
   ]
  },
  {
   "cell_type": "code",
   "execution_count": 6,
   "id": "0805f57e",
   "metadata": {},
   "outputs": [],
   "source": [
    "def perfgoals(A):\n",
    "    #Fonction qui retrouve les pics de densité dans une distribution estimée.\n",
    "    #input :        A : array numpy de dimension 2, taille (2,n) avec A[0] les abscisses et A[1] les ordonnées des points mesurés\n",
    "    #output :realTops : liste conteant les abscisses où les pics ont été trouvés.\n",
    "    signal=separate(A)\n",
    "    poly = scipy.interpolate.splrep(signal[0], signal[1])\n",
    "    #derivee du bruit\n",
    "    def f1(x): \n",
    "        return 1e2*scipy.interpolate.splev(x, poly, der = 1)\n",
    "    #derivee seconde pour la concavite\n",
    "    def f2(x):\n",
    "        return 1e2*scipy.interpolate.splev(x, poly, der = 2)\n",
    "    guess = signal[0] #on s'attend à ce que les points critiques soient proches des points où la é est mesurée\n",
    "    \n",
    "    roots = scipy.optimize.root(f1, guess).x #trouve les zéros de f1\n",
    "#     print(f\"racines : {roots}\")\n",
    "    roots = list(set(np.floor(roots))) #floor permet de se limiter aux valeurs entieres et eliminer les doublons dus a scipy.optimize.root\n",
    "#     print(f\"floor : {roots}\")\n",
    "    roots=sorted(roots) \n",
    "#     print((f\"sorted : {roots}\"))\n",
    "\n",
    "    tops = []\n",
    "    for i in range (len(roots)):\n",
    "        if f2(roots[i])<0:       #selection des maximums parmi les points critiques\n",
    "            tops.append(roots[i])\n",
    "    print(tops)\n",
    "    realTops = []\n",
    "    for i in tops:\n",
    "        ind=np.argmin(abs(signal[0]-i))\n",
    "        print(f'Comparaison : {signal[0,ind]} , {i}')\n",
    "        realTops=realTops+[signal[0, ind]]\n",
    "    return realTops\n",
    "    \n",
    "    "
   ]
  },
  {
   "cell_type": "code",
   "execution_count": null,
   "id": "f14f197a",
   "metadata": {},
   "outputs": [],
   "source": [
    "data=pd.read_csv(\"10_km_Riorges.csv\")"
   ]
  },
  {
   "cell_type": "code",
   "execution_count": null,
   "id": "399459b8",
   "metadata": {},
   "outputs": [],
   "source": [
    "data.head()"
   ]
  },
  {
   "cell_type": "code",
   "execution_count": null,
   "id": "165af34b",
   "metadata": {},
   "outputs": [],
   "source": [
    "dur=data['duration']\n",
    "densite = dens(dur, bins = 12)\n"
   ]
  },
  {
   "cell_type": "code",
   "execution_count": null,
   "id": "8d931ef9",
   "metadata": {},
   "outputs": [],
   "source": [
    "brten = separate(densite)\n",
    "plt.plot(brten[0],densite[1], color = \"blue\", label = 'courbe')\n",
    "plt.plot(brten[0],brten[1], color = \"red\", label = 'bruit')\n",
    "plt.plot(brten[0],brten[2], color = \"cyan\", linestyle = 'dashed',label = 'tendance')\n",
    "plt.fill_between(brten[0],densite[1], alpha=0.3)\n",
    "plt.axhline(0)\n",
    "plt.legend()\n",
    "plt.show()\n"
   ]
  },
  {
   "cell_type": "code",
   "execution_count": null,
   "id": "b98bad2b",
   "metadata": {},
   "outputs": [],
   "source": [
    "f=lissage(densite) \n",
    "g=lissage(densite, kind = 'linear') #l'originale\n",
    "h=lissage(densite, kind = 'cubic', sep=True)\n",
    "\n",
    "x=np.linspace(densite[0,0],densite[0,-1], int(1e5))\n",
    "plt.fill_between(x,f(x), alpha = 0.3)\n",
    "plt.plot(x,f(x), label = \"cubic\")\n",
    "plt.plot(x,g(x), color = 'black', linestyle = 'dashed',label = \"Originale\")\n",
    "plt.plot(x,h(x), label = \"tendance cubic\")\n",
    "plt.axhline(0, color='black')\n",
    "plt.legend()\n",
    "plt.title('Différences entre interpolations')\n",
    "plt.show()"
   ]
  },
  {
   "cell_type": "code",
   "execution_count": null,
   "id": "3b4fa17b",
   "metadata": {},
   "outputs": [],
   "source": [
    "#test de fonctionnement 1: densite orginale\n",
    "print(scipy.integrate.quad(lambda x : lissage(densite,sep=False, kind = 'linear')(x),densite[0][0], densite[0][-1]))\n",
    "# (0.9819998389448525, 1.329241666736536e-07)\n",
    "#l'interpolation linéaire fait lever un warning lors de l'intégration car elle est affine par morceaux.\n",
    "\n",
    "#test de fonctionnement2: tendance de la densite interpolee \n",
    "print(scipy.integrate.quad(lambda x: lissage(densite, sep = True)(x),densite[0][0], densite[0][-1]))\n",
    "#(0.9925168327790789, 6.901821989123772e-09)\n",
    "\n",
    "#l'interpolation cubique d'une fonction lissée donne une intégrale proche de 1 à 1e-2 pres, c'est satisfaisant."
   ]
  },
  {
   "cell_type": "code",
   "execution_count": null,
   "id": "c56fc62d",
   "metadata": {},
   "outputs": [],
   "source": [
    "x= np.linspace(brten[0,0],brten[0,-1], int(1e5)) # abscisses du tracé\n",
    "\n",
    "poly = scipy.interpolate.splrep(brten[0],brten[1]) #interpolation polynomiale par morceaux\n",
    "def f0(x):\n",
    "    return scipy.interpolate.splev(x, poly, der = 0) #fonction de bruit interpolee\n",
    "def f1(x):\n",
    "    return 1e2*scipy.interpolate.splev(x, poly, der = 1) #derivee de la fonction de bruit\n",
    "def f2(x):\n",
    "    return 1e2*scipy.interpolate.splev(x, poly, der = 2) #derivee seconde (pour tests de concavite)\n",
    "\n",
    "h0 = f0(x)\n",
    "h1 = f1(x)\n",
    "plt.plot(brten[0], brten[1], label = 'bruit original')\n",
    "plt.plot(x,h0, label = 'interp')\n",
    "plt.plot(x,h1, label = 'derivee')\n",
    "plt.legend()\n",
    "plt.axhline(0)\n"
   ]
  },
  {
   "cell_type": "code",
   "execution_count": null,
   "id": "3ea0feb1",
   "metadata": {},
   "outputs": [],
   "source": [
    "guess = densite[0] #on s'attend à ce que les racines de f1 soient proches des abscisses originales, puisque les maximums originaux en font partie\n",
    "\n",
    "roots = scipy.optimize.root(f1, guess).x #trouve les points critiques de f\n",
    "print(f\"racines : {roots}\")\n",
    "#Les algorithmes de racines trouvent plusieurs fois les mêmes racines, à epsilon près. Supression des doublons:\n",
    "roots = list(set(np.rint(roots))) #rint (entier le plus proche) permet de se limiter aux valeurs entières et eliminer les doublons dûs à scipy.optimize.root\n",
    "print(f\"floor : {roots}\")\n",
    "roots=sorted(roots)\n",
    "print((f\"sorted : {roots}\"))\n",
    "\n",
    "tops = [] #selection des valeurs où f est concave : les maximums\n",
    "for i in range (len(roots)):\n",
    "    if f2(roots[i])<0:\n",
    "        tops.append(roots[i])\n",
    "        \n",
    "realTops = [] #valeur réelle la plus proche \n",
    "for i in tops:\n",
    "    ind=np.argmin(abs(densite[0]-i))\n",
    "    print(f'Comparaison : {densite[0,ind]} , {i}')\n",
    "    realTops=realTops+[densite[0, ind]]\n",
    "    \n",
    "\n",
    "plt.plot(brten[0], brten[1], label = 'original')\n",
    "#plt.plot(x,h0, label = 'interp')\n",
    "plt.plot(x,h1, label = 'derivee')\n",
    "plt.scatter(roots, [0]*len(roots), marker = '|', color = 'black', label = 'pts critiques')\n",
    "plt.scatter(tops, [0]*len(tops), marker = 'o', color = 'red', label = 'maximums')\n",
    "plt.scatter(realTops, [0]*len(realTops),marker = '*', color = 'orange', label = \"maximums réels\")\n",
    "plt.legend()\n",
    "plt.axhline(0)\n",
    "print(roots)\n",
    "print()\n",
    "\n",
    "\n"
   ]
  }
 ],
 "metadata": {
  "kernelspec": {
   "display_name": "Python 3 (ipykernel)",
   "language": "python",
   "name": "python3"
  },
  "language_info": {
   "codemirror_mode": {
    "name": "ipython",
    "version": 3
   },
   "file_extension": ".py",
   "mimetype": "text/x-python",
   "name": "python",
   "nbconvert_exporter": "python",
   "pygments_lexer": "ipython3",
   "version": "3.9.7"
  }
 },
 "nbformat": 4,
 "nbformat_minor": 5
}
